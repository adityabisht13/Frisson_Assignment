{
  "nbformat": 4,
  "nbformat_minor": 0,
  "metadata": {
    "colab": {
      "provenance": [],
      "authorship_tag": "ABX9TyO64BW5k6HPVwPihDB7vthj",
      "include_colab_link": true
    },
    "kernelspec": {
      "name": "python3",
      "display_name": "Python 3"
    },
    "language_info": {
      "name": "python"
    }
  },
  "cells": [
    {
      "cell_type": "markdown",
      "metadata": {
        "id": "view-in-github",
        "colab_type": "text"
      },
      "source": [
        "<a href=\"https://colab.research.google.com/github/adityabisht13/Frission_Assignment/blob/main/02_may_string.ipynb\" target=\"_parent\"><img src=\"https://colab.research.google.com/assets/colab-badge.svg\" alt=\"Open In Colab\"/></a>"
      ]
    },
    {
      "cell_type": "markdown",
      "source": [
        "   **Assignment Ques**"
      ],
      "metadata": {
        "id": "sWVdgo8xEJAQ"
      }
    },
    {
      "cell_type": "markdown",
      "source": [
        "1.Declare two variables, x and y, and assign them integer values. Swap the\n",
        "values of these variables without using any temporary variable.\n"
      ],
      "metadata": {
        "id": "Vws4hI9OD_aE"
      }
    },
    {
      "cell_type": "code",
      "source": [
        "x = 10     #assign the value to x\n",
        "y = 20     #assign the value to y\n",
        "print(f\"Before Swap : x = {x} , y = {y}\")\n",
        "x,y = y,x   # the value of x is stored into y and value of x stored in y\n",
        "print(f\"After Swap : x = {x} , y = {y}\")"
      ],
      "metadata": {
        "colab": {
          "base_uri": "https://localhost:8080/"
        },
        "id": "grWFh-HsEFLW",
        "outputId": "2b84e1f6-9a48-45a6-fc72-a514ea99fb2d"
      },
      "execution_count": null,
      "outputs": [
        {
          "output_type": "stream",
          "name": "stdout",
          "text": [
            "Before Swap : x = 10 , y = 20\n",
            "After Swap : x = 20 , y = 10\n"
          ]
        }
      ]
    },
    {
      "cell_type": "markdown",
      "source": [
        "2.Create a program that calculates the area of a rectangle. Take the length and\n",
        "width as inputs from the user and store them in variables. Calculate and\n",
        "display the area.\n",
        "\n"
      ],
      "metadata": {
        "id": "iU4YEpaQLIy9"
      }
    },
    {
      "cell_type": "code",
      "source": [
        "length = int(input(\"Enter the length : \"))  #input from user\n",
        "Width = int(input(\"Enter the Width : \"))    #input from user\n",
        "Area = length * Width     # formula of area of rectangle\n",
        "print(f\"Area is {Area}\")"
      ],
      "metadata": {
        "colab": {
          "base_uri": "https://localhost:8080/"
        },
        "id": "xRREz3mnLkNa",
        "outputId": "6b25a900-d96f-4856-d417-010b5db2db92"
      },
      "execution_count": null,
      "outputs": [
        {
          "output_type": "stream",
          "name": "stdout",
          "text": [
            "Enter the length: 20\n",
            "Enter the length: 15\n",
            "Area is 300\n"
          ]
        }
      ]
    },
    {
      "cell_type": "markdown",
      "source": [
        "\n",
        "3.Write a Python program that converts temperatures from Celsius to\n",
        "Fahrenheit. Take the temperature in Celsius as input, store it in a variable,\n",
        "convert it to Fahrenheit,and display the temperature.\n",
        "\n"
      ],
      "metadata": {
        "id": "3Mt1glj8RuO8"
      }
    },
    {
      "cell_type": "code",
      "source": [
        "Celsius = int(input(\" Enter the temperature : \"))  #input from user\n",
        "print(f\"Temperature in celsius is {Celsius}\")\n",
        "Fahrenheit = (Celsius * 9/5) + 32                  #formula of fahrenheit\n",
        "print(f\"Temperature in fahrenheit is {Fahrenheit}\")\n"
      ],
      "metadata": {
        "colab": {
          "base_uri": "https://localhost:8080/"
        },
        "id": "TNMdIr1wSB4w",
        "outputId": "8759a6ab-7869-4341-bf7e-4f38f076490a"
      },
      "execution_count": null,
      "outputs": [
        {
          "output_type": "stream",
          "name": "stdout",
          "text": [
            " Enter the temperature : 32\n",
            "Temperature in celsius is 32\n",
            "Temperature in fahrenheit is 89.6\n"
          ]
        }
      ]
    },
    {
      "cell_type": "markdown",
      "source": [
        "**Custom Function**"
      ],
      "metadata": {
        "id": "k4ADSYieUtja"
      }
    },
    {
      "cell_type": "markdown",
      "source": [
        "1.Convert string into upper case\n"
      ],
      "metadata": {
        "id": "kYWVTRUXVF__"
      }
    },
    {
      "cell_type": "code",
      "source": [
        "def upper(str_1:str)->str:\n",
        "  str_2=''\n",
        "  for char in str_1:\n",
        "    if ord(char)>=90 and ord(char)<=122:\n",
        "      temp=ord(char)-32\n",
        "      str_2+=chr(temp)\n",
        "    else:\n",
        "      str_2+=char\n",
        "  return str_2\n",
        "\n",
        "main=upper('Aditya Bisht')\n",
        "print(main)\n",
        "\n",
        "\n",
        "\n",
        "\n"
      ],
      "metadata": {
        "colab": {
          "base_uri": "https://localhost:8080/"
        },
        "id": "BqGTwCi5VTeY",
        "outputId": "4e22c2a0-24b5-4b01-ff24-d3ebd80be957"
      },
      "execution_count": 14,
      "outputs": [
        {
          "output_type": "stream",
          "name": "stdout",
          "text": [
            "ADITYA BISHT\n"
          ]
        }
      ]
    },
    {
      "cell_type": "markdown",
      "source": [
        "2.Convert string into lower case\n"
      ],
      "metadata": {
        "id": "F7ewERBvbBJm"
      }
    },
    {
      "cell_type": "code",
      "source": [
        "def lower(str_1:str)->str:\n",
        "  str_2=''\n",
        "  for char in str_1:\n",
        "    if ord(char)>=65 and ord(char)<=90:\n",
        "      temp=ord(char)+32\n",
        "      str_2+=chr(temp)\n",
        "    else:\n",
        "      str_2+=char\n",
        "  return str_2\n",
        "\n",
        "main=lower('ADITYA BISHT')\n",
        "print(main)"
      ],
      "metadata": {
        "colab": {
          "base_uri": "https://localhost:8080/"
        },
        "id": "ZJsiiSKBbIhT",
        "outputId": "62320c84-8e8c-4707-ee4c-3d40a2f13ba1"
      },
      "execution_count": 26,
      "outputs": [
        {
          "output_type": "stream",
          "name": "stdout",
          "text": [
            "aditya bisht\n"
          ]
        }
      ]
    },
    {
      "cell_type": "markdown",
      "source": [
        "3.Remove extra space from string\n"
      ],
      "metadata": {
        "id": "ve3UM2dsck9h"
      }
    },
    {
      "cell_type": "code",
      "source": [
        "def strip(str_1:str)->str:\n",
        "  first=0\n",
        "  last=len(str_1)-1\n",
        "  for i in str_1:             #this loop remove space from left (lstrip)\n",
        "    if str_1[first]==' ':\n",
        "        first+=1\n",
        "  for i in str_1:              #this loop remove space from right (rstrip)\n",
        "     if str_1[last]==' ':\n",
        "        last-=1\n",
        "  return str_1[first:last+1]\n",
        "\n",
        "main=strip('                  aditya bisht     ')\n",
        "print(main)\n"
      ],
      "metadata": {
        "colab": {
          "base_uri": "https://localhost:8080/"
        },
        "id": "_if-9RlncxKo",
        "outputId": "46b65b75-37b3-4528-ff19-c6cf10d6a7f0"
      },
      "execution_count": 32,
      "outputs": [
        {
          "output_type": "stream",
          "name": "stdout",
          "text": [
            "aditya bisht\n"
          ]
        }
      ]
    },
    {
      "cell_type": "markdown",
      "source": [
        "4.Remove extra space from start in the string\n"
      ],
      "metadata": {
        "id": "zlu1PtmKicil"
      }
    },
    {
      "cell_type": "code",
      "source": [
        "def lstrip(str_1:str)->str:\n",
        "  first=0\n",
        "  for i in str_1:             #this loop remove space from left (lstrip)\n",
        "    if str_1[first]==' ':\n",
        "        first+=1\n",
        "  return str_1[first:]\n",
        "\n",
        "main=lstrip('                  aditya bisht')\n",
        "print(main)"
      ],
      "metadata": {
        "colab": {
          "base_uri": "https://localhost:8080/"
        },
        "id": "EW_fJpW2imUe",
        "outputId": "eaff25c0-ea29-4b72-f683-ed28af381e7f"
      },
      "execution_count": 33,
      "outputs": [
        {
          "output_type": "stream",
          "name": "stdout",
          "text": [
            "aditya bisht    \n"
          ]
        }
      ]
    },
    {
      "cell_type": "markdown",
      "source": [
        "5.Remove extra space from last in the string"
      ],
      "metadata": {
        "id": "WbYTu69NjBQ3"
      }
    },
    {
      "cell_type": "code",
      "source": [
        "def rstrip(str_1:str)->str:\n",
        "  last=len(str_1)-1\n",
        "  for i in str_1:              #this loop remove space from right (rstrip)\n",
        "     if str_1[last]==' ':\n",
        "        last-=1\n",
        "  return str_1[:last+1]\n",
        "\n",
        "main=rstrip('aditya bisht      ')\n",
        "print(main)"
      ],
      "metadata": {
        "colab": {
          "base_uri": "https://localhost:8080/"
        },
        "id": "5PfBLrHHjGx1",
        "outputId": "75d90252-e94e-4c02-a89d-622e8ad64125"
      },
      "execution_count": 35,
      "outputs": [
        {
          "output_type": "stream",
          "name": "stdout",
          "text": [
            "aditya bisht\n"
          ]
        }
      ]
    },
    {
      "cell_type": "markdown",
      "source": [
        "6.Split the string"
      ],
      "metadata": {
        "id": "BGVmBUSSjfKi"
      }
    },
    {
      "cell_type": "code",
      "source": [
        "def split(str_1:str,limiter)->list:\n",
        "  list_1=[]\n",
        "  str_2=''\n",
        "  for char in str_1:\n",
        "    if char != limiter:\n",
        "      str_2+=char\n",
        "    else:\n",
        "      list_1+=[str_2]\n",
        "      str_2=''\n",
        "  list_1+=[str_2]\n",
        "  return list_1\n",
        "main = split('I am belong to , uttrakhand',\" \")\n",
        "print(main)\n",
        "\n",
        "\n",
        "\n",
        "\n",
        ""
      ],
      "metadata": {
        "colab": {
          "base_uri": "https://localhost:8080/"
        },
        "id": "FkG8ingjkF8M",
        "outputId": "4841d0b0-590c-4faa-af2e-9fe3f8869ba6"
      },
      "execution_count": 59,
      "outputs": [
        {
          "output_type": "stream",
          "name": "stdout",
          "text": [
            "['I', 'am', 'belong', 'to', ',', 'uttrakhand']\n"
          ]
        }
      ]
    },
    {
      "cell_type": "markdown",
      "source": [
        "7. replace the character"
      ],
      "metadata": {
        "id": "7X0fnqgMrwNA"
      }
    },
    {
      "cell_type": "code",
      "source": [
        "def replace(str_1:str,old:str,new:str)->str:\n",
        "  str_2=''\n",
        "  for char in str_1:\n",
        "    if char == old:\n",
        "      str_2+=new\n",
        "    else:\n",
        "      str_2+=char\n",
        "  return str_2\n",
        "main = replace('abitya','b','d')\n",
        "print(main)\n"
      ],
      "metadata": {
        "colab": {
          "base_uri": "https://localhost:8080/"
        },
        "id": "OzUU3XJNrza-",
        "outputId": "9c9444d8-fc36-4bd7-f6b4-a3c4f493d121"
      },
      "execution_count": 70,
      "outputs": [
        {
          "output_type": "stream",
          "name": "stdout",
          "text": [
            "aditya\n"
          ]
        }
      ]
    }
  ]
}