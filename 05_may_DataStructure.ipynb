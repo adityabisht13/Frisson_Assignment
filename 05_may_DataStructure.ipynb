{
  "nbformat": 4,
  "nbformat_minor": 0,
  "metadata": {
    "colab": {
      "provenance": [],
      "authorship_tag": "ABX9TyNwxwVw/OshACvmFwim+o0Q",
      "include_colab_link": true
    },
    "kernelspec": {
      "name": "python3",
      "display_name": "Python 3"
    },
    "language_info": {
      "name": "python"
    }
  },
  "cells": [
    {
      "cell_type": "markdown",
      "metadata": {
        "id": "view-in-github",
        "colab_type": "text"
      },
      "source": [
        "<a href=\"https://colab.research.google.com/github/adityabisht13/Frisson_Assignment/blob/main/05_may_DataStructure.ipynb\" target=\"_parent\"><img src=\"https://colab.research.google.com/assets/colab-badge.svg\" alt=\"Open In Colab\"/></a>"
      ]
    },
    {
      "cell_type": "markdown",
      "source": [
        "**Assignment_02**"
      ],
      "metadata": {
        "id": "1WXs20o-b0P5"
      }
    },
    {
      "cell_type": "markdown",
      "source": [
        "**String**\n"
      ],
      "metadata": {
        "id": "vfD-dsBzb2Nw"
      }
    },
    {
      "cell_type": "markdown",
      "source": [
        "1.Write a program to reverse a string."
      ],
      "metadata": {
        "id": "WHx90b6PcP3G"
      }
    },
    {
      "cell_type": "code",
      "source": [
        "str_1 = 'Hello World'\n",
        "str_1[::-1]    #reverse the string"
      ],
      "metadata": {
        "colab": {
          "base_uri": "https://localhost:8080/",
          "height": 36
        },
        "id": "E1P7uzL8cM4-",
        "outputId": "f930f810-625b-4006-89ca-638f6287000f"
      },
      "execution_count": null,
      "outputs": [
        {
          "output_type": "execute_result",
          "data": {
            "text/plain": [
              "'dlroW olleH'"
            ],
            "application/vnd.google.colaboratory.intrinsic+json": {
              "type": "string"
            }
          },
          "metadata": {},
          "execution_count": 9
        }
      ]
    },
    {
      "cell_type": "markdown",
      "source": [
        "2.Check if a string is a palindrome.\n"
      ],
      "metadata": {
        "id": "FxZSo6aOce26"
      }
    },
    {
      "cell_type": "code",
      "source": [
        "str_1 = input(\"Enter the string: \")\n",
        "if str_1 == str_1[::-1]:     #checking string\n",
        "  print('String is palindrome')\n",
        "else:\n",
        "  print('String is not palindrome')\n",
        "\n"
      ],
      "metadata": {
        "colab": {
          "base_uri": "https://localhost:8080/"
        },
        "id": "IDXdgvNUcjGv",
        "outputId": "d26ff4bb-b64c-4b0e-f16b-ace97b2c2680"
      },
      "execution_count": null,
      "outputs": [
        {
          "output_type": "stream",
          "name": "stdout",
          "text": [
            "Enter the string: nitin\n",
            "String is palindrome\n"
          ]
        }
      ]
    },
    {
      "cell_type": "markdown",
      "source": [
        "3.Convert a string to uppercase."
      ],
      "metadata": {
        "id": "0R6tUHyHdcbp"
      }
    },
    {
      "cell_type": "code",
      "source": [
        "str_1='Aditya Bisht'\n",
        "str_1.upper()    #converting string into upper"
      ],
      "metadata": {
        "colab": {
          "base_uri": "https://localhost:8080/",
          "height": 36
        },
        "id": "1PnThyKPdf2v",
        "outputId": "f2640f5f-caea-43d3-f2f3-8c02a057487c"
      },
      "execution_count": null,
      "outputs": [
        {
          "output_type": "execute_result",
          "data": {
            "text/plain": [
              "'ADITYA BISHT'"
            ],
            "application/vnd.google.colaboratory.intrinsic+json": {
              "type": "string"
            }
          },
          "metadata": {},
          "execution_count": 10
        }
      ]
    },
    {
      "cell_type": "markdown",
      "source": [
        "4.Convert a string to lowercase."
      ],
      "metadata": {
        "id": "1inNpQAQdxVo"
      }
    },
    {
      "cell_type": "code",
      "source": [
        "str_1='Aditya Bisht'\n",
        "str_1.lower()    #converting string into lower"
      ],
      "metadata": {
        "colab": {
          "base_uri": "https://localhost:8080/",
          "height": 36
        },
        "id": "cSRyYrstd3cG",
        "outputId": "a893320a-8459-4dbc-b414-fd68cfac7c1e"
      },
      "execution_count": null,
      "outputs": [
        {
          "output_type": "execute_result",
          "data": {
            "text/plain": [
              "'aditya bisht'"
            ],
            "application/vnd.google.colaboratory.intrinsic+json": {
              "type": "string"
            }
          },
          "metadata": {},
          "execution_count": 11
        }
      ]
    },
    {
      "cell_type": "markdown",
      "source": [
        "5.Count the number of vowels in a string.\n"
      ],
      "metadata": {
        "id": "cbjdcTGYd8yS"
      }
    },
    {
      "cell_type": "code",
      "source": [
        "str_1='Aditya Bisht'\n",
        "count=0\n",
        "for i in str_1:\n",
        "   if (i=='a')or(i=='e')or(i=='i')or(i=='o')or(i=='u'):  #for checking small letter\n",
        "    count+=1\n",
        "   elif (i=='A')or(i=='E')or(i=='I')or(i=='O')or(i=='U'):  #for checking capital letter\n",
        "    count+=1\n",
        "   else:\n",
        "     pass\n",
        "print(f'The number of vowel in a string are {count}')\n",
        "\n"
      ],
      "metadata": {
        "colab": {
          "base_uri": "https://localhost:8080/"
        },
        "id": "b828e_iseEWi",
        "outputId": "289ba6da-0ca0-44c7-ac66-b8691670df00"
      },
      "execution_count": null,
      "outputs": [
        {
          "output_type": "stream",
          "name": "stdout",
          "text": [
            "The number of vowel in a string are 4\n"
          ]
        }
      ]
    },
    {
      "cell_type": "markdown",
      "source": [
        "6.Count the number of consonants in a string."
      ],
      "metadata": {
        "id": "dltguiCMgKt9"
      }
    },
    {
      "cell_type": "code",
      "source": [
        "str_1 ='Aditya Bisht'\n",
        "vowel='aeiouAEIOU'\n",
        "count=0\n",
        "for i in str_1:\n",
        "  if (i not in vowel)and i != \" \": #check through membership operator\n",
        "    count+=1\n",
        "  else:\n",
        "    pass\n",
        "print(f'The number of consonant in a string are {count}')\n"
      ],
      "metadata": {
        "colab": {
          "base_uri": "https://localhost:8080/"
        },
        "id": "aM55D95agQHS",
        "outputId": "81777623-dd3a-48b4-c66c-0758d6a5c47a"
      },
      "execution_count": null,
      "outputs": [
        {
          "output_type": "stream",
          "name": "stdout",
          "text": [
            "The number of consonant in a string are 7\n"
          ]
        }
      ]
    },
    {
      "cell_type": "markdown",
      "source": [
        "7.Remove all whitespaces from a string."
      ],
      "metadata": {
        "id": "MitotWvWhU7v"
      }
    },
    {
      "cell_type": "code",
      "source": [
        "str_1 = '  Aditya   Bisht '\n",
        "str_1.replace(' ','')         #using replace function to remove white space"
      ],
      "metadata": {
        "colab": {
          "base_uri": "https://localhost:8080/",
          "height": 36
        },
        "id": "g7QySZLIhcCb",
        "outputId": "49abc656-f100-48d4-bafa-7b8d6b4568d8"
      },
      "execution_count": null,
      "outputs": [
        {
          "output_type": "execute_result",
          "data": {
            "text/plain": [
              "'AdityaBisht'"
            ],
            "application/vnd.google.colaboratory.intrinsic+json": {
              "type": "string"
            }
          },
          "metadata": {},
          "execution_count": 19
        }
      ]
    },
    {
      "cell_type": "markdown",
      "source": [
        "8.Find the length of a string without using the `len()` function.\n",
        "\n"
      ],
      "metadata": {
        "id": "KMo4QkXwiaM3"
      }
    },
    {
      "cell_type": "code",
      "source": [
        "str_1= 'aditya bisht'\n",
        "count=0\n",
        "for i in str_1:\n",
        "  count+=1\n",
        "print(f'Length of string is {count}')"
      ],
      "metadata": {
        "colab": {
          "base_uri": "https://localhost:8080/"
        },
        "id": "oiYkL-Ynih7Y",
        "outputId": "19148383-ac3e-4e97-9160-07949493b020"
      },
      "execution_count": null,
      "outputs": [
        {
          "output_type": "stream",
          "name": "stdout",
          "text": [
            "Length of string is 12\n"
          ]
        }
      ]
    },
    {
      "cell_type": "code",
      "source": [
        "#or only count string without white space\n",
        "str_1= 'aditya bisht'\n",
        "count=0\n",
        "for i in str_1:\n",
        "  if i !=' ':\n",
        "     count+=1\n",
        "print(f'Length of string is {count}')"
      ],
      "metadata": {
        "colab": {
          "base_uri": "https://localhost:8080/"
        },
        "id": "4anjUUkwjNG1",
        "outputId": "7fb9e188-440f-4167-9217-474c9e457bd6"
      },
      "execution_count": null,
      "outputs": [
        {
          "output_type": "stream",
          "name": "stdout",
          "text": [
            "Length of string is 11\n"
          ]
        }
      ]
    },
    {
      "cell_type": "markdown",
      "source": [
        "9.Check if a string contains a specific word."
      ],
      "metadata": {
        "id": "WuTQ5Qqmjsbs"
      }
    },
    {
      "cell_type": "code",
      "source": [
        "str_1 ='Aditya Bisht'\n",
        "check_word=input(\"Enter word to check \")\n",
        "if check_word in str_1:         #checking word is present in string or not\n",
        "  print('Yes word is present')\n",
        "else:\n",
        "  print('No word is not present')\n"
      ],
      "metadata": {
        "colab": {
          "base_uri": "https://localhost:8080/"
        },
        "id": "iCwVziKAjwan",
        "outputId": "c93bc0dd-4436-4611-924b-2f42d9885a36"
      },
      "execution_count": null,
      "outputs": [
        {
          "output_type": "stream",
          "name": "stdout",
          "text": [
            "Enter word to check t\n",
            "Yes word is present\n"
          ]
        }
      ]
    },
    {
      "cell_type": "markdown",
      "source": [
        "10.Replace a word in a string with another word"
      ],
      "metadata": {
        "id": "Pp0DI9xOlhK1"
      }
    },
    {
      "cell_type": "code",
      "source": [
        "str_1= 'my age is 22'\n",
        "str_1.replace('22','21')"
      ],
      "metadata": {
        "colab": {
          "base_uri": "https://localhost:8080/",
          "height": 36
        },
        "id": "QiVz93PblmBh",
        "outputId": "9cc06788-7bd5-4951-db8f-10dd031da747"
      },
      "execution_count": null,
      "outputs": [
        {
          "output_type": "execute_result",
          "data": {
            "text/plain": [
              "'my age is 21'"
            ],
            "application/vnd.google.colaboratory.intrinsic+json": {
              "type": "string"
            }
          },
          "metadata": {},
          "execution_count": 31
        }
      ]
    },
    {
      "cell_type": "markdown",
      "source": [
        "11.Count the occurrences of a word in a string."
      ],
      "metadata": {
        "id": "8QyFBCo6l8iU"
      }
    },
    {
      "cell_type": "code",
      "source": [
        "str_1='Adityaaa Biisht'\n",
        "word=input('enter the word: ')\n",
        "count=0\n",
        "for i in str_1:\n",
        "  if i == word:  #for counting the occurence of word\n",
        "    count+=1\n",
        "  else:\n",
        "    pass\n",
        "print(f'The occurence of a word is {count}')"
      ],
      "metadata": {
        "colab": {
          "base_uri": "https://localhost:8080/"
        },
        "id": "e-mFXB5TmBdZ",
        "outputId": "c96d38a8-ef95-43c4-dca5-7962464a1e4e"
      },
      "execution_count": null,
      "outputs": [
        {
          "output_type": "stream",
          "name": "stdout",
          "text": [
            "enter the word: a\n",
            "The occurence of a word is 3\n"
          ]
        }
      ]
    },
    {
      "cell_type": "markdown",
      "source": [
        "12.Find the first occurrence of a word in a string."
      ],
      "metadata": {
        "id": "cWJ2_odKm3In"
      }
    },
    {
      "cell_type": "code",
      "source": [
        "str_1='Aditya Bisht'\n",
        "a=str_1.find('i')\n",
        "print(f'The first occurence of word in the index {a}')"
      ],
      "metadata": {
        "colab": {
          "base_uri": "https://localhost:8080/"
        },
        "id": "fU_7lnuSm7q3",
        "outputId": "40cbe6ca-1628-48d1-d77a-22f1ba73af8c"
      },
      "execution_count": null,
      "outputs": [
        {
          "output_type": "stream",
          "name": "stdout",
          "text": [
            "The first occurence of word in the index 2\n"
          ]
        }
      ]
    },
    {
      "cell_type": "markdown",
      "source": [
        "13.Find the last occurrence of a word in a string.\n"
      ],
      "metadata": {
        "id": "nD-Dnf43n5mp"
      }
    },
    {
      "cell_type": "code",
      "source": [
        "str_1= 'Aditya Bisht'\n",
        "word=input('enter the word: ')\n",
        "for i in range(len(str_1)-1,-1,-1):       #reverse the loop for checking from last\n",
        "  if str_1[i] == word :                 #if the word is same print value of i (i is the index position)\n",
        "    print(f'The last occurence of word in the index {i}')\n",
        "    break                                 #break is used for only checking one word not checking another same word\n"
      ],
      "metadata": {
        "colab": {
          "base_uri": "https://localhost:8080/"
        },
        "id": "5HUZZ6WNn9cT",
        "outputId": "b7d710ba-0848-4f6a-8e18-a42c74f45f79"
      },
      "execution_count": null,
      "outputs": [
        {
          "output_type": "stream",
          "name": "stdout",
          "text": [
            "enter the word: i\n",
            "The last occurence of word in the index 8\n"
          ]
        }
      ]
    },
    {
      "cell_type": "markdown",
      "source": [
        "14.Split a string into a list of words."
      ],
      "metadata": {
        "id": "OpKNoTJopmQa"
      }
    },
    {
      "cell_type": "code",
      "source": [
        "str_1='Aditya Bisht'\n",
        "str_1.split(' ') #or str_1.split()"
      ],
      "metadata": {
        "colab": {
          "base_uri": "https://localhost:8080/"
        },
        "id": "YV7xfF9Sppbo",
        "outputId": "d1659daa-c6ca-4524-e4bb-c2ec4c75df81"
      },
      "execution_count": null,
      "outputs": [
        {
          "output_type": "execute_result",
          "data": {
            "text/plain": [
              "['Aditya', 'Bisht']"
            ]
          },
          "metadata": {},
          "execution_count": 51
        }
      ]
    },
    {
      "cell_type": "markdown",
      "source": [
        "15.Join a list of words into a string.\n"
      ],
      "metadata": {
        "id": "WWGHbd7R70z8"
      }
    },
    {
      "cell_type": "code",
      "source": [
        "l=['aditya','bisht']\n",
        "' '.join(l)"
      ],
      "metadata": {
        "colab": {
          "base_uri": "https://localhost:8080/",
          "height": 36
        },
        "id": "an6VuzE875N7",
        "outputId": "6b35822a-3dd5-43c0-f94d-9a916765c3a7"
      },
      "execution_count": null,
      "outputs": [
        {
          "output_type": "execute_result",
          "data": {
            "text/plain": [
              "'aditya bisht'"
            ],
            "application/vnd.google.colaboratory.intrinsic+json": {
              "type": "string"
            }
          },
          "metadata": {},
          "execution_count": 53
        }
      ]
    },
    {
      "cell_type": "markdown",
      "source": [
        "16.Convert a string where words are separated by spaces to one where words\n",
        "are separated by underscores.\n"
      ],
      "metadata": {
        "id": "JNIasqi58W8F"
      }
    },
    {
      "cell_type": "code",
      "source": [
        "str_1='Aditya Bisht'\n",
        "str_1.replace(' ','_')"
      ],
      "metadata": {
        "colab": {
          "base_uri": "https://localhost:8080/",
          "height": 36
        },
        "id": "H_mIcEXu8asX",
        "outputId": "ed3b8435-cab7-4742-fb8c-71035533fabd"
      },
      "execution_count": null,
      "outputs": [
        {
          "output_type": "execute_result",
          "data": {
            "text/plain": [
              "'Aditya_Bisht'"
            ],
            "application/vnd.google.colaboratory.intrinsic+json": {
              "type": "string"
            }
          },
          "metadata": {},
          "execution_count": 54
        }
      ]
    },
    {
      "cell_type": "markdown",
      "source": [
        "17.Check if a string starts with a specific word or phrase.\n"
      ],
      "metadata": {
        "id": "1BXNjviI8zYW"
      }
    },
    {
      "cell_type": "code",
      "source": [
        "str_1='Aditya Bisht'\n",
        "str_1.startswith('Adi')\n"
      ],
      "metadata": {
        "colab": {
          "base_uri": "https://localhost:8080/"
        },
        "id": "ttjJeRPj83jO",
        "outputId": "ce3e8f5f-05b2-41fc-a74f-507c51f7c580"
      },
      "execution_count": null,
      "outputs": [
        {
          "output_type": "execute_result",
          "data": {
            "text/plain": [
              "True"
            ]
          },
          "metadata": {},
          "execution_count": 59
        }
      ]
    },
    {
      "cell_type": "markdown",
      "source": [
        "18.Check if a string ends with a specific word or phrase."
      ],
      "metadata": {
        "id": "PEBzc5qb9zDn"
      }
    },
    {
      "cell_type": "code",
      "source": [
        "str_1='Aditya Bisht'\n",
        "str_1.endswith('ht')"
      ],
      "metadata": {
        "colab": {
          "base_uri": "https://localhost:8080/"
        },
        "id": "SerD3rxE92tc",
        "outputId": "f040b607-9cae-4744-8387-f82e19469b8b"
      },
      "execution_count": null,
      "outputs": [
        {
          "output_type": "execute_result",
          "data": {
            "text/plain": [
              "True"
            ]
          },
          "metadata": {},
          "execution_count": 62
        }
      ]
    },
    {
      "cell_type": "markdown",
      "source": [
        "19.Convert a string to title case (e.g., \"hello world\" to \"Hello World\").\n"
      ],
      "metadata": {
        "id": "BDNK5ZEO-B-p"
      }
    },
    {
      "cell_type": "code",
      "source": [
        "str_1='aditya bisht'\n",
        "str_1.title()"
      ],
      "metadata": {
        "colab": {
          "base_uri": "https://localhost:8080/",
          "height": 36
        },
        "id": "JmON3jKH-GmX",
        "outputId": "0c3360f2-9ab2-4d5c-f0fa-6ec191693153"
      },
      "execution_count": null,
      "outputs": [
        {
          "output_type": "execute_result",
          "data": {
            "text/plain": [
              "'Aditya Bisht'"
            ],
            "application/vnd.google.colaboratory.intrinsic+json": {
              "type": "string"
            }
          },
          "metadata": {},
          "execution_count": 63
        }
      ]
    },
    {
      "cell_type": "markdown",
      "source": [
        "20.Find the longest word in a string."
      ],
      "metadata": {
        "id": "okrN3fj0-RB6"
      }
    },
    {
      "cell_type": "code",
      "source": [
        "str_1 ='aditya bisht age 21'\n",
        "a=str_1.split()\n",
        "#k=max(a,key=len)  #key is use for checking len of every word\n",
        "#print(k)\n",
        "\n",
        "#or another method\n",
        "\n",
        "x=''\n",
        "for i in a:\n",
        "  if len(i)>len(x):\n",
        "    x=i\n",
        "print(f'the longest word in a string is {x}')\n",
        "\n",
        "\n",
        "\n"
      ],
      "metadata": {
        "colab": {
          "base_uri": "https://localhost:8080/"
        },
        "id": "DaUQuDX6-UMw",
        "outputId": "a75b3d25-9c21-4ba3-f98c-906f7354d8d3"
      },
      "execution_count": null,
      "outputs": [
        {
          "output_type": "stream",
          "name": "stdout",
          "text": [
            "the longest word in a string is aditya\n"
          ]
        }
      ]
    },
    {
      "cell_type": "markdown",
      "source": [
        "21. Find the shortest word in a string.\n"
      ],
      "metadata": {
        "id": "InUB-EvYDSO2"
      }
    },
    {
      "cell_type": "code",
      "source": [
        "str_1 ='aditya bisht age 21'\n",
        "a=str_1.split()\n",
        "k=min(a,key=len)  #key is use for checking len of every word\n",
        "print(k)"
      ],
      "metadata": {
        "colab": {
          "base_uri": "https://localhost:8080/"
        },
        "id": "eEPcgs1mDVE_",
        "outputId": "f6757b3a-3a26-4e8e-efc3-d95e42121783"
      },
      "execution_count": 160,
      "outputs": [
        {
          "output_type": "stream",
          "name": "stdout",
          "text": [
            "21\n"
          ]
        }
      ]
    },
    {
      "cell_type": "markdown",
      "source": [
        "22.Reverse the order of words in a string."
      ],
      "metadata": {
        "id": "FCN0DVQFEQ8C"
      }
    },
    {
      "cell_type": "code",
      "source": [
        "str_1='Aditya Bisht'\n",
        "for i in range(len(str_1)-1,-1,-1) :  #reverse the order through loop also be done by indexing([::-1])\n",
        "  print(str_1[i],end=\"\")"
      ],
      "metadata": {
        "colab": {
          "base_uri": "https://localhost:8080/"
        },
        "id": "jf6KEvYWEbk0",
        "outputId": "286f7380-e661-4d49-bec7-6e9f506a3ee1"
      },
      "execution_count": null,
      "outputs": [
        {
          "output_type": "stream",
          "name": "stdout",
          "text": [
            "thsiB aytidA"
          ]
        }
      ]
    },
    {
      "cell_type": "markdown",
      "source": [
        "23.Check if a string is alphanumeric.\n"
      ],
      "metadata": {
        "id": "gYaX1WhwFE_2"
      }
    },
    {
      "cell_type": "code",
      "source": [
        "str_1 ='adity1abisht'    #only contain digit and number no white space or any character\n",
        "str_1.isalnum()"
      ],
      "metadata": {
        "colab": {
          "base_uri": "https://localhost:8080/"
        },
        "id": "hfyGDEgwFImY",
        "outputId": "69d0a89b-7c9e-4efe-8c68-164b02694ee5"
      },
      "execution_count": null,
      "outputs": [
        {
          "output_type": "execute_result",
          "data": {
            "text/plain": [
              "True"
            ]
          },
          "metadata": {},
          "execution_count": 83
        }
      ]
    },
    {
      "cell_type": "markdown",
      "source": [
        "24.Extract all digits from a string."
      ],
      "metadata": {
        "id": "f7HbBUMFFhSf"
      }
    },
    {
      "cell_type": "code",
      "source": [
        "str_1='aditya112bisht and1'\n",
        "for i in str_1:\n",
        "  if i.isdigit():    #is digit use for checking digit in string\n",
        "    print(i,end=' ')"
      ],
      "metadata": {
        "colab": {
          "base_uri": "https://localhost:8080/"
        },
        "id": "h2N5NY2dFlmO",
        "outputId": "84bf30cc-e44e-4cfd-a2fc-30a6ccdb8b9b"
      },
      "execution_count": null,
      "outputs": [
        {
          "output_type": "stream",
          "name": "stdout",
          "text": [
            "1 1 2 1 "
          ]
        }
      ]
    },
    {
      "cell_type": "markdown",
      "source": [
        "25.Extract all alphabets from a string.\n"
      ],
      "metadata": {
        "id": "UsWFks5wHyKS"
      }
    },
    {
      "cell_type": "code",
      "source": [
        "str_1='aditya112bisht and1'\n",
        "for i in str_1:\n",
        "  if i.isalpha():        #is alpha use for checking word in string\n",
        "    print(i,end=' ')"
      ],
      "metadata": {
        "colab": {
          "base_uri": "https://localhost:8080/"
        },
        "id": "QXoeOZqGH2HI",
        "outputId": "7d0234a2-d00a-4548-e979-c315cffa4385"
      },
      "execution_count": null,
      "outputs": [
        {
          "output_type": "stream",
          "name": "stdout",
          "text": [
            "a d i t y a b i s h t a n d "
          ]
        }
      ]
    },
    {
      "cell_type": "markdown",
      "source": [
        "26.Count the number of uppercase letters in a string."
      ],
      "metadata": {
        "id": "y1tE2n94IgVu"
      }
    },
    {
      "cell_type": "code",
      "source": [
        "str_1='AdiTYAbisht'\n",
        "count=0\n",
        "for i in str_1:\n",
        "  if 'A'<=i<='Z': #for checking capital letter\n",
        "    count+=1\n",
        "print(f'the number of uppercase letters in a string are {count}')"
      ],
      "metadata": {
        "colab": {
          "base_uri": "https://localhost:8080/"
        },
        "id": "7jKgVM0KIkP4",
        "outputId": "2331d502-cdf8-4b83-8e97-e0bba8e17bc2"
      },
      "execution_count": null,
      "outputs": [
        {
          "output_type": "stream",
          "name": "stdout",
          "text": [
            "the number of uppercase letters in a string are 4\n"
          ]
        }
      ]
    },
    {
      "cell_type": "markdown",
      "source": [
        "27.Count the number of lowercase letters in a string"
      ],
      "metadata": {
        "id": "q4gKAaj0KfYI"
      }
    },
    {
      "cell_type": "code",
      "source": [
        "str_1='AdiTYAbisht'\n",
        "count=0\n",
        "for i in str_1:\n",
        "  if 'a'<=i<='z': #for checking capital letter\n",
        "    count+=1\n",
        "print(f'the number of lowercase letters in a string are {count}')"
      ],
      "metadata": {
        "colab": {
          "base_uri": "https://localhost:8080/"
        },
        "id": "16P6ePmaKi5w",
        "outputId": "19169dcc-d04f-43a0-fd05-4adb48e707dc"
      },
      "execution_count": null,
      "outputs": [
        {
          "output_type": "stream",
          "name": "stdout",
          "text": [
            "the number of lowercase letters in a string are 7\n"
          ]
        }
      ]
    },
    {
      "cell_type": "markdown",
      "source": [
        "28.Swap the case of each character in a string."
      ],
      "metadata": {
        "id": "76M28MMVKp0M"
      }
    },
    {
      "cell_type": "code",
      "source": [
        "str_1 ='Aditya BISHT'\n",
        "str_1.swapcase()"
      ],
      "metadata": {
        "colab": {
          "base_uri": "https://localhost:8080/",
          "height": 36
        },
        "id": "eaGncWqiKuPe",
        "outputId": "214749a5-8059-41ea-b853-406caf3610e3"
      },
      "execution_count": null,
      "outputs": [
        {
          "output_type": "execute_result",
          "data": {
            "text/plain": [
              "'aDITYA bisht'"
            ],
            "application/vnd.google.colaboratory.intrinsic+json": {
              "type": "string"
            }
          },
          "metadata": {},
          "execution_count": 102
        }
      ]
    },
    {
      "cell_type": "markdown",
      "source": [
        "29.Remove a specific word from a string"
      ],
      "metadata": {
        "id": "yH58uMA-K5dK"
      }
    },
    {
      "cell_type": "code",
      "source": [
        "str_1='aditya bisht'\n",
        "word=input('enter a word: ')\n",
        "str_1.replace(word,'')"
      ],
      "metadata": {
        "colab": {
          "base_uri": "https://localhost:8080/",
          "height": 54
        },
        "id": "whc_CIuIK9Or",
        "outputId": "f3140331-740a-4b4b-c654-0a7ae8f02770"
      },
      "execution_count": null,
      "outputs": [
        {
          "name": "stdout",
          "output_type": "stream",
          "text": [
            "enter a word:  bisht\n"
          ]
        },
        {
          "output_type": "execute_result",
          "data": {
            "text/plain": [
              "'aditya'"
            ],
            "application/vnd.google.colaboratory.intrinsic+json": {
              "type": "string"
            }
          },
          "metadata": {},
          "execution_count": 108
        }
      ]
    },
    {
      "cell_type": "markdown",
      "source": [
        "30.Check if a string is a valid email address."
      ],
      "metadata": {
        "id": "pplzwjk8Lw-Z"
      }
    },
    {
      "cell_type": "code",
      "source": [
        "str_1=input(\"enter the email: \")\n",
        "a=str_1.count('@gmail.com')\n",
        "b=str_1.startswith('@gmail.com')\n",
        "c=str_1.startswith(' ')\n",
        "if( b == False and c== False )and(str_1.endswith('@gmail.com')and a==1): #email does not contain blank space on start or does not contain only @gmail.count\n",
        "  print('email is valid')\n",
        "else:\n",
        "  print('email is not valid')\n"
      ],
      "metadata": {
        "colab": {
          "base_uri": "https://localhost:8080/"
        },
        "id": "5o6x0729L3Am",
        "outputId": "c36bc89a-55af-45aa-d158-fbcf07b91479"
      },
      "execution_count": null,
      "outputs": [
        {
          "output_type": "stream",
          "name": "stdout",
          "text": [
            "enter the email: adityabisht13@gmail.com\n",
            "email is valid\n"
          ]
        }
      ]
    },
    {
      "cell_type": "markdown",
      "source": [
        "31.Extract the username from an email address string."
      ],
      "metadata": {
        "id": "XLHdc2FcCCiY"
      }
    },
    {
      "cell_type": "code",
      "source": [
        "str_1='adityabisht13@gmail.com'\n",
        "str_1[:str_1.find('@gmail.com')] #extracting the username\n",
        "\n"
      ],
      "metadata": {
        "colab": {
          "base_uri": "https://localhost:8080/",
          "height": 36
        },
        "id": "uWRhdlL8Ubvn",
        "outputId": "b5f1037d-4562-41b6-8156-439dbf313ea6"
      },
      "execution_count": null,
      "outputs": [
        {
          "output_type": "execute_result",
          "data": {
            "text/plain": [
              "'adityabisht13'"
            ],
            "application/vnd.google.colaboratory.intrinsic+json": {
              "type": "string"
            }
          },
          "metadata": {},
          "execution_count": 140
        }
      ]
    },
    {
      "cell_type": "markdown",
      "source": [
        "32.Extract the domain name from an email address string"
      ],
      "metadata": {
        "id": "ujr4HCdDb7kh"
      }
    },
    {
      "cell_type": "code",
      "source": [
        "str_1='adityabisht13@gmail.com'\n",
        "str_1[str_1.find('@'):] #extracting domain name"
      ],
      "metadata": {
        "colab": {
          "base_uri": "https://localhost:8080/",
          "height": 36
        },
        "id": "j5GNjfFsV-w_",
        "outputId": "73abbc21-8d87-46be-b5cf-8056677232df"
      },
      "execution_count": null,
      "outputs": [
        {
          "output_type": "execute_result",
          "data": {
            "text/plain": [
              "'@gmail.com'"
            ],
            "application/vnd.google.colaboratory.intrinsic+json": {
              "type": "string"
            }
          },
          "metadata": {},
          "execution_count": 144
        }
      ]
    },
    {
      "cell_type": "markdown",
      "source": [
        "33.Replace multiple spaces in a string with a single space.\n"
      ],
      "metadata": {
        "id": "xskgESczWyrB"
      }
    },
    {
      "cell_type": "code",
      "source": [
        "a='aditya  bi   sht '\n",
        "print(' '.join(a.split()))\n",
        "\n"
      ],
      "metadata": {
        "colab": {
          "base_uri": "https://localhost:8080/"
        },
        "id": "CHuaCahtW2Qm",
        "outputId": "53351827-cc67-42e5-f54a-89408c9d38f2"
      },
      "execution_count": null,
      "outputs": [
        {
          "output_type": "stream",
          "name": "stdout",
          "text": [
            "aditya bi sht\n"
          ]
        }
      ]
    },
    {
      "cell_type": "markdown",
      "source": [
        "34.Check if a string is a valid URL."
      ],
      "metadata": {
        "id": "1S7Gk9JtcHpG"
      }
    },
    {
      "cell_type": "code",
      "source": [
        "str_1=input(\"enter the url: \")\n",
        "a=str_1.count('https://')\n",
        "b=str_1.count('http://')\n",
        "x=str_1.startswith('https://')\n",
        "y=str_1.startswith('https://')\n",
        "z=str_1.endswith('/')\n",
        "n=str_1.endswith(' ')\n",
        "if( x == True  and a==1)and (b==0 and z==False and n==False):  #checking all condition like https:// not end with / or ' ' and in a url https:// or http:// both are not present in single url\n",
        "  print('url is valid')\n",
        "elif( y == True  and b==1)and (a==0 and z==False and n == False): #checking all condition like http:// not end with / or ' ' and in a url https:// or http:// both are not present in single url\n",
        "  print('url is valid')\n",
        "\n",
        "else:\n",
        "  print('url is not valid')"
      ],
      "metadata": {
        "colab": {
          "base_uri": "https://localhost:8080/"
        },
        "id": "skKklK8vcLHc",
        "outputId": "a1874515-b85e-4acc-a419-38e1ffba490b"
      },
      "execution_count": null,
      "outputs": [
        {
          "output_type": "stream",
          "name": "stdout",
          "text": [
            "enter the url: https://colab.research.google.com/drive/1ba-4pIx1AD6Diy2uD6YeShASdnqpCMyT#scrollTo=skKklK8vcLHc\n",
            "url is valid\n"
          ]
        }
      ]
    },
    {
      "cell_type": "markdown",
      "source": [
        " 35.Extract the protocol (http or https) from a URL string."
      ],
      "metadata": {
        "id": "iHQ2yN5Wg9uR"
      }
    },
    {
      "cell_type": "code",
      "source": [
        "str_1=input('Enter the url: ')\n",
        "str_1[:str_1.find(':')]"
      ],
      "metadata": {
        "colab": {
          "base_uri": "https://localhost:8080/",
          "height": 54
        },
        "id": "mV8paTYXhIGV",
        "outputId": "e7a782ce-86df-4b98-f988-10d13d9f3141"
      },
      "execution_count": null,
      "outputs": [
        {
          "name": "stdout",
          "output_type": "stream",
          "text": [
            "Enter the url: https://colab.research.google.com/drive/1ba-4pIx1AD6Diy2uD6YeShASdnqpCMyT#scrollTo=skKklK8vcLHc\n"
          ]
        },
        {
          "output_type": "execute_result",
          "data": {
            "text/plain": [
              "'https'"
            ],
            "application/vnd.google.colaboratory.intrinsic+json": {
              "type": "string"
            }
          },
          "metadata": {},
          "execution_count": 168
        }
      ]
    },
    {
      "cell_type": "markdown",
      "source": [
        "36.Find the frequency of each character in a string."
      ],
      "metadata": {
        "id": "ENB7KBi6kQtt"
      }
    },
    {
      "cell_type": "code",
      "source": [
        "str_1 = 'adiitya biissht'\n",
        "dict={}\n",
        "for i in str_1:\n",
        "  if i not in dict:\n",
        "    dict[i]=count+1\n",
        "  else:\n",
        "    dict[i]+=1\n",
        "print(dict)"
      ],
      "metadata": {
        "colab": {
          "base_uri": "https://localhost:8080/"
        },
        "id": "jkF7_RSskWjb",
        "outputId": "e54446ac-4d2d-4f8e-d431-fd6814e52121"
      },
      "execution_count": null,
      "outputs": [
        {
          "output_type": "stream",
          "name": "stdout",
          "text": [
            "{'a': 2, 'd': 1, 'i': 4, 't': 2, 'y': 1, ' ': 1, 'b': 1, 's': 2, 'h': 1}\n"
          ]
        }
      ]
    },
    {
      "cell_type": "markdown",
      "source": [
        "37.Remove all punctuation from a string.\n"
      ],
      "metadata": {
        "id": "Yjzaw-j1kyXl"
      }
    },
    {
      "cell_type": "code",
      "source": [
        "str_1=input(\"Enter the string \")\n",
        "punctuation=\"!@#$%^&*()\"\n",
        "result=\"\"\n",
        "for i in str_1:\n",
        "  if i not in punctuation:\n",
        "    result+=i\n",
        "print(result)"
      ],
      "metadata": {
        "colab": {
          "base_uri": "https://localhost:8080/"
        },
        "id": "W6qtOezmk2rZ",
        "outputId": "aa4e3807-24a3-4f1d-cf61-1827766d32a7"
      },
      "execution_count": null,
      "outputs": [
        {
          "output_type": "stream",
          "name": "stdout",
          "text": [
            "Enter the string adi@tya!bis#ht\n",
            "adityabisht\n"
          ]
        }
      ]
    },
    {
      "cell_type": "markdown",
      "source": [
        "38.Check if a string contains only digits."
      ],
      "metadata": {
        "id": "3cefPoPzn4Kk"
      }
    },
    {
      "cell_type": "code",
      "source": [
        "str_1='aditya12'\n",
        "str_2='7838412'\n",
        "print(str_1.isdigit())\n",
        "print(str_2.isdigit())\n"
      ],
      "metadata": {
        "colab": {
          "base_uri": "https://localhost:8080/"
        },
        "id": "RU5LbMJhoP2V",
        "outputId": "41d6c8a0-eda5-4d1e-8846-6f1684432d0b"
      },
      "execution_count": null,
      "outputs": [
        {
          "output_type": "stream",
          "name": "stdout",
          "text": [
            "False\n",
            "True\n"
          ]
        }
      ]
    },
    {
      "cell_type": "markdown",
      "source": [
        "39.Check if a string contains only alphabets."
      ],
      "metadata": {
        "id": "kIUUXujVop56"
      }
    },
    {
      "cell_type": "code",
      "source": [
        "str_1='aditya12'\n",
        "str_2='aaditya'\n",
        "print(str_1.isalpha())\n",
        "print(str_2.isalpha())"
      ],
      "metadata": {
        "colab": {
          "base_uri": "https://localhost:8080/"
        },
        "id": "-tEg8ubUouHW",
        "outputId": "ab9b6920-89a7-4a75-c6c3-4c2e4e6492a7"
      },
      "execution_count": null,
      "outputs": [
        {
          "output_type": "stream",
          "name": "stdout",
          "text": [
            "False\n",
            "True\n"
          ]
        }
      ]
    },
    {
      "cell_type": "markdown",
      "source": [
        "40.Convert a string to a list of characters.\n"
      ],
      "metadata": {
        "id": "At2QklBIo2Jw"
      }
    },
    {
      "cell_type": "code",
      "source": [
        "str_1='aditya bisht'\n",
        "l=[]\n",
        "for i in str_1:\n",
        "  l+=[i]\n",
        "print(l)"
      ],
      "metadata": {
        "colab": {
          "base_uri": "https://localhost:8080/"
        },
        "id": "3Nb3s80zo8ru",
        "outputId": "f359a334-3f54-4d75-9766-a69696fb0fcb"
      },
      "execution_count": null,
      "outputs": [
        {
          "output_type": "stream",
          "name": "stdout",
          "text": [
            "['a', 'd', 'i', 't', 'y', 'a', ' ', 'b', 'i', 's', 'h', 't']\n"
          ]
        }
      ]
    },
    {
      "cell_type": "markdown",
      "source": [
        "41.Check if two strings are anagrams."
      ],
      "metadata": {
        "id": "flD6rlT6pUhY"
      }
    },
    {
      "cell_type": "code",
      "source": [
        "str_1=input('enter string one: ')\n",
        "str_2=input('enter string two: ')\n",
        "if sorted(str_1)==sorted(str_2): #convert str_1 and str_2 in list and sort in ascending oder than compare\n",
        "  print(f'Strings are anagrams ')\n",
        "else:\n",
        "  print(f'Strings are not anagrams ')\n"
      ],
      "metadata": {
        "colab": {
          "base_uri": "https://localhost:8080/"
        },
        "id": "u9b8Z0LepXml",
        "outputId": "184f3ace-981e-4ba8-c06b-925b0fe5ddb1"
      },
      "execution_count": null,
      "outputs": [
        {
          "output_type": "stream",
          "name": "stdout",
          "text": [
            "enter string one: mug\n",
            "enter string two: gum\n",
            "Strings are anagrams \n"
          ]
        }
      ]
    },
    {
      "cell_type": "markdown",
      "source": [
        "42.Encode a string using a Caesar cipher."
      ],
      "metadata": {
        "id": "vIpJbN_ytwbA"
      }
    },
    {
      "cell_type": "code",
      "source": [
        "str_1='aditya'\n",
        "cipher_str=''\n",
        "for i in str_1:\n",
        "  i=ord(i)+3\n",
        "  b=chr(i)\n",
        "  cipher_str+=b\n",
        "print(cipher_str)\n"
      ],
      "metadata": {
        "colab": {
          "base_uri": "https://localhost:8080/"
        },
        "id": "Xx21oZAbuN95",
        "outputId": "7e8d560a-1e47-4955-ef7f-c074d846ede0"
      },
      "execution_count": null,
      "outputs": [
        {
          "output_type": "stream",
          "name": "stdout",
          "text": [
            "dglw|d\n"
          ]
        }
      ]
    },
    {
      "cell_type": "markdown",
      "source": [
        "43.Decode a Caesar cipher encoded string."
      ],
      "metadata": {
        "id": "wDW2uvQHwXWj"
      }
    },
    {
      "cell_type": "code",
      "source": [
        "str_1='dglw|d'\n",
        "cipher_str=''\n",
        "for i in str_1:\n",
        "  i=ord(i)-3\n",
        "  b=chr(i)\n",
        "  cipher_str+=b\n",
        "print(cipher_str)\n"
      ],
      "metadata": {
        "colab": {
          "base_uri": "https://localhost:8080/"
        },
        "id": "JU4xj3-TwcOx",
        "outputId": "e8ba7004-b769-491b-dfae-2ceef16ece12"
      },
      "execution_count": null,
      "outputs": [
        {
          "output_type": "stream",
          "name": "stdout",
          "text": [
            "aditya\n"
          ]
        }
      ]
    },
    {
      "cell_type": "markdown",
      "source": [
        "44.Find the most frequent word in a string."
      ],
      "metadata": {
        "id": "JpG0h728xCmV"
      }
    },
    {
      "cell_type": "code",
      "source": [
        "str_1=input(\"Enter the string: \")\n",
        "str_2=str_1.split()\n",
        "dict={}\n",
        "count=0\n",
        "for i in str_2:\n",
        "  if i in dict:  #maing dictionary first\n",
        "    dict[i]+=1\n",
        "  else:\n",
        "    dict[i]=1\n",
        "\n",
        "for j in dict:\n",
        "  if dict[j]>count:  #for checking which occur most than return the word\n",
        "    count=dict[j]\n",
        "    result=j\n",
        "\n",
        "print(f\"the most frequent word is: {result}\")"
      ],
      "metadata": {
        "colab": {
          "base_uri": "https://localhost:8080/"
        },
        "id": "q_wL-mdXxHDM",
        "outputId": "2288e8f3-a5d0-490c-d589-d9755c621dfb"
      },
      "execution_count": null,
      "outputs": [
        {
          "output_type": "stream",
          "name": "stdout",
          "text": [
            "Enter the string: i am 21 year old i live in uk i like to play chess\n",
            "the most frequent word is: i\n"
          ]
        }
      ]
    },
    {
      "cell_type": "markdown",
      "source": [
        "45.Find all unique words in a string.\n"
      ],
      "metadata": {
        "id": "MINbZw-q2NbJ"
      }
    },
    {
      "cell_type": "code",
      "source": [
        "str_1='adityaabiisht'\n",
        "a=list(set(str_1))\n",
        "result=''.join(a)\n",
        "print(f'Unique words are: {result}')\n"
      ],
      "metadata": {
        "colab": {
          "base_uri": "https://localhost:8080/"
        },
        "id": "v8iy52952Tm-",
        "outputId": "dc1a2795-aded-41a2-cb42-9bd06b7ee678"
      },
      "execution_count": null,
      "outputs": [
        {
          "output_type": "stream",
          "name": "stdout",
          "text": [
            "Unique words are: ashtydbi\n"
          ]
        }
      ]
    },
    {
      "cell_type": "markdown",
      "source": [
        "46.Count the number of syllables in a string."
      ],
      "metadata": {
        "id": "QCMfonDC3_f4"
      }
    },
    {
      "cell_type": "code",
      "source": [
        "#space for code"
      ],
      "metadata": {
        "id": "AuFCmMMk4DoW"
      },
      "execution_count": null,
      "outputs": []
    },
    {
      "cell_type": "markdown",
      "source": [
        "47.Check if a string contains any special characters."
      ],
      "metadata": {
        "id": "E_tx1unVS8qM"
      }
    },
    {
      "cell_type": "code",
      "source": [
        "str_1=input(\"Enter the string: \")\n",
        "x='!@#$%^&*()'\n",
        "count=0\n",
        "for i in str_1:\n",
        "  if i in x:\n",
        "    count+=1\n",
        "print(f'There are total {count} special characters in the string')"
      ],
      "metadata": {
        "colab": {
          "base_uri": "https://localhost:8080/"
        },
        "id": "4rIAFTJ7S-Hk",
        "outputId": "47dff04f-c42d-41de-b5da-61fadaa1a4cf"
      },
      "execution_count": null,
      "outputs": [
        {
          "output_type": "stream",
          "name": "stdout",
          "text": [
            "Enter the string: #adi@ty%a\n",
            "There are total 3 special characters in the string\n"
          ]
        }
      ]
    },
    {
      "cell_type": "markdown",
      "source": [
        "48.Remove the nth word from a string."
      ],
      "metadata": {
        "id": "GL4uJUQYTeq6"
      }
    },
    {
      "cell_type": "code",
      "source": [
        "str_1=input(\"enter a string: \")\n",
        "n=int(input(\"enter the number of the element to be remove: \"))\n",
        "str_2=str_1.split()\n",
        "str_2.pop(n-1)   #for removing value from index\n",
        "print(\" \".join(str_2))"
      ],
      "metadata": {
        "colab": {
          "base_uri": "https://localhost:8080/"
        },
        "id": "1QewhSkaTiMk",
        "outputId": "1baf6f6a-80a6-4fd7-b639-f63210992deb"
      },
      "execution_count": null,
      "outputs": [
        {
          "output_type": "stream",
          "name": "stdout",
          "text": [
            "enter a string: aditya bisht from uttrakhand\n",
            "enter the number of the element to be remove: 3\n",
            "aditya bisht uttrakhand\n"
          ]
        }
      ]
    },
    {
      "cell_type": "markdown",
      "source": [
        "49.Insert a word at the nth position in a string"
      ],
      "metadata": {
        "id": "xI_B_naFW_Wm"
      }
    },
    {
      "cell_type": "code",
      "source": [
        "str_1=input(\"enter a string: \")\n",
        "n=int(input(\"enter the number of the element to be add: \"))\n",
        "word=input('enter a word: ')\n",
        "str_2=str_1.split()\n",
        "str_2.insert(n-1,word) #for inserting word with help of index\n",
        "print(\" \".join(str_2))"
      ],
      "metadata": {
        "colab": {
          "base_uri": "https://localhost:8080/"
        },
        "id": "30r1ZmDdXDe8",
        "outputId": "e4941343-e31f-46b9-ef2f-e876bce0adea"
      },
      "execution_count": null,
      "outputs": [
        {
          "output_type": "stream",
          "name": "stdout",
          "text": [
            "enter a string: aditya bisht uttrakhand\n",
            "enter the number of the element to be add: 3\n",
            "enter a word: from\n",
            "aditya bisht from uttrakhand\n"
          ]
        }
      ]
    },
    {
      "cell_type": "markdown",
      "source": [
        "50.Convert a CSV string to a list of lists."
      ],
      "metadata": {
        "id": "7gEoRJqvXhwe"
      }
    },
    {
      "cell_type": "code",
      "source": [
        "import pandas as pd\n",
        "\n",
        "text = ['''\n",
        "adi,bisht,uk\n",
        "pandas,numpy,python\n",
        "seaborn,stats,done''']\n",
        "\n",
        "df = pd.DataFrame({\"text\":text})\n",
        "df.to_csv(\"text.csv\")\n"
      ],
      "metadata": {
        "id": "rlLBHmyAXwTY"
      },
      "execution_count": null,
      "outputs": []
    },
    {
      "cell_type": "code",
      "source": [
        "x=[]\n",
        "a=open(\"text.csv\")\n",
        "f= a.read()\n",
        "b=str(f).split()\n",
        "for i in b:\n",
        "  x.append([i])\n",
        "print(x[2:])  #0 index is [',text'],1 index is ['0,\"'] (because data store in tabular form i onnly want main content)\n",
        "a.close()\n"
      ],
      "metadata": {
        "colab": {
          "base_uri": "https://localhost:8080/"
        },
        "id": "N4wD1DkT2481",
        "outputId": "9a1d12f0-e6c1-4493-bbd0-7bb1d2adf44a"
      },
      "execution_count": null,
      "outputs": [
        {
          "output_type": "stream",
          "name": "stdout",
          "text": [
            "[['adi,bisht,uk'], ['pandas,numpy,python'], ['seaborn,stats,done\"']]\n"
          ]
        }
      ]
    },
    {
      "cell_type": "markdown",
      "source": [
        "**List**"
      ],
      "metadata": {
        "id": "XDXvyTSyYCxU"
      }
    },
    {
      "cell_type": "markdown",
      "source": [
        "1.Create a list with integers from 1 to 10"
      ],
      "metadata": {
        "id": "bPd2SmzMYGuf"
      }
    },
    {
      "cell_type": "code",
      "source": [
        "l=[]\n",
        "for i in range(1,11):\n",
        "  l+=[i]\n",
        "print(l)"
      ],
      "metadata": {
        "colab": {
          "base_uri": "https://localhost:8080/"
        },
        "id": "FOSErg4qYKFv",
        "outputId": "1a8c2d90-7a5f-40bf-b68a-4bf63cd04777"
      },
      "execution_count": null,
      "outputs": [
        {
          "output_type": "stream",
          "name": "stdout",
          "text": [
            "[1, 2, 3, 4, 5, 6, 7, 8, 9, 10]\n"
          ]
        }
      ]
    },
    {
      "cell_type": "markdown",
      "source": [
        "2.Find the length of a list without using the `len()` function."
      ],
      "metadata": {
        "id": "jKJbxtbHYeCu"
      }
    },
    {
      "cell_type": "code",
      "source": [
        "l=[1,2,3,4,5,6,7,8,9,10]\n",
        "count=0\n",
        "for i in l:\n",
        "  count+=1\n",
        "print(count)"
      ],
      "metadata": {
        "colab": {
          "base_uri": "https://localhost:8080/"
        },
        "id": "A-IclVPyYfOA",
        "outputId": "19c306fa-b0b9-45ad-c5bd-29904497675e"
      },
      "execution_count": null,
      "outputs": [
        {
          "output_type": "stream",
          "name": "stdout",
          "text": [
            "10\n"
          ]
        }
      ]
    },
    {
      "cell_type": "markdown",
      "source": [
        "3.Append an element to the end of a list."
      ],
      "metadata": {
        "id": "poFOSqttZIL9"
      }
    },
    {
      "cell_type": "code",
      "source": [
        "l=[1,2,3,4,5]\n",
        "n=int(input('enter a no to append an element: '))\n",
        "l.append(n)\n",
        "print(l)"
      ],
      "metadata": {
        "colab": {
          "base_uri": "https://localhost:8080/"
        },
        "id": "QWI2tEpoZLmC",
        "outputId": "6ddd7e85-25b3-4b63-c167-d459bfb62367"
      },
      "execution_count": null,
      "outputs": [
        {
          "output_type": "stream",
          "name": "stdout",
          "text": [
            "enter a no to append an element: 6\n",
            "[1, 2, 3, 4, 5, 6]\n"
          ]
        }
      ]
    },
    {
      "cell_type": "markdown",
      "source": [
        "4.Insert an element at a specific index in a list."
      ],
      "metadata": {
        "id": "_-MjyLSFZfkG"
      }
    },
    {
      "cell_type": "code",
      "source": [
        "l=[1,2,3,4,5]\n",
        "x=int(input('enter a  element: '))\n",
        "y=int(input('enter a index no: '))\n",
        "l.insert(y-1,x)\n",
        "print(l)"
      ],
      "metadata": {
        "colab": {
          "base_uri": "https://localhost:8080/"
        },
        "id": "MKQKRDAgZj9z",
        "outputId": "92d05ea8-5aee-4cf9-9a32-88eeac021334"
      },
      "execution_count": null,
      "outputs": [
        {
          "output_type": "stream",
          "name": "stdout",
          "text": [
            "enter a  element: 7\n",
            "enter a index no: 3\n",
            "[1, 2, 7, 3, 4, 5]\n"
          ]
        }
      ]
    },
    {
      "cell_type": "markdown",
      "source": [
        "5.Remove an element from a list by its value."
      ],
      "metadata": {
        "id": "28UR1uIBaK86"
      }
    },
    {
      "cell_type": "code",
      "source": [
        "l=[1,2,3,4,5]\n",
        "x=int(input('enter a  element to remove: '))\n",
        "l.remove(x)  #remove by value\n",
        "print(l)"
      ],
      "metadata": {
        "colab": {
          "base_uri": "https://localhost:8080/"
        },
        "id": "7OToGMp1aOI0",
        "outputId": "f69fca1c-57a0-4a22-b5b5-7856b1f3a98f"
      },
      "execution_count": null,
      "outputs": [
        {
          "output_type": "stream",
          "name": "stdout",
          "text": [
            "enter a  element to remove: 3\n",
            "[1, 2, 4, 5]\n"
          ]
        }
      ]
    },
    {
      "cell_type": "markdown",
      "source": [
        "6.Remove an element from a list by its index."
      ],
      "metadata": {
        "id": "hHYi9ry4aaia"
      }
    },
    {
      "cell_type": "code",
      "source": [
        "l=[1,2,3,4,5]\n",
        "x=int(input('enter a index no: '))\n",
        "l.pop(x-1) #remove by index\n",
        "print(l)"
      ],
      "metadata": {
        "colab": {
          "base_uri": "https://localhost:8080/"
        },
        "id": "qc0k42fkafjx",
        "outputId": "e2bd41c4-1021-4160-f740-e49d53bb71e3"
      },
      "execution_count": null,
      "outputs": [
        {
          "output_type": "stream",
          "name": "stdout",
          "text": [
            "enter a index no: 3\n",
            "[1, 2, 4, 5]\n"
          ]
        }
      ]
    },
    {
      "cell_type": "markdown",
      "source": [
        "7.Check if an element exists in a list."
      ],
      "metadata": {
        "id": "U3YeadAha39c"
      }
    },
    {
      "cell_type": "code",
      "source": [
        "l=[1,2,3,4,5]\n",
        "x=int(input('enter element to check: '))\n",
        "if x in l:\n",
        "  print('Element is exist')\n",
        "else:\n",
        "  print('Element is not exist')\n",
        "\n"
      ],
      "metadata": {
        "colab": {
          "base_uri": "https://localhost:8080/"
        },
        "id": "_2RplBXBa8wd",
        "outputId": "36ad8b52-1ca3-4bbf-b139-9983b84b9168"
      },
      "execution_count": null,
      "outputs": [
        {
          "output_type": "stream",
          "name": "stdout",
          "text": [
            "enter element to check: 3\n",
            "Element is exist\n"
          ]
        }
      ]
    },
    {
      "cell_type": "markdown",
      "source": [
        "8.Find the index of the first occurrence of an element in a list."
      ],
      "metadata": {
        "id": "uGv8QfJqbdQH"
      }
    },
    {
      "cell_type": "code",
      "source": [
        "l=[1,2,3,4,3,5]\n",
        "x=int(input('enter element to find index of first occurence: '))\n",
        "l.index(x)\n"
      ],
      "metadata": {
        "colab": {
          "base_uri": "https://localhost:8080/"
        },
        "id": "iCUf9quXbho_",
        "outputId": "c4ce7c4e-8fa6-44b9-91dc-d176522d2ed9"
      },
      "execution_count": null,
      "outputs": [
        {
          "name": "stdout",
          "output_type": "stream",
          "text": [
            "enter element to find index of first occurence: 3\n"
          ]
        },
        {
          "output_type": "execute_result",
          "data": {
            "text/plain": [
              "2"
            ]
          },
          "metadata": {},
          "execution_count": 26
        }
      ]
    },
    {
      "cell_type": "markdown",
      "source": [
        "9.Count the occurrences of an element in a list."
      ],
      "metadata": {
        "id": "fiBwBMVAcAdM"
      }
    },
    {
      "cell_type": "code",
      "source": [
        "l=[1,2,3,4,3,5]\n",
        "x=int(input('enter element to find index of first occurence: '))\n",
        "l.count(x)"
      ],
      "metadata": {
        "colab": {
          "base_uri": "https://localhost:8080/"
        },
        "id": "BgAWKolmcGtv",
        "outputId": "204f13cf-fbe2-487c-d27f-1166d8435cda"
      },
      "execution_count": null,
      "outputs": [
        {
          "name": "stdout",
          "output_type": "stream",
          "text": [
            "enter element to find index of first occurence: 3\n"
          ]
        },
        {
          "output_type": "execute_result",
          "data": {
            "text/plain": [
              "2"
            ]
          },
          "metadata": {},
          "execution_count": 27
        }
      ]
    },
    {
      "cell_type": "markdown",
      "source": [
        "10.Reverse the order of elements in a list."
      ],
      "metadata": {
        "id": "kFGOvleAcjeg"
      }
    },
    {
      "cell_type": "code",
      "source": [
        "l=[1,2,3,4,3,5]\n",
        "l[::-1]"
      ],
      "metadata": {
        "colab": {
          "base_uri": "https://localhost:8080/"
        },
        "id": "iosWPuIjcnbC",
        "outputId": "a5c66d64-e0ae-4181-b889-87e4dd421bcb"
      },
      "execution_count": null,
      "outputs": [
        {
          "output_type": "execute_result",
          "data": {
            "text/plain": [
              "[5, 3, 4, 3, 2, 1]"
            ]
          },
          "metadata": {},
          "execution_count": 28
        }
      ]
    },
    {
      "cell_type": "markdown",
      "source": [
        "11.Sort a list in ascending order."
      ],
      "metadata": {
        "id": "d2uewsg0ct_2"
      }
    },
    {
      "cell_type": "code",
      "source": [
        "l=[1,4,5,2,3,4,3,5]\n",
        "l.sort()\n",
        "print(l)\n"
      ],
      "metadata": {
        "colab": {
          "base_uri": "https://localhost:8080/"
        },
        "id": "C85CLwzmczgW",
        "outputId": "0cefe690-2d9f-4670-c6d5-724f6a3eac7f"
      },
      "execution_count": null,
      "outputs": [
        {
          "output_type": "stream",
          "name": "stdout",
          "text": [
            "[1, 2, 3, 3, 4, 4, 5, 5]\n"
          ]
        }
      ]
    },
    {
      "cell_type": "markdown",
      "source": [
        "12.Sort a list in descending order."
      ],
      "metadata": {
        "id": "u30QjW6idcAL"
      }
    },
    {
      "cell_type": "code",
      "source": [
        "l=[1,4,5,2,3,4,3,5]\n",
        "l.sort()\n",
        "l.reverse()\n",
        "print(l)"
      ],
      "metadata": {
        "colab": {
          "base_uri": "https://localhost:8080/"
        },
        "id": "ZiAzA_PWdhOg",
        "outputId": "476c2e37-1192-45aa-887c-6035bb120b46"
      },
      "execution_count": null,
      "outputs": [
        {
          "output_type": "stream",
          "name": "stdout",
          "text": [
            "[5, 5, 4, 4, 3, 3, 2, 1]\n"
          ]
        }
      ]
    },
    {
      "cell_type": "markdown",
      "source": [
        "13.Create a list of even numbers from 1 to 20."
      ],
      "metadata": {
        "id": "3ioq21A8dlKP"
      }
    },
    {
      "cell_type": "code",
      "source": [
        "l=[i for i in range (1,21) if i%2==0]\n",
        "print(l)"
      ],
      "metadata": {
        "colab": {
          "base_uri": "https://localhost:8080/"
        },
        "id": "BkudJ-Kmdpfd",
        "outputId": "e7d19e22-bada-4039-db5e-724cfc6538ae"
      },
      "execution_count": null,
      "outputs": [
        {
          "output_type": "stream",
          "name": "stdout",
          "text": [
            "[2, 4, 6, 8, 10, 12, 14, 16, 18, 20]\n"
          ]
        }
      ]
    },
    {
      "cell_type": "markdown",
      "source": [
        "14.Create a list of odd numbers from 1 to 20."
      ],
      "metadata": {
        "id": "UAox0Y5Xd781"
      }
    },
    {
      "cell_type": "code",
      "source": [
        "l=[i for i in range (1,21) if i%2!=0]\n",
        "print(l)"
      ],
      "metadata": {
        "colab": {
          "base_uri": "https://localhost:8080/"
        },
        "id": "zlLmCWzqd9Wu",
        "outputId": "9efdb860-f2d0-4fbe-e691-e4a0ed6fe91c"
      },
      "execution_count": null,
      "outputs": [
        {
          "output_type": "stream",
          "name": "stdout",
          "text": [
            "[1, 3, 5, 7, 9, 11, 13, 15, 17, 19]\n"
          ]
        }
      ]
    },
    {
      "cell_type": "markdown",
      "source": [
        "15.Find the sum of all elements in a list."
      ],
      "metadata": {
        "id": "D8aBDfvVeBKy"
      }
    },
    {
      "cell_type": "code",
      "source": [
        "l=[1,2,3,4,5,6,7]\n",
        "print(sum(l))"
      ],
      "metadata": {
        "colab": {
          "base_uri": "https://localhost:8080/"
        },
        "id": "JmuXAPY9eEKB",
        "outputId": "e3e32f73-5cef-4c43-d9bf-2cf6fe35d166"
      },
      "execution_count": null,
      "outputs": [
        {
          "output_type": "stream",
          "name": "stdout",
          "text": [
            "28\n"
          ]
        }
      ]
    },
    {
      "cell_type": "markdown",
      "source": [
        "16.Find the maximum value in a list."
      ],
      "metadata": {
        "id": "d625vXBLeSb9"
      }
    },
    {
      "cell_type": "code",
      "source": [
        "l=[1,2,3,4,5,6,7]\n",
        "print(max(l))"
      ],
      "metadata": {
        "colab": {
          "base_uri": "https://localhost:8080/"
        },
        "id": "fBoi0EdJeWGZ",
        "outputId": "6364794c-465c-415a-abee-ed093559ece8"
      },
      "execution_count": null,
      "outputs": [
        {
          "output_type": "stream",
          "name": "stdout",
          "text": [
            "7\n"
          ]
        }
      ]
    },
    {
      "cell_type": "markdown",
      "source": [
        "17.Find the minimum value in a list."
      ],
      "metadata": {
        "id": "FL4YKmk3eZu5"
      }
    },
    {
      "cell_type": "code",
      "source": [
        "l=[1,2,3,4,5,6,7]\n",
        "print(min(l))"
      ],
      "metadata": {
        "colab": {
          "base_uri": "https://localhost:8080/"
        },
        "id": "2FL9dECvec0e",
        "outputId": "e8adb336-3ff0-45c5-d478-5169034d4dc2"
      },
      "execution_count": null,
      "outputs": [
        {
          "output_type": "stream",
          "name": "stdout",
          "text": [
            "1\n"
          ]
        }
      ]
    },
    {
      "cell_type": "markdown",
      "source": [
        "18.Create a list of squares of numbers from 1 to 10."
      ],
      "metadata": {
        "id": "J3dRVm8Gegax"
      }
    },
    {
      "cell_type": "code",
      "source": [
        "l=[i*i for i in range (1,11) ]\n",
        "print(l)"
      ],
      "metadata": {
        "colab": {
          "base_uri": "https://localhost:8080/"
        },
        "id": "KsL7hABbejky",
        "outputId": "7ce352a4-678f-4cdf-fd51-f6aaf980d85d"
      },
      "execution_count": null,
      "outputs": [
        {
          "output_type": "stream",
          "name": "stdout",
          "text": [
            "[1, 4, 9, 16, 25, 36, 49, 64, 81, 100]\n"
          ]
        }
      ]
    },
    {
      "cell_type": "markdown",
      "source": [
        "19.Create a list of random numbers."
      ],
      "metadata": {
        "id": "OhA8CoFEesCk"
      }
    },
    {
      "cell_type": "code",
      "source": [
        "import random      #importing random for random number\n",
        "l=[]\n",
        "for i in range(0,11):\n",
        "  l.append(random.randint(0,20)) #randint for choosing number from 0 to 20\n",
        "print(l)"
      ],
      "metadata": {
        "colab": {
          "base_uri": "https://localhost:8080/"
        },
        "id": "4XaCabxvevuZ",
        "outputId": "a9aeecc9-d9e7-4206-f56e-9611e9e0712c"
      },
      "execution_count": null,
      "outputs": [
        {
          "output_type": "stream",
          "name": "stdout",
          "text": [
            "[10, 20, 3, 19, 3, 11, 1, 5, 10, 9, 20]\n"
          ]
        }
      ]
    },
    {
      "cell_type": "markdown",
      "source": [
        "20.Remove duplicates from a list."
      ],
      "metadata": {
        "id": "rlsYm8AaffSb"
      }
    },
    {
      "cell_type": "code",
      "source": [
        "l=[1,2,3,4,3,4,5,2,3,1]\n",
        "a=list(set(l))\n",
        "print(a)"
      ],
      "metadata": {
        "colab": {
          "base_uri": "https://localhost:8080/"
        },
        "id": "lAPLFcvDfilN",
        "outputId": "035e60e6-8dc2-4b97-f9f0-f64826bce8f8"
      },
      "execution_count": null,
      "outputs": [
        {
          "output_type": "stream",
          "name": "stdout",
          "text": [
            "[1, 2, 3, 4, 5]\n"
          ]
        }
      ]
    },
    {
      "cell_type": "markdown",
      "source": [
        "21.Find the common elements between two lists."
      ],
      "metadata": {
        "id": "EfPgsgRofwVr"
      }
    },
    {
      "cell_type": "code",
      "source": [
        "l1=[1,2,3,4,5,6,9]\n",
        "l2=[2,3,5]\n",
        "l3=[]\n",
        "for i in l1:\n",
        "  if i in l2:\n",
        "    l3.append(i)\n",
        "print(f'by loop: {l3}')\n",
        "\n",
        "#or\n",
        "res=list(set(l1).intersection(set(l2)))\n",
        "print(f'by intersection through set: {res}')\n",
        "\n",
        "\n"
      ],
      "metadata": {
        "colab": {
          "base_uri": "https://localhost:8080/"
        },
        "id": "g0DfaiRIfz9v",
        "outputId": "a96bbe41-cb56-4c08-a9f6-6d4918881cb4"
      },
      "execution_count": null,
      "outputs": [
        {
          "output_type": "stream",
          "name": "stdout",
          "text": [
            "by loop: [2, 3, 5]\n",
            "by intersection through set: [2, 3, 5]\n"
          ]
        }
      ]
    },
    {
      "cell_type": "markdown",
      "source": [
        "22.Find the difference between two lists."
      ],
      "metadata": {
        "id": "XFjFJZ73hG6U"
      }
    },
    {
      "cell_type": "code",
      "source": [
        "l1=[1,2,3,4,5,6,9]\n",
        "l2=[2,3,5]\n",
        "l3=[]\n",
        "for i in l1:\n",
        "  if i not in l2:\n",
        "    l3.append(i)\n",
        "print(l3)"
      ],
      "metadata": {
        "colab": {
          "base_uri": "https://localhost:8080/"
        },
        "id": "vYVmvg-WhLXJ",
        "outputId": "fea58b12-8e1e-4224-a5cd-b8b1835a7ecc"
      },
      "execution_count": null,
      "outputs": [
        {
          "output_type": "stream",
          "name": "stdout",
          "text": [
            "[1, 4, 6, 9]\n"
          ]
        }
      ]
    },
    {
      "cell_type": "markdown",
      "source": [
        "23.Merge two lists."
      ],
      "metadata": {
        "id": "tJaQ3ReShu-l"
      }
    },
    {
      "cell_type": "code",
      "source": [
        "l1=[1,2,3,4,5,6,9]\n",
        "l2=[2,3,5]\n",
        "l1.extend(l2)\n",
        "print(l1)"
      ],
      "metadata": {
        "colab": {
          "base_uri": "https://localhost:8080/"
        },
        "id": "CxvsKUsuhzx-",
        "outputId": "deb0da67-34df-4c07-818a-0062c3183662"
      },
      "execution_count": null,
      "outputs": [
        {
          "output_type": "stream",
          "name": "stdout",
          "text": [
            "[1, 2, 3, 4, 5, 6, 9, 2, 3, 5]\n"
          ]
        }
      ]
    },
    {
      "cell_type": "markdown",
      "source": [
        "24.Multiply all elements in a list by 2."
      ],
      "metadata": {
        "id": "kbfKvcbjiLQK"
      }
    },
    {
      "cell_type": "code",
      "source": [
        "l=[i*2 for i in range (1,11) ]\n",
        "print(l)"
      ],
      "metadata": {
        "colab": {
          "base_uri": "https://localhost:8080/"
        },
        "id": "IfB6bh2NiO1i",
        "outputId": "557e1d4d-7ccd-4bf5-f700-31c045eea12e"
      },
      "execution_count": null,
      "outputs": [
        {
          "output_type": "stream",
          "name": "stdout",
          "text": [
            "[2, 4, 6, 8, 10, 12, 14, 16, 18, 20]\n"
          ]
        }
      ]
    },
    {
      "cell_type": "markdown",
      "source": [
        "25.Filter out all even numbers from a list."
      ],
      "metadata": {
        "id": "mNE2A_OfiV7Y"
      }
    },
    {
      "cell_type": "code",
      "source": [
        "l1=[1,2,6,8,7,10,20,43,24,25]\n",
        "l2=[l1[i] for i in range (len(l1)) if l1[i]%2==0]\n",
        "print(l2)"
      ],
      "metadata": {
        "colab": {
          "base_uri": "https://localhost:8080/"
        },
        "id": "JIesa0fyibsv",
        "outputId": "7bedbb6f-f87f-4680-f16d-bb86448d1409"
      },
      "execution_count": null,
      "outputs": [
        {
          "output_type": "stream",
          "name": "stdout",
          "text": [
            "[2, 6, 8, 10, 20, 24]\n"
          ]
        }
      ]
    },
    {
      "cell_type": "markdown",
      "source": [
        "26.Convert a list of strings to a list of integers"
      ],
      "metadata": {
        "id": "M12C7zjokI0Y"
      }
    },
    {
      "cell_type": "code",
      "source": [
        "a=['1','2','3','4','5']\n",
        "x=list(map(int,a))\n",
        "print(x)\n",
        "\n",
        "\n"
      ],
      "metadata": {
        "colab": {
          "base_uri": "https://localhost:8080/"
        },
        "id": "YGAz_rsgkKjk",
        "outputId": "d20e1582-ec99-479f-8fa4-76bbb98a4641"
      },
      "execution_count": null,
      "outputs": [
        {
          "output_type": "stream",
          "name": "stdout",
          "text": [
            "[1, 2, 3, 4, 5]\n"
          ]
        }
      ]
    },
    {
      "cell_type": "markdown",
      "source": [
        "27.Convert a list of integers to a list of strings.\n"
      ],
      "metadata": {
        "id": "7Bu7pP_bkqvR"
      }
    },
    {
      "cell_type": "code",
      "source": [
        "a=[1,2,3,4,5]\n",
        "x=list(map(str,a))\n",
        "print(x)\n"
      ],
      "metadata": {
        "colab": {
          "base_uri": "https://localhost:8080/"
        },
        "id": "KO98HvJUkuQv",
        "outputId": "b15fd525-7b2e-435e-868c-44e0200774e1"
      },
      "execution_count": null,
      "outputs": [
        {
          "output_type": "stream",
          "name": "stdout",
          "text": [
            "['1', '2', '3', '4', '5']\n"
          ]
        }
      ]
    },
    {
      "cell_type": "markdown",
      "source": [
        "28.Flatten a nested list."
      ],
      "metadata": {
        "id": "q9NtcXDjk1Wp"
      }
    },
    {
      "cell_type": "code",
      "source": [
        "a=[1,2,3,4,5,6,[8,7,6,5,4,3,2]]\n",
        "b=[]\n",
        "for i in a:\n",
        "  if type(i)==list:\n",
        "    b.extend(i)\n",
        "  else:\n",
        "    b.append(i)\n",
        "print(b)\n"
      ],
      "metadata": {
        "colab": {
          "base_uri": "https://localhost:8080/"
        },
        "id": "D0EOvoHWk4St",
        "outputId": "652fad73-ef5a-4c98-d69b-9e77645a2010"
      },
      "execution_count": null,
      "outputs": [
        {
          "output_type": "stream",
          "name": "stdout",
          "text": [
            "[1, 2, 3, 4, 5, 6, 8, 7, 6, 5, 4, 3, 2]\n"
          ]
        }
      ]
    },
    {
      "cell_type": "markdown",
      "source": [
        "29.Create a list of the first 10 Fibonacci numbers."
      ],
      "metadata": {
        "id": "irfrPTgzlCNK"
      }
    },
    {
      "cell_type": "code",
      "source": [
        "a=[]\n",
        "x=0\n",
        "y=1\n",
        "a.append(x)\n",
        "a.append(y)\n",
        "for i in range(1,9):\n",
        "  c=x+y\n",
        "  x=y\n",
        "  y=c\n",
        "  a.append(c)\n",
        "print(a)\n"
      ],
      "metadata": {
        "colab": {
          "base_uri": "https://localhost:8080/"
        },
        "id": "Z_TPorvdlGss",
        "outputId": "cad45cc5-56be-49e3-a610-fcd826cffcd8"
      },
      "execution_count": null,
      "outputs": [
        {
          "output_type": "stream",
          "name": "stdout",
          "text": [
            "[0, 1, 1, 2, 3, 5, 8, 13, 21, 34]\n"
          ]
        }
      ]
    },
    {
      "cell_type": "markdown",
      "source": [
        "30.Check if a list is sorted."
      ],
      "metadata": {
        "id": "8axTzQeHllsh"
      }
    },
    {
      "cell_type": "code",
      "source": [
        "a=[1,2,3,4,9,5,6]\n",
        "if a==sorted(a):               #sorted return the new list in sort form in asc order\n",
        "  print(\"list is sorted\")\n",
        "else:\n",
        "  print(\"list is not sorted\")\n"
      ],
      "metadata": {
        "colab": {
          "base_uri": "https://localhost:8080/"
        },
        "id": "d0qjnC0KlzLU",
        "outputId": "bf801a50-6977-4f8e-d73c-0c2d704aeceb"
      },
      "execution_count": null,
      "outputs": [
        {
          "output_type": "stream",
          "name": "stdout",
          "text": [
            "list is not sorted\n"
          ]
        }
      ]
    },
    {
      "cell_type": "markdown",
      "source": [
        "31.Rotate a list to the left by `n` positions."
      ],
      "metadata": {
        "id": "VQxOpw_tmIRE"
      }
    },
    {
      "cell_type": "code",
      "source": [
        "a=[0, 1, 1, 2, 3, 5, 8, 13, 21, 34, 55]\n",
        "b=3\n",
        "a[b:]+a[:b]"
      ],
      "metadata": {
        "colab": {
          "base_uri": "https://localhost:8080/"
        },
        "id": "5qpA2OmfmMq5",
        "outputId": "f704b586-4566-4c78-e28d-08d4c0394381"
      },
      "execution_count": 157,
      "outputs": [
        {
          "output_type": "execute_result",
          "data": {
            "text/plain": [
              "[2, 3, 5, 8, 13, 21, 34, 55, 0, 1, 1]"
            ]
          },
          "metadata": {},
          "execution_count": 157
        }
      ]
    },
    {
      "cell_type": "markdown",
      "source": [
        "32.Rotate a list to the right by `n` positions"
      ],
      "metadata": {
        "id": "VRWJiVl2nyoj"
      }
    },
    {
      "cell_type": "code",
      "source": [
        "#another way without slicing\n",
        "a=[1,2,3,4,5,6,7]\n",
        "n=int(input(\"enter the number of rotation: \"))\n",
        "for i in range(0,n):\n",
        "  a.insert(0,a[-1])\n",
        "  a.pop(-1)\n",
        "print(a)\n",
        "\n"
      ],
      "metadata": {
        "colab": {
          "base_uri": "https://localhost:8080/"
        },
        "id": "1jZ2uom0n2JJ",
        "outputId": "0f9fdfab-3b34-4da9-ece6-d39d838a841e"
      },
      "execution_count": 156,
      "outputs": [
        {
          "output_type": "stream",
          "name": "stdout",
          "text": [
            "enter the number of rotation: 2\n",
            "[6, 7, 1, 2, 3, 4, 5]\n"
          ]
        }
      ]
    },
    {
      "cell_type": "markdown",
      "source": [
        "33.Create a list of prime numbers up to 50."
      ],
      "metadata": {
        "id": "dS9bKtFQqq-r"
      }
    },
    {
      "cell_type": "code",
      "source": [
        "a=[]\n",
        "for i in range(2,51):\n",
        "  for j in range(2,i):\n",
        "    if i%j==0:\n",
        "      break\n",
        "  else:\n",
        "    a.append(i)\n",
        "print(a)\n",
        "\n"
      ],
      "metadata": {
        "colab": {
          "base_uri": "https://localhost:8080/"
        },
        "id": "8TVTYw7Rqt3S",
        "outputId": "7f773cef-71ac-48e5-fa78-dd05a587c939"
      },
      "execution_count": null,
      "outputs": [
        {
          "output_type": "stream",
          "name": "stdout",
          "text": [
            "[2, 3, 5, 7, 11, 13, 17, 19, 23, 29, 31, 37, 41, 43, 47]\n"
          ]
        }
      ]
    },
    {
      "cell_type": "markdown",
      "source": [
        "34.Split a list into chunks of size `n`."
      ],
      "metadata": {
        "id": "DoJ4DVYsr_X-"
      }
    },
    {
      "cell_type": "code",
      "source": [
        "a=[1,2,3,4,5,6,7,8,9]\n",
        "x=[]\n",
        "b=[]\n",
        "n=int(input(\"enter the size of chunk: \"))\n",
        "for i in a:\n",
        "  b.append(i)\n",
        "  if len(b)==n:\n",
        "    x.append(b)\n",
        "    b=[]\n",
        "if b:\n",
        "  x.append(b)\n",
        "print(x)\n"
      ],
      "metadata": {
        "colab": {
          "base_uri": "https://localhost:8080/"
        },
        "id": "Ag5rnFqDsAkK",
        "outputId": "e991568f-fcae-4120-bde3-6bbfd1e267e5"
      },
      "execution_count": null,
      "outputs": [
        {
          "output_type": "stream",
          "name": "stdout",
          "text": [
            "enter the size of chunk: 3\n",
            "[[1, 2, 3], [4, 5, 6], [7, 8, 9]]\n"
          ]
        }
      ]
    },
    {
      "cell_type": "markdown",
      "source": [
        "35.Find the second largest number in a list."
      ],
      "metadata": {
        "id": "ioHIhTx0sWKE"
      }
    },
    {
      "cell_type": "code",
      "source": [
        "a=[2,3,1,8,6,11,15,13,16,23]\n",
        "a.sort()\n",
        "print(a[-2])\n"
      ],
      "metadata": {
        "colab": {
          "base_uri": "https://localhost:8080/"
        },
        "id": "CNG-Ct-RsXmJ",
        "outputId": "7bab980f-a531-42fb-ab68-01531c7cdbbe"
      },
      "execution_count": null,
      "outputs": [
        {
          "output_type": "stream",
          "name": "stdout",
          "text": [
            "16\n"
          ]
        }
      ]
    },
    {
      "cell_type": "markdown",
      "source": [
        "36.Replace every element in a list with its square."
      ],
      "metadata": {
        "id": "IrMZ92Nos1zY"
      }
    },
    {
      "cell_type": "code",
      "source": [
        "a=[3,2,4,5,1,6]\n",
        "l=[i*i for i in a]\n",
        "print(l)\n"
      ],
      "metadata": {
        "colab": {
          "base_uri": "https://localhost:8080/"
        },
        "id": "n5R-x5yos5aN",
        "outputId": "7a5609d3-ca57-4420-d725-720653eeca5b"
      },
      "execution_count": null,
      "outputs": [
        {
          "output_type": "stream",
          "name": "stdout",
          "text": [
            "[9, 4, 16, 25, 1, 36]\n"
          ]
        }
      ]
    },
    {
      "cell_type": "markdown",
      "source": [
        "37.Convert a list to a dictionary where list elements become keys and their\n",
        "indices become values.\n"
      ],
      "metadata": {
        "id": "HHa2-q96tkpK"
      }
    },
    {
      "cell_type": "code",
      "source": [
        "a=[3,4,2,5,7,1,8]        # for the unique element in list only\n",
        "x={}\n",
        "for i in a:\n",
        "  x[i]=a.index(i)\n",
        "print(x)\n",
        "\n",
        "\n"
      ],
      "metadata": {
        "colab": {
          "base_uri": "https://localhost:8080/"
        },
        "id": "jxC9BUwstrDQ",
        "outputId": "ef4b2e5d-6d82-4179-befe-24819a8b2b9f"
      },
      "execution_count": null,
      "outputs": [
        {
          "output_type": "stream",
          "name": "stdout",
          "text": [
            "{3: 0, 4: 1, 2: 2, 5: 3, 7: 4, 1: 5, 8: 6}\n"
          ]
        }
      ]
    },
    {
      "cell_type": "markdown",
      "source": [
        "38.Shuffle the elements of a list randomly."
      ],
      "metadata": {
        "id": "fsWi2KxZt3tu"
      }
    },
    {
      "cell_type": "code",
      "source": [
        "import random\n",
        "a=[1,2,3,4,5,6,7,8]\n",
        "random.shuffle(a)\n",
        "print(a)\n"
      ],
      "metadata": {
        "colab": {
          "base_uri": "https://localhost:8080/"
        },
        "id": "e8FbIcu0t8MU",
        "outputId": "f41a3eb0-226a-4e43-828e-6d8300aa1626"
      },
      "execution_count": null,
      "outputs": [
        {
          "output_type": "stream",
          "name": "stdout",
          "text": [
            "[6, 7, 3, 5, 2, 8, 1, 4]\n"
          ]
        }
      ]
    },
    {
      "cell_type": "markdown",
      "source": [
        "39.Create a list of the first 10 factorial numbers."
      ],
      "metadata": {
        "id": "pINnbSIruPue"
      }
    },
    {
      "cell_type": "code",
      "source": [
        "def fact(n):\n",
        "  if(n==0 or n==1):\n",
        "    return n\n",
        "  else:\n",
        "    return n*fact(n-1)\n",
        "a=[]\n",
        "for i in range(1,11):\n",
        "  x=fact(i)\n",
        "  a.append(x)\n",
        "print(a)\n"
      ],
      "metadata": {
        "colab": {
          "base_uri": "https://localhost:8080/"
        },
        "id": "kGP5wAveuTfD",
        "outputId": "0da17961-35ea-4329-f1ce-8289f2412eca"
      },
      "execution_count": null,
      "outputs": [
        {
          "output_type": "stream",
          "name": "stdout",
          "text": [
            "[1, 2, 6, 24, 120, 720, 5040, 40320, 362880, 3628800]\n"
          ]
        }
      ]
    },
    {
      "cell_type": "markdown",
      "source": [
        "40.Check if two lists have at least one element in common"
      ],
      "metadata": {
        "id": "c-E0OxDxuY_s"
      }
    },
    {
      "cell_type": "code",
      "source": [
        "\n",
        "a=[1,2,3,4,5]\n",
        "b=[6,7,8]\n",
        "if len(set(a).intersection(set(b)))>=1:\n",
        "  print(\"common element is present\")\n",
        "else:\n",
        "  print(\"common element is not present\")\n"
      ],
      "metadata": {
        "colab": {
          "base_uri": "https://localhost:8080/"
        },
        "id": "GZqcNNMoucSQ",
        "outputId": "63350a7b-845d-4268-e860-9d3e599a2a8c"
      },
      "execution_count": null,
      "outputs": [
        {
          "output_type": "stream",
          "name": "stdout",
          "text": [
            "common element is not present\n"
          ]
        }
      ]
    },
    {
      "cell_type": "markdown",
      "source": [
        "41.Remove all elements from a list."
      ],
      "metadata": {
        "id": "AWYDhnS5usAP"
      }
    },
    {
      "cell_type": "code",
      "source": [
        "a=[1,2,3,4,5,6,7,8]\n",
        "a.clear()\n",
        "print(a)\n"
      ],
      "metadata": {
        "colab": {
          "base_uri": "https://localhost:8080/"
        },
        "id": "c3fDF1kTuwiP",
        "outputId": "aefacaa2-313e-4c07-d7e6-ce9f62387d36"
      },
      "execution_count": null,
      "outputs": [
        {
          "output_type": "stream",
          "name": "stdout",
          "text": [
            "[]\n"
          ]
        }
      ]
    },
    {
      "cell_type": "markdown",
      "source": [
        "42.Replace negative numbers in a list with 0."
      ],
      "metadata": {
        "id": "8LPZE2x1u3AR"
      }
    },
    {
      "cell_type": "code",
      "source": [
        "a=[1,3,-1,-2,-3,1,2,3]\n",
        "for i in a:\n",
        "  if i<0:\n",
        "    x=a.index(i)\n",
        "    a.insert(x,0)\n",
        "    a.remove(i)\n",
        "print(a)\n"
      ],
      "metadata": {
        "colab": {
          "base_uri": "https://localhost:8080/"
        },
        "id": "Jc3ISKRhu7JI",
        "outputId": "a3de97e0-6503-4421-a24d-0a974b382be5"
      },
      "execution_count": null,
      "outputs": [
        {
          "output_type": "stream",
          "name": "stdout",
          "text": [
            "[1, 3, 0, 0, 0, 1, 2, 3]\n"
          ]
        }
      ]
    },
    {
      "cell_type": "markdown",
      "source": [
        "43.Convert a string into a list of words"
      ],
      "metadata": {
        "id": "vlrR019slb__"
      }
    },
    {
      "cell_type": "code",
      "source": [
        "a=input(\"enter a string: \")\n",
        "print(a.split())\n",
        "\n"
      ],
      "metadata": {
        "colab": {
          "base_uri": "https://localhost:8080/"
        },
        "id": "QIqE0nscvWVh",
        "outputId": "b6daca87-8634-4323-d574-9ce1ed9596fe"
      },
      "execution_count": null,
      "outputs": [
        {
          "output_type": "stream",
          "name": "stdout",
          "text": [
            "enter a string: Aditya Bisht\n",
            "['Aditya', 'Bisht']\n"
          ]
        }
      ]
    },
    {
      "cell_type": "markdown",
      "source": [
        "44.Convert a list of words into a string."
      ],
      "metadata": {
        "id": "KJfYzQYQvcGh"
      }
    },
    {
      "cell_type": "code",
      "source": [
        "l=[str(i) for i in input().split()]  #for taking multiple input in a list\n",
        "print(f'list of words: {l}')\n",
        "a=''.join(l)\n",
        "print(f'list of words into string: {a}')"
      ],
      "metadata": {
        "colab": {
          "base_uri": "https://localhost:8080/"
        },
        "id": "AuasDaVrvf1D",
        "outputId": "655967fd-cac9-445f-fa4b-3536c8a620d0"
      },
      "execution_count": null,
      "outputs": [
        {
          "output_type": "stream",
          "name": "stdout",
          "text": [
            "adi bisht uk\n",
            "list of words: ['adi', 'bisht', 'uk']\n",
            "list of words into string: adibishtuk\n"
          ]
        }
      ]
    },
    {
      "cell_type": "markdown",
      "source": [
        "45.Create a list of the first `n` powers of 2."
      ],
      "metadata": {
        "id": "9frchmt0yJRB"
      }
    },
    {
      "cell_type": "code",
      "source": [
        "n=int(input(\"enter the number to create a list of:  \"))\n",
        "a=[]\n",
        "for i in range(1,n+1):\n",
        "  a.append(2**i)\n",
        "print(a)\n",
        "\n"
      ],
      "metadata": {
        "colab": {
          "base_uri": "https://localhost:8080/"
        },
        "id": "L7JSvfjTyOPA",
        "outputId": "1ae02caf-4911-44fe-9d30-0a6e17c9ec46"
      },
      "execution_count": null,
      "outputs": [
        {
          "output_type": "stream",
          "name": "stdout",
          "text": [
            "enter the number to create a list of:  5\n",
            "[2, 4, 8, 16, 32]\n"
          ]
        }
      ]
    },
    {
      "cell_type": "markdown",
      "source": [
        "46.Find the longest string in a list of strings"
      ],
      "metadata": {
        "id": "U82-E0thyhxA"
      }
    },
    {
      "cell_type": "code",
      "source": [
        "l=['bisht', 'aditya','uk','age']\n",
        "x=\"\"\n",
        "for i in l:\n",
        "  if len(i)>len(x):\n",
        "    x=i\n",
        "print(f\"the longest string is {x}\")\n"
      ],
      "metadata": {
        "colab": {
          "base_uri": "https://localhost:8080/"
        },
        "id": "x1xDrOpGymo2",
        "outputId": "f3e37842-fe61-40fa-83a7-88c16c609dcf"
      },
      "execution_count": null,
      "outputs": [
        {
          "output_type": "stream",
          "name": "stdout",
          "text": [
            "the longest string is aditya\n"
          ]
        }
      ]
    },
    {
      "cell_type": "markdown",
      "source": [
        "47.Find the shortest string in a list of strings."
      ],
      "metadata": {
        "id": "SeMfxFoP0TW0"
      }
    },
    {
      "cell_type": "code",
      "source": [
        "l=['bisht', 'aditya','uk','age']\n",
        "x=l[0]\n",
        "for i in l:\n",
        "  if len(i)<len(x):\n",
        "    x=i\n",
        "print(f\"the shortest string is {x}\")\n"
      ],
      "metadata": {
        "colab": {
          "base_uri": "https://localhost:8080/"
        },
        "id": "96o7DCqE0WLi",
        "outputId": "6e5acb79-447b-4461-d335-2f6e6c93fb2b"
      },
      "execution_count": null,
      "outputs": [
        {
          "output_type": "stream",
          "name": "stdout",
          "text": [
            "the shortest string is uk\n"
          ]
        }
      ]
    },
    {
      "cell_type": "markdown",
      "source": [
        "48.Create a list of the first `n` triangular numbers."
      ],
      "metadata": {
        "id": "Hsiymbua0sdn"
      }
    },
    {
      "cell_type": "code",
      "source": [
        "n=int(input(\"enter a number: \"))\n",
        "a=[]\n",
        "sum=0\n",
        "for i in range(1,n+1):\n",
        "  sum+=i\n",
        "  a.append(sum)\n",
        "print(a)\n"
      ],
      "metadata": {
        "colab": {
          "base_uri": "https://localhost:8080/"
        },
        "id": "hjyjZ0-S0xZ6",
        "outputId": "81dbd01b-45d1-4604-a4e7-98e485c36144"
      },
      "execution_count": null,
      "outputs": [
        {
          "output_type": "stream",
          "name": "stdout",
          "text": [
            "enter a number6\n",
            "[1, 3, 6, 10, 15, 21]\n"
          ]
        }
      ]
    },
    {
      "cell_type": "markdown",
      "source": [
        "49.Check if a list contains another list as a subsequence.\n"
      ],
      "metadata": {
        "id": "hCmqFPyg1Wet"
      }
    },
    {
      "cell_type": "code",
      "source": [
        "#space for code\n"
      ],
      "metadata": {
        "id": "_uVutbiu1fh3"
      },
      "execution_count": 158,
      "outputs": []
    },
    {
      "cell_type": "markdown",
      "source": [
        "50.Swap two elements in a list by their indices."
      ],
      "metadata": {
        "id": "IJfH6Tyn1pv3"
      }
    },
    {
      "cell_type": "code",
      "source": [
        "a=[1,2,3,4,5,6,7,8]\n",
        "b=0\n",
        "for i in range(0,len(a),2):\n",
        "  b=a[i]\n",
        "  a[i]=a[i+1]\n",
        "  a[i+1]=b\n",
        "print(a)\n"
      ],
      "metadata": {
        "colab": {
          "base_uri": "https://localhost:8080/"
        },
        "id": "oIYHCzYD1sYY",
        "outputId": "519143cf-270c-4729-c9ae-bf637600a3c8"
      },
      "execution_count": null,
      "outputs": [
        {
          "output_type": "stream",
          "name": "stdout",
          "text": [
            "[2, 1, 4, 3, 6, 5, 8, 7]\n"
          ]
        }
      ]
    },
    {
      "cell_type": "markdown",
      "source": [
        "**Tuple**"
      ],
      "metadata": {
        "id": "is937GFx2Ec6"
      }
    },
    {
      "cell_type": "markdown",
      "source": [
        "1.Create a tuple with integers from 1 to 5."
      ],
      "metadata": {
        "id": "MRpGUyLI2JD0"
      }
    },
    {
      "cell_type": "code",
      "source": [
        "t=()\n",
        "a=list(t)\n",
        "for i in range(1,6):\n",
        "  a+=[i]\n",
        "print(tuple(a))\n",
        "\n",
        "#or\n",
        "for i in range(1,6):\n",
        "  t+=(i,)      #, use to take multiple integer\n",
        "print(t)\n"
      ],
      "metadata": {
        "colab": {
          "base_uri": "https://localhost:8080/"
        },
        "id": "RnWlcGGn2Sm6",
        "outputId": "27013b57-e26b-404f-d229-dc2266d7f68d"
      },
      "execution_count": null,
      "outputs": [
        {
          "output_type": "stream",
          "name": "stdout",
          "text": [
            "(1, 2, 3, 4, 5)\n",
            "(1, 2, 3, 4, 5)\n"
          ]
        }
      ]
    },
    {
      "cell_type": "markdown",
      "source": [
        "2.Access the third element of a tuple."
      ],
      "metadata": {
        "id": "dMn_g-jJ5-n8"
      }
    },
    {
      "cell_type": "code",
      "source": [
        "\n",
        "t=(1,2,3,4,5)\n",
        "print(a[2])\n"
      ],
      "metadata": {
        "colab": {
          "base_uri": "https://localhost:8080/"
        },
        "id": "ZZuasdqS6Bl_",
        "outputId": "3a8aa282-e50b-47c7-f0cd-1834ab67936a"
      },
      "execution_count": null,
      "outputs": [
        {
          "output_type": "stream",
          "name": "stdout",
          "text": [
            "3\n"
          ]
        }
      ]
    },
    {
      "cell_type": "markdown",
      "source": [
        "3.Find the length of a tuple without using the `len()` function.\n"
      ],
      "metadata": {
        "id": "hAtvha4d6Typ"
      }
    },
    {
      "cell_type": "code",
      "source": [
        "t=(1,2,3,4,5,6)\n",
        "count= 0\n",
        "for i in t:\n",
        "  count+=1\n",
        "print(count)\n"
      ],
      "metadata": {
        "colab": {
          "base_uri": "https://localhost:8080/"
        },
        "id": "ee1eY5qc6aV7",
        "outputId": "0b4b4747-f4f5-4368-af86-1cfdc3e565ac"
      },
      "execution_count": null,
      "outputs": [
        {
          "output_type": "stream",
          "name": "stdout",
          "text": [
            "6\n"
          ]
        }
      ]
    },
    {
      "cell_type": "markdown",
      "source": [
        "4.Count the occurrences of an element in a tuple.\n"
      ],
      "metadata": {
        "id": "nd4Kik6b6i18"
      }
    },
    {
      "cell_type": "code",
      "source": [
        "a=(1,2,3,4,5,3,4,3,4,5,6,3,6)\n",
        "n=int(input(\"enter the noumber: \"))\n",
        "count= 0\n",
        "for i in a:\n",
        "  if i == n:\n",
        "    count+=1\n",
        "print(f\"the occurance of {n} is {count}\")\n"
      ],
      "metadata": {
        "colab": {
          "base_uri": "https://localhost:8080/"
        },
        "id": "KFF7F4BM6l-1",
        "outputId": "49922ade-0d91-477a-d267-015af86cfe42"
      },
      "execution_count": null,
      "outputs": [
        {
          "output_type": "stream",
          "name": "stdout",
          "text": [
            "enter the noumber: 3\n",
            "the occurance of 3 is 4\n"
          ]
        }
      ]
    },
    {
      "cell_type": "markdown",
      "source": [
        "5.Find the index of the first occurrence of an element in a tuple."
      ],
      "metadata": {
        "id": "nrr3UpkI6z2X"
      }
    },
    {
      "cell_type": "code",
      "source": [
        "a=(1,2,3,4,3,4,5,6,7,8)\n",
        "n=int(input(\"enter the noumber: \"))\n",
        "for i in a:\n",
        "  if i==n:\n",
        "    x=a.index(i)\n",
        "    break\n",
        "print(f\"the index of {n} is {x}\")\n"
      ],
      "metadata": {
        "colab": {
          "base_uri": "https://localhost:8080/"
        },
        "id": "N2LvCgpg64KJ",
        "outputId": "a8e9db62-dd27-4348-813c-e8ab1ee98f3b"
      },
      "execution_count": null,
      "outputs": [
        {
          "output_type": "stream",
          "name": "stdout",
          "text": [
            "enter the noumber: 3\n",
            "the index of 3 is 2\n"
          ]
        }
      ]
    },
    {
      "cell_type": "markdown",
      "source": [
        "6.Check if an element exists in a tuple"
      ],
      "metadata": {
        "id": "lOLjheRT7EPE"
      }
    },
    {
      "cell_type": "code",
      "source": [
        "t=(1,2,3,4,5,6,7)\n",
        "n=int(input(\"enter an element: \"))\n",
        "for i in t:\n",
        "  if i==n:\n",
        "    print(f\"{n} is present in tuple\")\n",
        "    break\n",
        "else:\n",
        "  print(f\"{n} is not present in tuple\")\n"
      ],
      "metadata": {
        "colab": {
          "base_uri": "https://localhost:8080/"
        },
        "id": "R3k_HuxX7HHb",
        "outputId": "2e721853-895e-49fa-a7ee-4354d2a3cb6e"
      },
      "execution_count": null,
      "outputs": [
        {
          "output_type": "stream",
          "name": "stdout",
          "text": [
            "enter an element: 4\n",
            "4 is present in tuple\n"
          ]
        }
      ]
    },
    {
      "cell_type": "markdown",
      "source": [
        "7.Convert a tuple to a list.\n"
      ],
      "metadata": {
        "id": "88kTsOOi7Np5"
      }
    },
    {
      "cell_type": "code",
      "source": [
        "t=(1,2,3,4,5,6)\n",
        "print(list(t))\n",
        "\n"
      ],
      "metadata": {
        "colab": {
          "base_uri": "https://localhost:8080/"
        },
        "id": "KMsIpUr37RPs",
        "outputId": "8d4fdab7-b47c-4d67-ad12-130dfc2be23a"
      },
      "execution_count": null,
      "outputs": [
        {
          "output_type": "stream",
          "name": "stdout",
          "text": [
            "[1, 2, 3, 4, 5, 6]\n"
          ]
        }
      ]
    },
    {
      "cell_type": "markdown",
      "source": [
        "8.Convert a list to a tuple."
      ],
      "metadata": {
        "id": "3QeTFXLz7e-y"
      }
    },
    {
      "cell_type": "code",
      "source": [
        "t=[1,2,3,4,5]\n",
        "print(tuple(t))\n"
      ],
      "metadata": {
        "colab": {
          "base_uri": "https://localhost:8080/"
        },
        "id": "ezEpcR3Y7kud",
        "outputId": "4f007522-620e-4ee7-8d64-372c1ba43aec"
      },
      "execution_count": null,
      "outputs": [
        {
          "output_type": "stream",
          "name": "stdout",
          "text": [
            "(1, 2, 3, 4, 5)\n"
          ]
        }
      ]
    },
    {
      "cell_type": "markdown",
      "source": [
        "9.Unpack the elements of a tuple into variables.\n"
      ],
      "metadata": {
        "id": "Yx2ZhL6m7sGS"
      }
    },
    {
      "cell_type": "code",
      "source": [
        "t=(1,2,3,4,5,6)\n",
        "for i in t:\n",
        "  print(i,end=\" \")"
      ],
      "metadata": {
        "colab": {
          "base_uri": "https://localhost:8080/"
        },
        "id": "7Fn3vFe97wDj",
        "outputId": "d8aa8741-3fdc-44d1-c16c-9a38d042ea31"
      },
      "execution_count": null,
      "outputs": [
        {
          "output_type": "stream",
          "name": "stdout",
          "text": [
            "1 2 3 4 5 6 "
          ]
        }
      ]
    },
    {
      "cell_type": "markdown",
      "source": [
        "10.Create a tuple of even numbers from 1 to 10."
      ],
      "metadata": {
        "id": "MsWdldnt765K"
      }
    },
    {
      "cell_type": "code",
      "source": [
        "t=()\n",
        "for i in range(1,11):\n",
        "  if i%2 ==0:\n",
        "    t+=(i,)\n",
        "print(t)\n"
      ],
      "metadata": {
        "colab": {
          "base_uri": "https://localhost:8080/"
        },
        "id": "Li7n81_v7-KD",
        "outputId": "46f0b100-9ddc-4853-f836-6b040a0ec15b"
      },
      "execution_count": null,
      "outputs": [
        {
          "output_type": "stream",
          "name": "stdout",
          "text": [
            "(2, 4, 6, 8, 10)\n"
          ]
        }
      ]
    },
    {
      "cell_type": "markdown",
      "source": [
        "11.Create a tuple of odd numbers from 1 to 10."
      ],
      "metadata": {
        "id": "-ymJdX7H8Kmd"
      }
    },
    {
      "cell_type": "code",
      "source": [
        "t=()\n",
        "for i in range(1,11):\n",
        "  if i%2 !=0:\n",
        "    t+=(i,)\n",
        "print(t)\n"
      ],
      "metadata": {
        "colab": {
          "base_uri": "https://localhost:8080/"
        },
        "id": "wMVb23hB8N7d",
        "outputId": "78d42d15-b3cf-4afd-d951-21e03ae0aaee"
      },
      "execution_count": null,
      "outputs": [
        {
          "output_type": "stream",
          "name": "stdout",
          "text": [
            "(1, 3, 5, 7, 9)\n"
          ]
        }
      ]
    },
    {
      "cell_type": "markdown",
      "source": [
        "12.Concatenate two tuples."
      ],
      "metadata": {
        "id": "3WT0F6s68X-3"
      }
    },
    {
      "cell_type": "code",
      "source": [
        "a=(1,2,3,4,5)\n",
        "b=(6,7,8,9,10)\n",
        "c=a+b\n",
        "print(c)\n"
      ],
      "metadata": {
        "colab": {
          "base_uri": "https://localhost:8080/"
        },
        "id": "DfblsXID8dRi",
        "outputId": "e09f1269-75d3-4ad0-9cb0-6c0817d7f048"
      },
      "execution_count": null,
      "outputs": [
        {
          "output_type": "stream",
          "name": "stdout",
          "text": [
            "(1, 2, 3, 4, 5, 6, 7, 8, 9, 10)\n"
          ]
        }
      ]
    },
    {
      "cell_type": "markdown",
      "source": [
        "13.Repeat a tuple three times."
      ],
      "metadata": {
        "id": "JVcq77zL8jDC"
      }
    },
    {
      "cell_type": "code",
      "source": [
        "a=(1,2,3,4,5)\n",
        "print(a*3)\n",
        "\n"
      ],
      "metadata": {
        "colab": {
          "base_uri": "https://localhost:8080/"
        },
        "id": "KWl4IPve8mK7",
        "outputId": "39295912-3256-49d2-cf0b-1b3f24b0aa2d"
      },
      "execution_count": null,
      "outputs": [
        {
          "output_type": "stream",
          "name": "stdout",
          "text": [
            "(1, 2, 3, 4, 5, 1, 2, 3, 4, 5, 1, 2, 3, 4, 5)\n"
          ]
        }
      ]
    },
    {
      "cell_type": "markdown",
      "source": [
        "14.Check if a tuple is empty."
      ],
      "metadata": {
        "id": "gOVNbucR8tVC"
      }
    },
    {
      "cell_type": "code",
      "source": [
        "t=(1,2,3,4)\n",
        "if t == ():\n",
        "  print(\"tuple is empty\")\n",
        "else:\n",
        "  print(\"tuple is not empty\")\n"
      ],
      "metadata": {
        "colab": {
          "base_uri": "https://localhost:8080/"
        },
        "id": "7-Giuc1u8wSm",
        "outputId": "809ac211-572a-4d9a-8bcf-4e5da535a5da"
      },
      "execution_count": null,
      "outputs": [
        {
          "output_type": "stream",
          "name": "stdout",
          "text": [
            "tuple is not empty\n"
          ]
        }
      ]
    },
    {
      "cell_type": "markdown",
      "source": [
        "15.Create a nested tuple."
      ],
      "metadata": {
        "id": "EQm-5cwf832U"
      }
    },
    {
      "cell_type": "code",
      "source": [
        "t=()\n",
        "for i in range(1,10):\n",
        "  t+=((i,i+1),)\n",
        "print(t)\n"
      ],
      "metadata": {
        "colab": {
          "base_uri": "https://localhost:8080/"
        },
        "id": "LWWvOimC8-Bj",
        "outputId": "5f23849e-42ac-4cb6-e1fe-6115af4452ad"
      },
      "execution_count": null,
      "outputs": [
        {
          "output_type": "stream",
          "name": "stdout",
          "text": [
            "((1, 2), (2, 3), (3, 4), (4, 5), (5, 6), (6, 7), (7, 8), (8, 9), (9, 10))\n"
          ]
        }
      ]
    },
    {
      "cell_type": "markdown",
      "source": [
        "16.Access the first element of a nested tuple."
      ],
      "metadata": {
        "id": "EW5UHXuJ9UZz"
      }
    },
    {
      "cell_type": "code",
      "source": [
        "t=((1,2),(3,4),(4,5))\n",
        "for i in t:\n",
        "  print(i[0],end=\" \")\n"
      ],
      "metadata": {
        "colab": {
          "base_uri": "https://localhost:8080/"
        },
        "id": "gypDhEE69XUZ",
        "outputId": "85f8141b-4854-4dda-b340-450fbd8878d0"
      },
      "execution_count": null,
      "outputs": [
        {
          "output_type": "stream",
          "name": "stdout",
          "text": [
            "1 3 4 "
          ]
        }
      ]
    },
    {
      "cell_type": "markdown",
      "source": [
        "17.Create a tuple with a single element."
      ],
      "metadata": {
        "id": "CKy0umwq9lPQ"
      }
    },
    {
      "cell_type": "code",
      "source": [
        "n=(int(input(\"enter a no.\")))\n",
        "t=(n,)\n",
        "print(t,type(t))\n",
        "\n"
      ],
      "metadata": {
        "colab": {
          "base_uri": "https://localhost:8080/"
        },
        "id": "83hk-lnM9oFa",
        "outputId": "c1c53a4c-ed12-4c8b-ff41-e7cbbf8f1e7d"
      },
      "execution_count": null,
      "outputs": [
        {
          "output_type": "stream",
          "name": "stdout",
          "text": [
            "enter a no.1\n",
            "(1,) <class 'tuple'>\n"
          ]
        }
      ]
    },
    {
      "cell_type": "markdown",
      "source": [
        "18.Compare two tuples"
      ],
      "metadata": {
        "id": "ec5bauza-Y93"
      }
    },
    {
      "cell_type": "code",
      "source": [
        "a=(1,2,3,4,5)\n",
        "b=(1,2,1,2,1)\n",
        "if a==b:\n",
        "  print(\"both tuple are same\")\n",
        "else:\n",
        "  print(\"they are not same\")\n"
      ],
      "metadata": {
        "colab": {
          "base_uri": "https://localhost:8080/"
        },
        "id": "8j-uzLfu-qfm",
        "outputId": "e1e840da-2d39-42aa-eb05-41eee4669a9d"
      },
      "execution_count": null,
      "outputs": [
        {
          "output_type": "stream",
          "name": "stdout",
          "text": [
            "they are not same\n"
          ]
        }
      ]
    },
    {
      "cell_type": "markdown",
      "source": [
        "19.Delete a tuple."
      ],
      "metadata": {
        "id": "tiPxynKs-zi6"
      }
    },
    {
      "cell_type": "code",
      "source": [
        "t=(1,2,3,4,5)\n",
        "del(t)\n",
        "print(\"tuple is deleted\")\n"
      ],
      "metadata": {
        "colab": {
          "base_uri": "https://localhost:8080/"
        },
        "id": "_Z2Ju6Wy_Cgm",
        "outputId": "3939c758-1dd1-4dcb-91cb-a984254efe9e"
      },
      "execution_count": null,
      "outputs": [
        {
          "output_type": "stream",
          "name": "stdout",
          "text": [
            "tuple is deleted\n"
          ]
        }
      ]
    },
    {
      "cell_type": "markdown",
      "source": [
        "20.Slice a tuple"
      ],
      "metadata": {
        "id": "uDA8FIm3_LCC"
      }
    },
    {
      "cell_type": "code",
      "source": [
        "\n",
        "a=(1,2,3,4,5)\n",
        "b=a[1:3]\n",
        "print(b)\n"
      ],
      "metadata": {
        "colab": {
          "base_uri": "https://localhost:8080/"
        },
        "id": "RLwjDoWd_OZq",
        "outputId": "dccb9ab8-68d5-49a2-a1e1-59af49f5808b"
      },
      "execution_count": null,
      "outputs": [
        {
          "output_type": "stream",
          "name": "stdout",
          "text": [
            "(2, 3)\n"
          ]
        }
      ]
    },
    {
      "cell_type": "markdown",
      "source": [
        "21.Find the maximum value in a tuple."
      ],
      "metadata": {
        "id": "fSzMy_IX_UW7"
      }
    },
    {
      "cell_type": "code",
      "source": [
        "a=(1,2,3,4,5)\n",
        "print(max(a))\n"
      ],
      "metadata": {
        "colab": {
          "base_uri": "https://localhost:8080/"
        },
        "id": "xRlMlE1q_YEb",
        "outputId": "acb330d8-1618-46d5-bb80-0b338b50eca9"
      },
      "execution_count": null,
      "outputs": [
        {
          "output_type": "stream",
          "name": "stdout",
          "text": [
            "5\n"
          ]
        }
      ]
    },
    {
      "cell_type": "markdown",
      "source": [
        "22.Find the minimum value in a tuple."
      ],
      "metadata": {
        "id": "MMMP4WPg_e4g"
      }
    },
    {
      "cell_type": "code",
      "source": [
        "a=(1,2,3,4,5)\n",
        "print(min(a))"
      ],
      "metadata": {
        "colab": {
          "base_uri": "https://localhost:8080/"
        },
        "id": "CcLChZNS_iK0",
        "outputId": "3fedc888-a865-4629-8619-2200d340437c"
      },
      "execution_count": null,
      "outputs": [
        {
          "output_type": "stream",
          "name": "stdout",
          "text": [
            "1\n"
          ]
        }
      ]
    },
    {
      "cell_type": "markdown",
      "source": [
        "23.Convert a string to a tuple of characters."
      ],
      "metadata": {
        "id": "cKGRzb5B_lUv"
      }
    },
    {
      "cell_type": "code",
      "source": [
        "a=input(\"enter a string: \")\n",
        "t=()\n",
        "for i in a :\n",
        "  t+=(i,)\n",
        "print(t)\n"
      ],
      "metadata": {
        "colab": {
          "base_uri": "https://localhost:8080/"
        },
        "id": "JVl3fN2Y_oNy",
        "outputId": "387dc524-2c15-4bb5-f674-48e2abdb1ae0"
      },
      "execution_count": null,
      "outputs": [
        {
          "output_type": "stream",
          "name": "stdout",
          "text": [
            "enter a string: adi\n",
            "('a', 'd', 'i')\n"
          ]
        }
      ]
    },
    {
      "cell_type": "markdown",
      "source": [
        "24.Convert a tuple of characters to a string."
      ],
      "metadata": {
        "id": "31DJpEu8_wyN"
      }
    },
    {
      "cell_type": "code",
      "source": [
        "t=('a','d','i')\n",
        "b=''\n",
        "for i in t:\n",
        "  b+=i\n",
        "print(b)\n",
        "\n"
      ],
      "metadata": {
        "colab": {
          "base_uri": "https://localhost:8080/"
        },
        "id": "DEHzlqCR_zpb",
        "outputId": "b2b7a1e2-883b-4855-8389-880556417a25"
      },
      "execution_count": null,
      "outputs": [
        {
          "output_type": "stream",
          "name": "stdout",
          "text": [
            "adi\n"
          ]
        }
      ]
    },
    {
      "cell_type": "markdown",
      "source": [
        "25.Create a tuple from multiple data types."
      ],
      "metadata": {
        "id": "8sj3mm_PAAJS"
      }
    },
    {
      "cell_type": "code",
      "source": [
        "a=input(\"enter a string: \")\n",
        "b=int(input(\"enter a no: \"))\n",
        "c=float(input(\"enter a float: \"))\n",
        "t=(a,b,c)\n",
        "print(t)\n"
      ],
      "metadata": {
        "colab": {
          "base_uri": "https://localhost:8080/"
        },
        "id": "LgAgKZ7PACoL",
        "outputId": "77d58dd5-64af-46b7-f47a-2f512005bb1e"
      },
      "execution_count": null,
      "outputs": [
        {
          "output_type": "stream",
          "name": "stdout",
          "text": [
            "enter a string: adi\n",
            "enter a no: 100\n",
            "enter a float: 99.99\n",
            "('adi', 100, 99.99)\n"
          ]
        }
      ]
    },
    {
      "cell_type": "markdown",
      "source": [
        "26.Check if two tuples are identical."
      ],
      "metadata": {
        "id": "6CYPcPg-AdXW"
      }
    },
    {
      "cell_type": "code",
      "source": [
        "a=(1,2,3,4,5)\n",
        "b=(1,2,3,4,5)\n",
        "\n",
        "if a==b:\n",
        "    print(\"a and b are identical\")\n",
        "else:\n",
        "    print(\"a and b are not identical\")\n"
      ],
      "metadata": {
        "colab": {
          "base_uri": "https://localhost:8080/"
        },
        "id": "gEur7UTnAgXq",
        "outputId": "da7728c8-0a4c-4359-ad34-dd350b37d51d"
      },
      "execution_count": null,
      "outputs": [
        {
          "output_type": "stream",
          "name": "stdout",
          "text": [
            "a and b are identical\n"
          ]
        }
      ]
    },
    {
      "cell_type": "markdown",
      "source": [
        "27.Sort the elements of a tuple."
      ],
      "metadata": {
        "id": "RZuewWFnAux6"
      }
    },
    {
      "cell_type": "code",
      "source": [
        "t1=(5,2,1,3,4,6,8)\n",
        "a=list(t1)\n",
        "a.sort()\n",
        "t1=tuple(a)\n",
        "print(t1)\n",
        "\n"
      ],
      "metadata": {
        "colab": {
          "base_uri": "https://localhost:8080/"
        },
        "id": "tKDZ8jEPA0QF",
        "outputId": "9460e4d4-eb9b-47c5-d8b7-4bda6f720939"
      },
      "execution_count": null,
      "outputs": [
        {
          "output_type": "stream",
          "name": "stdout",
          "text": [
            "(1, 2, 3, 4, 5, 6, 8)\n"
          ]
        }
      ]
    },
    {
      "cell_type": "markdown",
      "source": [
        "28.Convert a tuple of integers to a tuple of strings."
      ],
      "metadata": {
        "id": "2hnR4oR7BHYT"
      }
    },
    {
      "cell_type": "code",
      "source": [
        "a=(1,2,3,4,5)\n",
        "b=()\n",
        "for i in a:\n",
        "  b+=(str(i),)\n",
        "print(b)\n"
      ],
      "metadata": {
        "colab": {
          "base_uri": "https://localhost:8080/"
        },
        "id": "sfnji1f4BKON",
        "outputId": "6ea8c43a-6732-4c2e-85c7-2493ce566b6e"
      },
      "execution_count": null,
      "outputs": [
        {
          "output_type": "stream",
          "name": "stdout",
          "text": [
            "('1', '2', '3', '4', '5')\n"
          ]
        }
      ]
    },
    {
      "cell_type": "markdown",
      "source": [
        "29.Convert a tuple of strings to a tuple of integers."
      ],
      "metadata": {
        "id": "EFy6q4PiBSuJ"
      }
    },
    {
      "cell_type": "code",
      "source": [
        "\n",
        "a=('1', '2', '3', '4', '5', '6')\n",
        "b=()\n",
        "for i in a:\n",
        "  b+=(int(i),)\n",
        "print(b)\n"
      ],
      "metadata": {
        "colab": {
          "base_uri": "https://localhost:8080/"
        },
        "id": "zQm0JgCbBVTK",
        "outputId": "6f78d222-f881-4b2e-eb98-384a37486e86"
      },
      "execution_count": null,
      "outputs": [
        {
          "output_type": "stream",
          "name": "stdout",
          "text": [
            "(1, 2, 3, 4, 5, 6)\n"
          ]
        }
      ]
    },
    {
      "cell_type": "markdown",
      "source": [
        "30.Merge two tuples"
      ],
      "metadata": {
        "id": "xUXgm1kPBjKN"
      }
    },
    {
      "cell_type": "code",
      "source": [
        "a=(1,2,3,4,5)\n",
        "b=(1,2,3,4,5)\n",
        "print(a+b)\n"
      ],
      "metadata": {
        "colab": {
          "base_uri": "https://localhost:8080/"
        },
        "id": "XSmE1CbEBlwN",
        "outputId": "06a24074-9124-44b2-9a2a-7dbcbe58ae1c"
      },
      "execution_count": null,
      "outputs": [
        {
          "output_type": "stream",
          "name": "stdout",
          "text": [
            "(1, 2, 3, 4, 5, 1, 2, 3, 4, 5)\n"
          ]
        }
      ]
    },
    {
      "cell_type": "markdown",
      "source": [
        "31.Flatten a nested tuple."
      ],
      "metadata": {
        "id": "1ib1I2YvBso1"
      }
    },
    {
      "cell_type": "code",
      "source": [
        "a=(1,(2,3),4,5)\n",
        "b=[]\n",
        "for i in a:\n",
        "  if type(i)==tuple:\n",
        "    b.extend(i)\n",
        "  else:\n",
        "    b.append(i)\n",
        "print(tuple(b))"
      ],
      "metadata": {
        "colab": {
          "base_uri": "https://localhost:8080/"
        },
        "id": "PBcc73DpBvcJ",
        "outputId": "3b95f127-c6b4-41e3-c926-c64207316890"
      },
      "execution_count": null,
      "outputs": [
        {
          "output_type": "stream",
          "name": "stdout",
          "text": [
            "(1, 2, 3, 4, 5)\n"
          ]
        }
      ]
    },
    {
      "cell_type": "markdown",
      "source": [
        "32.Create a tuple of the first 5 prime numbers."
      ],
      "metadata": {
        "id": "DcJoXv51lBsA"
      }
    },
    {
      "cell_type": "code",
      "source": [
        "a=()\n",
        "for i in range(2,50):\n",
        "  for j in range(2,i):\n",
        "    if i%j==0:\n",
        "      break\n",
        "  else:\n",
        "    a+=(i,)\n",
        "  if len(a)==5:\n",
        "    break\n",
        "print(a)\n"
      ],
      "metadata": {
        "colab": {
          "base_uri": "https://localhost:8080/"
        },
        "id": "EKXR0DjllDcE",
        "outputId": "3e7c2d0b-79ea-409e-a23c-658e9c4d1c1f"
      },
      "execution_count": 1,
      "outputs": [
        {
          "output_type": "stream",
          "name": "stdout",
          "text": [
            "(2, 3, 5, 7, 11)\n"
          ]
        }
      ]
    },
    {
      "cell_type": "markdown",
      "source": [
        "33.Check if a tuple is a palindrome.\n"
      ],
      "metadata": {
        "id": "w9SkEVKxle40"
      }
    },
    {
      "cell_type": "code",
      "source": [
        "t1=(1,2,3,2,1)\n",
        "if t1==t1[::-1]:\n",
        "  print(\"tuple is palindrome\")\n",
        "else:\n",
        "  print(\"tuple is not palindrome\")\n"
      ],
      "metadata": {
        "colab": {
          "base_uri": "https://localhost:8080/"
        },
        "id": "-x9jlFC7lki8",
        "outputId": "de2bce81-66fd-4f4b-a398-c72e4619085a"
      },
      "execution_count": 2,
      "outputs": [
        {
          "output_type": "stream",
          "name": "stdout",
          "text": [
            "tuple is palindrome\n"
          ]
        }
      ]
    },
    {
      "cell_type": "markdown",
      "source": [
        "34.Create a tuple of squares of numbers from 1 to 5."
      ],
      "metadata": {
        "id": "dYSZkdBclsKe"
      }
    },
    {
      "cell_type": "code",
      "source": [
        "a=()\n",
        "for i in range (1,6):\n",
        "  a+=(i**2,)\n",
        "print(a)\n"
      ],
      "metadata": {
        "colab": {
          "base_uri": "https://localhost:8080/"
        },
        "id": "i67j8TkWlvNR",
        "outputId": "3659501e-29c4-4451-874a-1d40496be42a"
      },
      "execution_count": 3,
      "outputs": [
        {
          "output_type": "stream",
          "name": "stdout",
          "text": [
            "(1, 4, 9, 16, 25)\n"
          ]
        }
      ]
    },
    {
      "cell_type": "markdown",
      "source": [
        "35.Filter out all even numbers from a tuple."
      ],
      "metadata": {
        "id": "bm1_Q-NRl1QK"
      }
    },
    {
      "cell_type": "code",
      "source": [
        "a=(1,2,3,4,5,6,7,8,9,10)\n",
        "for i in a:\n",
        "  if i%2==0:\n",
        "    print(i,end=\" \")\n"
      ],
      "metadata": {
        "colab": {
          "base_uri": "https://localhost:8080/"
        },
        "id": "2L0geY4el5KM",
        "outputId": "f785eafe-eb61-4e78-94ee-eba6393f1909"
      },
      "execution_count": 4,
      "outputs": [
        {
          "output_type": "stream",
          "name": "stdout",
          "text": [
            "2 4 6 8 10 "
          ]
        }
      ]
    },
    {
      "cell_type": "markdown",
      "source": [
        "36.Multiply all elements in a tuple by 2."
      ],
      "metadata": {
        "id": "WyeCfb-0l-As"
      }
    },
    {
      "cell_type": "code",
      "source": [
        "\n",
        "t1=(1,2,3,4,5,6)\n",
        "t2=()\n",
        "for i in t1:\n",
        "  t2+=(i*2,)\n",
        "print(t2)\n"
      ],
      "metadata": {
        "colab": {
          "base_uri": "https://localhost:8080/"
        },
        "id": "zJoWUl7dmAcr",
        "outputId": "6c14fadb-1856-466e-f371-a4db76294cb6"
      },
      "execution_count": 5,
      "outputs": [
        {
          "output_type": "stream",
          "name": "stdout",
          "text": [
            "(2, 4, 6, 8, 10, 12)\n"
          ]
        }
      ]
    },
    {
      "cell_type": "markdown",
      "source": [
        "37.Create a tuple of random numbers."
      ],
      "metadata": {
        "id": "xpebo6GtmsLs"
      }
    },
    {
      "cell_type": "code",
      "source": [
        "import random\n",
        "a=()\n",
        "for i in range (1,10):\n",
        "  a+=(random.randint(1,100),)\n",
        "print(a)\n"
      ],
      "metadata": {
        "colab": {
          "base_uri": "https://localhost:8080/"
        },
        "id": "LaOxuLSmmvcs",
        "outputId": "b426179f-d93a-4818-c79c-8c8bd333a563"
      },
      "execution_count": 6,
      "outputs": [
        {
          "output_type": "stream",
          "name": "stdout",
          "text": [
            "(42, 39, 44, 39, 78, 81, 72, 91, 12)\n"
          ]
        }
      ]
    },
    {
      "cell_type": "markdown",
      "source": [
        "38.Check if a tuple is sorted."
      ],
      "metadata": {
        "id": "B1AFL6TXnPo7"
      }
    },
    {
      "cell_type": "code",
      "source": [
        "t1=(1,2,3,4,5,6)\n",
        "if t1==tuple(sorted(t1)):\n",
        "  print(\"tuple is sorted\")\n",
        "else:\n",
        "  print(\"tuple is not sorted\")\n"
      ],
      "metadata": {
        "colab": {
          "base_uri": "https://localhost:8080/"
        },
        "id": "aU1W4C3-nVqG",
        "outputId": "9ba92577-4452-4183-bd9a-02a97469f458"
      },
      "execution_count": 7,
      "outputs": [
        {
          "output_type": "stream",
          "name": "stdout",
          "text": [
            "tuple is sorted\n"
          ]
        }
      ]
    },
    {
      "cell_type": "markdown",
      "source": [
        "39.Rotate a tuple to the left by `n` positions."
      ],
      "metadata": {
        "id": "5QlNQl09nwo_"
      }
    },
    {
      "cell_type": "code",
      "source": [
        "a=(1,2,3,4,5,6,7)\n",
        "b=()\n",
        "n=int(input(\"enter the number of rotation\"))\n",
        "b+=(a[n:])\n",
        "b+=(a[0:n])\n",
        "print(b)"
      ],
      "metadata": {
        "colab": {
          "base_uri": "https://localhost:8080/"
        },
        "id": "UyAV5yYJn0LT",
        "outputId": "2562eb10-01cc-49f1-8e09-96216ca83271"
      },
      "execution_count": 8,
      "outputs": [
        {
          "output_type": "stream",
          "name": "stdout",
          "text": [
            "enter the number of rotation2\n",
            "(3, 4, 5, 6, 7, 1, 2)\n"
          ]
        }
      ]
    },
    {
      "cell_type": "markdown",
      "source": [
        "40.Rotate a tuple to the right by `n` positions"
      ],
      "metadata": {
        "id": "eaCZjfLdoYu2"
      }
    },
    {
      "cell_type": "code",
      "source": [
        "a=(1,2,3,4,5,6,7)\n",
        "b=()\n",
        "n=int(input(\"enter the number of rotation\"))\n",
        "b+=(a[-n:])\n",
        "b+=(a[:-n])\n",
        "print(b)\n"
      ],
      "metadata": {
        "colab": {
          "base_uri": "https://localhost:8080/"
        },
        "id": "m-BQZRFmoeJZ",
        "outputId": "aa7fb536-f377-4f69-e1db-48b482d56e81"
      },
      "execution_count": 9,
      "outputs": [
        {
          "output_type": "stream",
          "name": "stdout",
          "text": [
            "enter the number of rotation2\n",
            "(6, 7, 1, 2, 3, 4, 5)\n"
          ]
        }
      ]
    },
    {
      "cell_type": "markdown",
      "source": [
        "41.Create a tuple of the first 5 Fibonacci numbers."
      ],
      "metadata": {
        "id": "XsKp1eKio5T0"
      }
    },
    {
      "cell_type": "code",
      "source": [
        "a=()\n",
        "x=0\n",
        "y=1\n",
        "a=(x,y)\n",
        "for i in range(1,9):\n",
        "  c=x+y\n",
        "  x=y\n",
        "  y=c\n",
        "  a+=(c,)\n",
        "  if len(a)==5:\n",
        "    break\n",
        "print(a)\n"
      ],
      "metadata": {
        "colab": {
          "base_uri": "https://localhost:8080/"
        },
        "id": "1uwkuGxqo8_H",
        "outputId": "79d80512-989f-4123-9bdf-f997eb814097"
      },
      "execution_count": 10,
      "outputs": [
        {
          "output_type": "stream",
          "name": "stdout",
          "text": [
            "(0, 1, 1, 2, 3)\n"
          ]
        }
      ]
    },
    {
      "cell_type": "markdown",
      "source": [
        "42.Create a tuple from user input."
      ],
      "metadata": {
        "id": "KJ9A1fccpJRQ"
      }
    },
    {
      "cell_type": "code",
      "source": [
        "t1=()\n",
        "n=int(input(\"enter the number of element: \"))\n",
        "for i in range(n):\n",
        "  a=int(input(\"enter the element to be enter: \"))\n",
        "  t1+=(a,)\n",
        "print(t1)\n"
      ],
      "metadata": {
        "colab": {
          "base_uri": "https://localhost:8080/"
        },
        "id": "BS60cFDmpSpI",
        "outputId": "ae345865-95bb-48ba-aaec-5173a36b63d9"
      },
      "execution_count": 12,
      "outputs": [
        {
          "output_type": "stream",
          "name": "stdout",
          "text": [
            "enter the number of element: 5\n",
            "enter the element to be enter: 1\n",
            "enter the element to be enter: 2\n",
            "enter the element to be enter: 3\n",
            "enter the element to be enter: 4\n",
            "enter the element to be enter: 5\n",
            "(1, 2, 3, 4, 5)\n"
          ]
        }
      ]
    },
    {
      "cell_type": "markdown",
      "source": [
        "43.Swap two elements in a tuple."
      ],
      "metadata": {
        "id": "6CJ8k_n1pqFo"
      }
    },
    {
      "cell_type": "code",
      "source": [
        "t1=(1,2,3,4,5)\n",
        "a=int(input(\"enter the index of 1st element to be swap: \"))\n",
        "b=int(input(\"enter the index of 2nd element to be swap: \"))\n",
        "c=list(t1)\n",
        "x=None\n",
        "x=c[a]\n",
        "c[a]=c[b]\n",
        "c[b]=x\n",
        "t1=tuple(c)\n",
        "print(t1)\n"
      ],
      "metadata": {
        "colab": {
          "base_uri": "https://localhost:8080/"
        },
        "id": "6CU0DKhcpsvi",
        "outputId": "25f68adf-b204-4605-c461-3a3a71bb80bf"
      },
      "execution_count": 16,
      "outputs": [
        {
          "output_type": "stream",
          "name": "stdout",
          "text": [
            "enter the index of 1st element to be swap: 1\n",
            "enter the index of 2nd element to be swap: 2\n",
            "(1, 3, 2, 4, 5)\n"
          ]
        }
      ]
    },
    {
      "cell_type": "markdown",
      "source": [
        "44.Reverse the elements of a tuple."
      ],
      "metadata": {
        "id": "h9e_caW_qtb6"
      }
    },
    {
      "cell_type": "code",
      "source": [
        "a=(1,2,3,4,5,6)\n",
        "print(a[::-1])\n"
      ],
      "metadata": {
        "colab": {
          "base_uri": "https://localhost:8080/"
        },
        "id": "DCUGzsXBqwCY",
        "outputId": "6a6237a4-f4ab-455a-d592-174f8b2fa905"
      },
      "execution_count": 17,
      "outputs": [
        {
          "output_type": "stream",
          "name": "stdout",
          "text": [
            "(6, 5, 4, 3, 2, 1)\n"
          ]
        }
      ]
    },
    {
      "cell_type": "markdown",
      "source": [
        "45.Create a tuple of the first `n` powers of 2."
      ],
      "metadata": {
        "id": "JgLUvGPJq4f6"
      }
    },
    {
      "cell_type": "code",
      "source": [
        "a=()\n",
        "n=int(input(\"enter the no. \"))\n",
        "for i in range(1,n+1):\n",
        "  a+=(2**i,)\n",
        "print(a)\n",
        "\n"
      ],
      "metadata": {
        "colab": {
          "base_uri": "https://localhost:8080/"
        },
        "id": "ihVDYSETq7kO",
        "outputId": "b9aa70e1-c15c-45bc-984f-d482cc9fdff1"
      },
      "execution_count": 18,
      "outputs": [
        {
          "output_type": "stream",
          "name": "stdout",
          "text": [
            "enter the no. 5\n",
            "(2, 4, 8, 16, 32)\n"
          ]
        }
      ]
    },
    {
      "cell_type": "markdown",
      "source": [
        "46.Find the longest string in a tuple of strings."
      ],
      "metadata": {
        "id": "ygZ-lnVZrbm3"
      }
    },
    {
      "cell_type": "code",
      "source": [
        "t1=('bisht','aditya','age','uk')\n",
        "x=\"\"\n",
        "for i in t1:\n",
        "  if len(i)>len(x):\n",
        "    x=i\n",
        "print(f\"the longest string is {x}\")\n"
      ],
      "metadata": {
        "colab": {
          "base_uri": "https://localhost:8080/"
        },
        "id": "2W7Qyz1brfM-",
        "outputId": "53b85e86-1353-4f3d-c747-b4d296f9bc94"
      },
      "execution_count": 19,
      "outputs": [
        {
          "output_type": "stream",
          "name": "stdout",
          "text": [
            "the longest string is aditya\n"
          ]
        }
      ]
    },
    {
      "cell_type": "markdown",
      "source": [
        "47.Find the shortest string in a tuple of strings."
      ],
      "metadata": {
        "id": "DfmEl93ertR7"
      }
    },
    {
      "cell_type": "code",
      "source": [
        "t1=('bisht','aditya','age','uk')\n",
        "x=t1[0]\n",
        "for i in t1:\n",
        "  if len(i)<len(x):\n",
        "    x=i\n",
        "print(f\"the shortest string is {x}\")"
      ],
      "metadata": {
        "colab": {
          "base_uri": "https://localhost:8080/"
        },
        "id": "bH7KWyEjrwIX",
        "outputId": "028d8cca-2ff5-4eec-c821-7f5f2f046858"
      },
      "execution_count": 23,
      "outputs": [
        {
          "output_type": "stream",
          "name": "stdout",
          "text": [
            "the shortest string is uk\n"
          ]
        }
      ]
    },
    {
      "cell_type": "markdown",
      "source": [
        "48.Create a tuple of the first `n` triangular numbers."
      ],
      "metadata": {
        "id": "9gwjbwnxsF8N"
      }
    },
    {
      "cell_type": "code",
      "source": [
        "a=()\n",
        "n=int(input(\"enter the no. of element: \"))\n",
        "sum=0\n",
        "for i in range(1,n+1):\n",
        "  sum+=i\n",
        "  a+=(sum,)\n",
        "print(a)\n"
      ],
      "metadata": {
        "colab": {
          "base_uri": "https://localhost:8080/"
        },
        "id": "Ue26Cgb8sJG1",
        "outputId": "80697389-d17d-4213-b6eb-e5885a20c1f3"
      },
      "execution_count": 154,
      "outputs": [
        {
          "output_type": "stream",
          "name": "stdout",
          "text": [
            "enter the no. of element: 5\n",
            "(1, 3, 6, 10, 15)\n"
          ]
        }
      ]
    },
    {
      "cell_type": "markdown",
      "source": [
        "49.Check if a tuple contains another tuple as a subsequence."
      ],
      "metadata": {
        "id": "idKCkDuVsRKx"
      }
    },
    {
      "cell_type": "code",
      "source": [
        "#space for code"
      ],
      "metadata": {
        "id": "GULEx_rssT6v"
      },
      "execution_count": 159,
      "outputs": []
    },
    {
      "cell_type": "markdown",
      "source": [
        "50.Create a tuple of alternating 1s and 0s of length `n`."
      ],
      "metadata": {
        "id": "iggRWfplsZen"
      }
    },
    {
      "cell_type": "code",
      "source": [
        "n=int(input(\"enter the no. of element \"))\n",
        "if(n%2==0):\n",
        "  print(a*(n//2))\n",
        "else:\n",
        "  x=a*((n-1)//2)\n",
        "  x+=(1,)\n",
        "  print(x)\n",
        "\n"
      ],
      "metadata": {
        "colab": {
          "base_uri": "https://localhost:8080/"
        },
        "id": "7XDJq2nrseyF",
        "outputId": "061fb23a-222b-40c7-c605-2609fde04c40"
      },
      "execution_count": 41,
      "outputs": [
        {
          "output_type": "stream",
          "name": "stdout",
          "text": [
            "enter the no. of element 7\n",
            "(1, 0, 1, 0, 1, 0, 1)\n"
          ]
        }
      ]
    },
    {
      "cell_type": "markdown",
      "source": [
        "**Set**"
      ],
      "metadata": {
        "id": "DHXpn9Wrsyls"
      }
    },
    {
      "cell_type": "markdown",
      "source": [
        "1.Create a set with integers from 1 to 5."
      ],
      "metadata": {
        "id": "tIVKSjhHs9GM"
      }
    },
    {
      "cell_type": "code",
      "source": [
        "a=set()\n",
        "for i in range(1,6):\n",
        "  a.add(i)\n",
        "print(a,type(a))\n"
      ],
      "metadata": {
        "colab": {
          "base_uri": "https://localhost:8080/"
        },
        "id": "Oc4btt8MvBRP",
        "outputId": "4a8125be-0c55-451d-d354-2c7814942a30"
      },
      "execution_count": 43,
      "outputs": [
        {
          "output_type": "stream",
          "name": "stdout",
          "text": [
            "{1, 2, 3, 4, 5} <class 'set'>\n"
          ]
        }
      ]
    },
    {
      "cell_type": "markdown",
      "source": [
        "2.Add an element to a set."
      ],
      "metadata": {
        "id": "M6PiUsycvJ2j"
      }
    },
    {
      "cell_type": "code",
      "source": [
        "a={1,2,3,4,5}\n",
        "n=int(input(\"enter a no: \"))\n",
        "a.add(n)\n",
        "print(a)\n"
      ],
      "metadata": {
        "colab": {
          "base_uri": "https://localhost:8080/"
        },
        "id": "wu8QSi2nvNHo",
        "outputId": "97713c00-f095-4d08-f17a-44c5607b9dfd"
      },
      "execution_count": 45,
      "outputs": [
        {
          "output_type": "stream",
          "name": "stdout",
          "text": [
            "enter a no: 6\n",
            "{1, 2, 3, 4, 5, 6}\n"
          ]
        }
      ]
    },
    {
      "cell_type": "markdown",
      "source": [
        "3.Remove an element from a set."
      ],
      "metadata": {
        "id": "VgnFEeksvVNK"
      }
    },
    {
      "cell_type": "code",
      "source": [
        "a={1,2,3,4,5}\n",
        "n=int(input(\"enter a no: \"))\n",
        "a.remove(n)\n",
        "print(a)\n"
      ],
      "metadata": {
        "colab": {
          "base_uri": "https://localhost:8080/"
        },
        "id": "WpvTmSJmvZNt",
        "outputId": "d0baeec8-e4b0-4584-8160-e17e1865941d"
      },
      "execution_count": 49,
      "outputs": [
        {
          "output_type": "stream",
          "name": "stdout",
          "text": [
            "enter a no: 4\n",
            "{1, 2, 3, 5}\n"
          ]
        }
      ]
    },
    {
      "cell_type": "markdown",
      "source": [
        "4. Check if an element exists in a set."
      ],
      "metadata": {
        "id": "2XfD8lIbvjzN"
      }
    },
    {
      "cell_type": "code",
      "source": [
        "a={1,2,3,4,5}\n",
        "n=int(input(\"enter a no: \"))\n",
        "if n in a:\n",
        "  print(\"element exists in a set\")\n",
        "else:\n",
        "  print(\"element does not exists in a set\")\n"
      ],
      "metadata": {
        "colab": {
          "base_uri": "https://localhost:8080/"
        },
        "id": "LSDBuKa7vxuM",
        "outputId": "e35f2b04-8bec-4392-f5a2-1d01543f7352"
      },
      "execution_count": 51,
      "outputs": [
        {
          "output_type": "stream",
          "name": "stdout",
          "text": [
            "enter a no: 1\n",
            "element exists in a set\n"
          ]
        }
      ]
    },
    {
      "cell_type": "markdown",
      "source": [
        "5.Find the length of a set without using the `len()` function."
      ],
      "metadata": {
        "id": "ApP8BzC3v8n3"
      }
    },
    {
      "cell_type": "code",
      "source": [
        "a={1,2,3,4,5}\n",
        "count=0\n",
        "for i in a:\n",
        "  count+=1\n",
        "print(f\"Total length of set is {count}\")\n"
      ],
      "metadata": {
        "colab": {
          "base_uri": "https://localhost:8080/"
        },
        "id": "XFDWdsdiwBKC",
        "outputId": "46381e94-689c-452d-a6bc-d546a43f3716"
      },
      "execution_count": 52,
      "outputs": [
        {
          "output_type": "stream",
          "name": "stdout",
          "text": [
            "Total length of set is 5\n"
          ]
        }
      ]
    },
    {
      "cell_type": "markdown",
      "source": [
        "6.Clear all elements from a set."
      ],
      "metadata": {
        "id": "KBtEqYe9wHrE"
      }
    },
    {
      "cell_type": "code",
      "source": [
        "a={1,2,3,4,5}\n",
        "a.clear()\n",
        "print(a)\n"
      ],
      "metadata": {
        "colab": {
          "base_uri": "https://localhost:8080/"
        },
        "id": "DYAewuWqwKHG",
        "outputId": "c2edbb33-0fb6-4861-ef0f-9df05ab9b690"
      },
      "execution_count": 53,
      "outputs": [
        {
          "output_type": "stream",
          "name": "stdout",
          "text": [
            "set()\n"
          ]
        }
      ]
    },
    {
      "cell_type": "markdown",
      "source": [
        "7.Create a set of even numbers from 1 to 10."
      ],
      "metadata": {
        "id": "w2MeT0OOwOEI"
      }
    },
    {
      "cell_type": "code",
      "source": [
        "a=set()\n",
        "for i in range(1,11):\n",
        "  if i %2 ==0:\n",
        "    a.add(i)\n",
        "print(a)\n"
      ],
      "metadata": {
        "colab": {
          "base_uri": "https://localhost:8080/"
        },
        "id": "F1hxoC5ywQ0T",
        "outputId": "c7fb7041-58b9-4b96-a24f-2ccd417dcdf0"
      },
      "execution_count": 54,
      "outputs": [
        {
          "output_type": "stream",
          "name": "stdout",
          "text": [
            "{2, 4, 6, 8, 10}\n"
          ]
        }
      ]
    },
    {
      "cell_type": "markdown",
      "source": [
        "8.Create a set of odd numbers from 1 to 10."
      ],
      "metadata": {
        "id": "KIkuTBj0wWhT"
      }
    },
    {
      "cell_type": "code",
      "source": [
        "a=set()\n",
        "for i in range(1,11):\n",
        "  if i %2 !=0:\n",
        "    a.add(i)\n",
        "print(a)\n"
      ],
      "metadata": {
        "colab": {
          "base_uri": "https://localhost:8080/"
        },
        "id": "G00nKUsEwdbc",
        "outputId": "44ac1296-5a3b-4907-c753-9fc6374d4987"
      },
      "execution_count": 55,
      "outputs": [
        {
          "output_type": "stream",
          "name": "stdout",
          "text": [
            "{1, 3, 5, 7, 9}\n"
          ]
        }
      ]
    },
    {
      "cell_type": "markdown",
      "source": [
        "9.Find the union of two sets."
      ],
      "metadata": {
        "id": "pZlIR1o7whWd"
      }
    },
    {
      "cell_type": "code",
      "source": [
        "a={1,2,3,4,5}\n",
        "b={5,6,7,8}\n",
        "print(a.union(b))\n"
      ],
      "metadata": {
        "colab": {
          "base_uri": "https://localhost:8080/"
        },
        "id": "tD1vC0eQwkCZ",
        "outputId": "77f5ed4a-2b84-4bb7-ff25-8ddec7efeb5e"
      },
      "execution_count": 56,
      "outputs": [
        {
          "output_type": "stream",
          "name": "stdout",
          "text": [
            "{1, 2, 3, 4, 5, 6, 7, 8}\n"
          ]
        }
      ]
    },
    {
      "cell_type": "markdown",
      "source": [
        "10.Find the intersection of two sets."
      ],
      "metadata": {
        "id": "2Iy2k1eFwpZS"
      }
    },
    {
      "cell_type": "code",
      "source": [
        "a={1,2,3,4,5}\n",
        "b={5,6,7}\n",
        "print(a.intersection(b))\n"
      ],
      "metadata": {
        "colab": {
          "base_uri": "https://localhost:8080/"
        },
        "id": "QYsWlUcUwsHn",
        "outputId": "f5da35cf-f684-41d6-bc8d-b572cde19a0e"
      },
      "execution_count": 57,
      "outputs": [
        {
          "output_type": "stream",
          "name": "stdout",
          "text": [
            "{5}\n"
          ]
        }
      ]
    },
    {
      "cell_type": "markdown",
      "source": [
        "11.Find the difference between two sets."
      ],
      "metadata": {
        "id": "zUKIhzDJwyti"
      }
    },
    {
      "cell_type": "code",
      "source": [
        "a={1,2,3,4,5}\n",
        "b={4,5,6,7}\n",
        "print(a-b)\n"
      ],
      "metadata": {
        "colab": {
          "base_uri": "https://localhost:8080/"
        },
        "id": "RuDZx0GOw1jh",
        "outputId": "e4eb1a07-88f4-43c0-e5ba-bcf2463853a8"
      },
      "execution_count": 59,
      "outputs": [
        {
          "output_type": "stream",
          "name": "stdout",
          "text": [
            "{1, 2, 3}\n"
          ]
        }
      ]
    },
    {
      "cell_type": "markdown",
      "source": [
        "12.Check if a set is a subset of another set."
      ],
      "metadata": {
        "id": "sSjieLtyw9Wo"
      }
    },
    {
      "cell_type": "code",
      "source": [
        "a={1,2,3,4,5}\n",
        "b={3,4,3,4,5}\n",
        "if b.issubset(a):\n",
        "  print(\"b is subset of a\")\n",
        "else:\n",
        "  print(\"b is not subset of a\")\n"
      ],
      "metadata": {
        "colab": {
          "base_uri": "https://localhost:8080/"
        },
        "id": "n-esrZbcxAT-",
        "outputId": "5a277c27-1ca7-4d37-e039-82e4fc074c58"
      },
      "execution_count": 60,
      "outputs": [
        {
          "output_type": "stream",
          "name": "stdout",
          "text": [
            "b is subset of a\n"
          ]
        }
      ]
    },
    {
      "cell_type": "markdown",
      "source": [
        "13.Check if a set is a superset of another set."
      ],
      "metadata": {
        "id": "3XKn18aAxFAJ"
      }
    },
    {
      "cell_type": "code",
      "source": [
        "#same as 12"
      ],
      "metadata": {
        "id": "xdBnS8hhxIhP"
      },
      "execution_count": null,
      "outputs": []
    },
    {
      "cell_type": "markdown",
      "source": [
        "14.Create a set from a list."
      ],
      "metadata": {
        "id": "00b2j2GMxTuc"
      }
    },
    {
      "cell_type": "code",
      "source": [
        "a=[1,2,3,4,5,6,7]\n",
        "b=set(a)\n",
        "print(b,type(b))\n"
      ],
      "metadata": {
        "colab": {
          "base_uri": "https://localhost:8080/"
        },
        "id": "jijRLsZ7xXcy",
        "outputId": "b17bd1d2-9d23-4fa7-87e2-eda9a9fbe0c1"
      },
      "execution_count": 62,
      "outputs": [
        {
          "output_type": "stream",
          "name": "stdout",
          "text": [
            "{1, 2, 3, 4, 5, 6, 7} <class 'set'>\n"
          ]
        }
      ]
    },
    {
      "cell_type": "markdown",
      "source": [
        "15.Convert a set to a list."
      ],
      "metadata": {
        "id": "DVdULrrWxm3w"
      }
    },
    {
      "cell_type": "code",
      "source": [
        "a={1,2,3,4,5,6,7}\n",
        "b=list(a)\n",
        "print(b,type(b))"
      ],
      "metadata": {
        "colab": {
          "base_uri": "https://localhost:8080/"
        },
        "id": "64HSKQpixp4s",
        "outputId": "e1a6739d-e8ac-4db1-e511-6264de60eb2c"
      },
      "execution_count": 63,
      "outputs": [
        {
          "output_type": "stream",
          "name": "stdout",
          "text": [
            "[1, 2, 3, 4, 5, 6, 7] <class 'list'>\n"
          ]
        }
      ]
    },
    {
      "cell_type": "markdown",
      "source": [
        "16.Remove a random element from a set."
      ],
      "metadata": {
        "id": "tvhsRcoVxzXg"
      }
    },
    {
      "cell_type": "code",
      "source": [
        "a={1,2,3,4,5,6,7,8}\n",
        "n=int(input(\"enter any random no: \"))\n",
        "a.remove(n)\n",
        "print(a)\n"
      ],
      "metadata": {
        "colab": {
          "base_uri": "https://localhost:8080/"
        },
        "id": "IjfdT4BWx2Ng",
        "outputId": "8fd3a6bc-2c56-4781-e47c-9db919fadb60"
      },
      "execution_count": 65,
      "outputs": [
        {
          "output_type": "stream",
          "name": "stdout",
          "text": [
            "enter any random no: 5\n",
            "{1, 2, 3, 4, 6, 7, 8}\n"
          ]
        }
      ]
    },
    {
      "cell_type": "markdown",
      "source": [
        "17.Pop an element from a set."
      ],
      "metadata": {
        "id": "bIpvujQMx-1h"
      }
    },
    {
      "cell_type": "code",
      "source": [
        "a={1,2,3,4,5,6,7,8}\n",
        "a.pop()\n",
        "print(a)"
      ],
      "metadata": {
        "colab": {
          "base_uri": "https://localhost:8080/"
        },
        "id": "rsPf-EmHyBat",
        "outputId": "a377d779-be6c-42c4-a071-d7778efde5b4"
      },
      "execution_count": 66,
      "outputs": [
        {
          "output_type": "stream",
          "name": "stdout",
          "text": [
            "{2, 3, 4, 5, 6, 7, 8}\n"
          ]
        }
      ]
    },
    {
      "cell_type": "markdown",
      "source": [
        "18.Check if two sets have no elements in common."
      ],
      "metadata": {
        "id": "jP3ORuh7yGxx"
      }
    },
    {
      "cell_type": "code",
      "source": [
        "a={1,2,3,4,5,6}\n",
        "b={5,6,7,8,9}\n",
        "if a.intersection(b):\n",
        "  print(\"two sets have elements in common\")\n",
        "else:\n",
        "  print(\"two sets have no elements in common\")\n"
      ],
      "metadata": {
        "colab": {
          "base_uri": "https://localhost:8080/"
        },
        "id": "51PQ4C0syJmz",
        "outputId": "962cff3a-ec28-44b6-b59a-719859e2be94"
      },
      "execution_count": 68,
      "outputs": [
        {
          "output_type": "stream",
          "name": "stdout",
          "text": [
            "two sets have elements in common\n"
          ]
        }
      ]
    },
    {
      "cell_type": "markdown",
      "source": [
        "19.Find the symmetric difference between two sets."
      ],
      "metadata": {
        "id": "7OjQtvSEyTcD"
      }
    },
    {
      "cell_type": "code",
      "source": [
        "a={1,2,3,4,5,6}\n",
        "b={4,5,6,7,8,9}\n",
        "print(a.symmetric_difference(b))\n"
      ],
      "metadata": {
        "colab": {
          "base_uri": "https://localhost:8080/"
        },
        "id": "ALhoW4tUyWAV",
        "outputId": "f856b815-1fb1-4777-fea6-b27fcfcabd5f"
      },
      "execution_count": 69,
      "outputs": [
        {
          "output_type": "stream",
          "name": "stdout",
          "text": [
            "{1, 2, 3, 7, 8, 9}\n"
          ]
        }
      ]
    },
    {
      "cell_type": "markdown",
      "source": [
        "20.Update a set with elements from another set"
      ],
      "metadata": {
        "id": "5nd6BxCmyea7"
      }
    },
    {
      "cell_type": "code",
      "source": [
        "a={1,2,3,4,5,6}\n",
        "b={4,5,6,7,8,9}\n",
        "a.update(b)\n",
        "print(a)\n"
      ],
      "metadata": {
        "colab": {
          "base_uri": "https://localhost:8080/"
        },
        "id": "As8MogTOyfs0",
        "outputId": "41389b7e-d104-4c37-fe84-ec9d1eec1da4"
      },
      "execution_count": 96,
      "outputs": [
        {
          "output_type": "stream",
          "name": "stdout",
          "text": [
            "{1, 2, 3, 4, 5, 6, 7, 8, 9}\n"
          ]
        }
      ]
    },
    {
      "cell_type": "markdown",
      "source": [
        "21.Create a set of the first 5 prime numbers."
      ],
      "metadata": {
        "id": "DY9898FQym8Y"
      }
    },
    {
      "cell_type": "code",
      "source": [
        "a=set()\n",
        "for i in range(2,12):\n",
        "  for j in range(2,i):\n",
        "    if i%j==0:\n",
        "      break\n",
        "  else:\n",
        "    a.add(i)\n",
        "  if len(a)==5:\n",
        "    break\n",
        "print(a)"
      ],
      "metadata": {
        "colab": {
          "base_uri": "https://localhost:8080/"
        },
        "id": "-JmErgbayqEi",
        "outputId": "1ec888ca-bb67-4553-9022-8daf220c3a0a"
      },
      "execution_count": 78,
      "outputs": [
        {
          "output_type": "stream",
          "name": "stdout",
          "text": [
            "{2, 3, 5, 7, 11}\n"
          ]
        }
      ]
    },
    {
      "cell_type": "markdown",
      "source": [
        "22.Check if two sets are identical."
      ],
      "metadata": {
        "id": "BrmpVsIGzaAP"
      }
    },
    {
      "cell_type": "code",
      "source": [
        "a={1,2,3,4,5}\n",
        "b={1,2,4,3,5}\n",
        "if a==b:\n",
        "  print(\"two sets are identical\")\n",
        "else:\n",
        "  print(\"two sets are not identical\")\n"
      ],
      "metadata": {
        "colab": {
          "base_uri": "https://localhost:8080/"
        },
        "id": "HbE3-co1zjdY",
        "outputId": "310d78af-1f1d-433e-fd35-03256a6cdc15"
      },
      "execution_count": 81,
      "outputs": [
        {
          "output_type": "stream",
          "name": "stdout",
          "text": [
            "two sets are identical\n"
          ]
        }
      ]
    },
    {
      "cell_type": "markdown",
      "source": [
        "23.Create a frozen set."
      ],
      "metadata": {
        "id": "zw0S7aQKzk4x"
      }
    },
    {
      "cell_type": "code",
      "source": [
        "a={1,2,3,4,5}\n",
        "print(frozenset(a))  #frozen set objects are immutable and can not be modified after the creation"
      ],
      "metadata": {
        "colab": {
          "base_uri": "https://localhost:8080/"
        },
        "id": "S-a_C02gzngR",
        "outputId": "a24fcb29-e377-410b-8118-4a5964254584"
      },
      "execution_count": 85,
      "outputs": [
        {
          "output_type": "stream",
          "name": "stdout",
          "text": [
            "frozenset({1, 2, 3, 4, 5})\n"
          ]
        }
      ]
    },
    {
      "cell_type": "markdown",
      "source": [
        "24.Check if a set is disjoint with another set."
      ],
      "metadata": {
        "id": "o0zS6fw5zwC8"
      }
    },
    {
      "cell_type": "code",
      "source": [
        "a={1,2,3}\n",
        "b={4,5,6,7,8,9}\n",
        "print(a.isdisjoint(b))"
      ],
      "metadata": {
        "colab": {
          "base_uri": "https://localhost:8080/"
        },
        "id": "ScDiqnxTz2t9",
        "outputId": "3cb6f532-81a9-4e18-d248-2caa675e4862"
      },
      "execution_count": 87,
      "outputs": [
        {
          "output_type": "stream",
          "name": "stdout",
          "text": [
            "True\n"
          ]
        }
      ]
    },
    {
      "cell_type": "markdown",
      "source": [
        "25.Create a set of squares of numbers from 1 to 5."
      ],
      "metadata": {
        "id": "fXdmrR_S0kIU"
      }
    },
    {
      "cell_type": "code",
      "source": [
        "\n",
        "a=set()\n",
        "for i in range(1,6):\n",
        "  a.add(i**2)  #adding value to set\n",
        "print(a)\n",
        "\n"
      ],
      "metadata": {
        "colab": {
          "base_uri": "https://localhost:8080/"
        },
        "id": "cUJll8bG0mZx",
        "outputId": "f05ba4da-f81d-416d-ce0e-7064c6115e47"
      },
      "execution_count": 90,
      "outputs": [
        {
          "output_type": "stream",
          "name": "stdout",
          "text": [
            "{1, 4, 9, 16, 25}\n"
          ]
        }
      ]
    },
    {
      "cell_type": "markdown",
      "source": [
        "26.Filter out all even numbers from a set."
      ],
      "metadata": {
        "id": "N-wgfSVu0-0P"
      }
    },
    {
      "cell_type": "code",
      "source": [
        "a={1,2,3,4,5,6,7,8,9,10}\n",
        "for i in a:\n",
        "  if i%2 ==0:\n",
        "    print(i,end=\" \")\n"
      ],
      "metadata": {
        "colab": {
          "base_uri": "https://localhost:8080/"
        },
        "id": "wpAghT0z1BsA",
        "outputId": "fd955cb5-b88e-4c5f-9476-be8151f1ec62"
      },
      "execution_count": 92,
      "outputs": [
        {
          "output_type": "stream",
          "name": "stdout",
          "text": [
            "2 4 6 8 10 "
          ]
        }
      ]
    },
    {
      "cell_type": "markdown",
      "source": [
        "27.Multiply all elements in a set by 2."
      ],
      "metadata": {
        "id": "b6UOA8Gd1JH6"
      }
    },
    {
      "cell_type": "code",
      "source": [
        "a={1,2,3,4,5,6}\n",
        "b=set()\n",
        "for i in a:\n",
        "  b.add(i*2)\n",
        "print(b)\n"
      ],
      "metadata": {
        "colab": {
          "base_uri": "https://localhost:8080/"
        },
        "id": "N0HKTJ9F1MBb",
        "outputId": "6bd10cbd-35d5-442a-eb30-867476941f7a"
      },
      "execution_count": 99,
      "outputs": [
        {
          "output_type": "stream",
          "name": "stdout",
          "text": [
            "{2, 4, 6, 8, 10, 12}\n"
          ]
        }
      ]
    },
    {
      "cell_type": "markdown",
      "source": [
        "28.Create a set of random numbers."
      ],
      "metadata": {
        "id": "Gljmhw3X2VDw"
      }
    },
    {
      "cell_type": "code",
      "source": [
        "import random\n",
        "a=set()\n",
        "for i in range (1,10):\n",
        "  a.add(random.randint(1,30))\n",
        "print(a)"
      ],
      "metadata": {
        "colab": {
          "base_uri": "https://localhost:8080/"
        },
        "id": "iRllUUu32Z--",
        "outputId": "51cefa1e-0aa9-45e3-da65-4a88a0cb63a8"
      },
      "execution_count": 110,
      "outputs": [
        {
          "output_type": "stream",
          "name": "stdout",
          "text": [
            "{6, 8, 13, 19, 20, 21, 25, 27, 30}\n"
          ]
        }
      ]
    },
    {
      "cell_type": "markdown",
      "source": [
        "29.Check if a set is empty."
      ],
      "metadata": {
        "id": "0mEHblzb3iJm"
      }
    },
    {
      "cell_type": "code",
      "source": [
        "a={1,2,3,4}\n",
        "if a==set():\n",
        "  print(\"set is empty\")\n",
        "else:\n",
        "  print(\"set is not empty\")"
      ],
      "metadata": {
        "colab": {
          "base_uri": "https://localhost:8080/"
        },
        "id": "0m8JtTyq3mPQ",
        "outputId": "97b5691e-b151-4904-f2df-d544b0e6a5cf"
      },
      "execution_count": 114,
      "outputs": [
        {
          "output_type": "stream",
          "name": "stdout",
          "text": [
            "set is not empty\n"
          ]
        }
      ]
    },
    {
      "cell_type": "markdown",
      "source": [
        "30.Create a nested set (hint: use frozenset)."
      ],
      "metadata": {
        "id": "ndpILz3y3qt6"
      }
    },
    {
      "cell_type": "code",
      "source": [
        "a={1,2,3,4}\n",
        "a.add(frozenset({1,2,3,4}))\n",
        "print(a)\n"
      ],
      "metadata": {
        "colab": {
          "base_uri": "https://localhost:8080/"
        },
        "id": "g1qjMDQy3uhT",
        "outputId": "15cc97f6-25c8-4b87-ac74-a0f893a69f12"
      },
      "execution_count": 117,
      "outputs": [
        {
          "output_type": "stream",
          "name": "stdout",
          "text": [
            "{1, 2, 3, 4, frozenset({1, 2, 3, 4})}\n"
          ]
        }
      ]
    },
    {
      "cell_type": "markdown",
      "source": [
        "31.Remove an element from a set using the discard method."
      ],
      "metadata": {
        "id": "tmg_PzNB4gkh"
      }
    },
    {
      "cell_type": "code",
      "source": [
        "a = {1, 2, 3, 4, 5, 6, 7}\n",
        "a.discard(3)\n",
        "print(a)\n"
      ],
      "metadata": {
        "colab": {
          "base_uri": "https://localhost:8080/"
        },
        "id": "fcC9jehf4sKT",
        "outputId": "f6dba2f7-3f0e-4136-c6f5-b2b894e81908"
      },
      "execution_count": 118,
      "outputs": [
        {
          "output_type": "stream",
          "name": "stdout",
          "text": [
            "{1, 2, 4, 5, 6, 7}\n"
          ]
        }
      ]
    },
    {
      "cell_type": "markdown",
      "source": [
        "32.Compare two sets."
      ],
      "metadata": {
        "id": "M2cIjO-y4zeo"
      }
    },
    {
      "cell_type": "code",
      "source": [
        "a={1,2,3,4}\n",
        "b={1,2,4,3,5}\n",
        "if a==b:\n",
        "  print(\"two sets are identical\")\n",
        "else:\n",
        "  print(\"two sets are not identical\")\n"
      ],
      "metadata": {
        "colab": {
          "base_uri": "https://localhost:8080/"
        },
        "id": "_RNJvTMA42QA",
        "outputId": "f1ffd8fe-3e47-4e8f-8303-c0b3884f56e0"
      },
      "execution_count": 120,
      "outputs": [
        {
          "output_type": "stream",
          "name": "stdout",
          "text": [
            "two sets are not identical\n"
          ]
        }
      ]
    },
    {
      "cell_type": "markdown",
      "source": [
        "33.Create a set from a string."
      ],
      "metadata": {
        "id": "ffcLi7E35An1"
      }
    },
    {
      "cell_type": "code",
      "source": [
        "a=\"adity\"\n",
        "print(set(a))\n"
      ],
      "metadata": {
        "colab": {
          "base_uri": "https://localhost:8080/"
        },
        "id": "1dc1x-FM5FRY",
        "outputId": "aa27a119-da4c-4463-8443-e89474239948"
      },
      "execution_count": 124,
      "outputs": [
        {
          "output_type": "stream",
          "name": "stdout",
          "text": [
            "{'i', 'a', 't', 'y', 'd'}\n"
          ]
        }
      ]
    },
    {
      "cell_type": "markdown",
      "source": [
        "34.Convert a set of strings to a set of integers."
      ],
      "metadata": {
        "id": "Up0X2JYp5LR-"
      }
    },
    {
      "cell_type": "code",
      "source": [
        "a={'1','2','3','4','5'}\n",
        "b=set(map(int,a))\n",
        "print(b)\n"
      ],
      "metadata": {
        "colab": {
          "base_uri": "https://localhost:8080/"
        },
        "id": "EWc2eyYX5Pn4",
        "outputId": "46872f1d-51ea-48a0-a6cd-f364921badcb"
      },
      "execution_count": 126,
      "outputs": [
        {
          "output_type": "stream",
          "name": "stdout",
          "text": [
            "{1, 2, 3, 4, 5}\n"
          ]
        }
      ]
    },
    {
      "cell_type": "markdown",
      "source": [
        "35.Convert a set of integers to a set of strings."
      ],
      "metadata": {
        "id": "IL92xcaT5YZE"
      }
    },
    {
      "cell_type": "code",
      "source": [
        "a={1,2,3,4}\n",
        "b=set(map(str,a))\n",
        "print(b)"
      ],
      "metadata": {
        "colab": {
          "base_uri": "https://localhost:8080/"
        },
        "id": "pESJ99kW5h3Z",
        "outputId": "a9a16ab8-2f97-46be-9b79-5f82a9d0cedd"
      },
      "execution_count": 127,
      "outputs": [
        {
          "output_type": "stream",
          "name": "stdout",
          "text": [
            "{'3', '1', '2', '4'}\n"
          ]
        }
      ]
    },
    {
      "cell_type": "markdown",
      "source": [
        "36.Create a set from a tuple."
      ],
      "metadata": {
        "id": "nHIpIVYl5nUm"
      }
    },
    {
      "cell_type": "code",
      "source": [
        "a=(1,2,3,4,5,6)\n",
        "print(set(a))"
      ],
      "metadata": {
        "colab": {
          "base_uri": "https://localhost:8080/"
        },
        "id": "30_BY6HQ5pzx",
        "outputId": "ed946358-a2b2-497f-ed3b-413199aed9a3"
      },
      "execution_count": 128,
      "outputs": [
        {
          "output_type": "stream",
          "name": "stdout",
          "text": [
            "{1, 2, 3, 4, 5, 6}\n"
          ]
        }
      ]
    },
    {
      "cell_type": "markdown",
      "source": [
        "37.Convert a set to a tuple."
      ],
      "metadata": {
        "id": "u1S752gc5wXR"
      }
    },
    {
      "cell_type": "code",
      "source": [
        "a={1,2,3,4,5,6}\n",
        "print(tuple(a))"
      ],
      "metadata": {
        "colab": {
          "base_uri": "https://localhost:8080/"
        },
        "id": "a57FZ7CC5y8e",
        "outputId": "235dbf4a-8817-4431-f730-c03b3b615840"
      },
      "execution_count": 129,
      "outputs": [
        {
          "output_type": "stream",
          "name": "stdout",
          "text": [
            "(1, 2, 3, 4, 5, 6)\n"
          ]
        }
      ]
    },
    {
      "cell_type": "markdown",
      "source": [
        "38.Find the maximum value in a set."
      ],
      "metadata": {
        "id": "bTt_EAAy54gd"
      }
    },
    {
      "cell_type": "code",
      "source": [
        "a={1,2,3,4,5,6}\n",
        "print(max(a))"
      ],
      "metadata": {
        "colab": {
          "base_uri": "https://localhost:8080/"
        },
        "id": "18Bi5ca258cs",
        "outputId": "2c3fa2e9-3163-4b44-8140-3c9dc4f44c03"
      },
      "execution_count": 130,
      "outputs": [
        {
          "output_type": "stream",
          "name": "stdout",
          "text": [
            "6\n"
          ]
        }
      ]
    },
    {
      "cell_type": "markdown",
      "source": [
        "39.Find the minimum value in a set."
      ],
      "metadata": {
        "id": "9XHR-ze46Czv"
      }
    },
    {
      "cell_type": "code",
      "source": [
        "a={1,2,3,4,5,6}\n",
        "print(min(a))"
      ],
      "metadata": {
        "colab": {
          "base_uri": "https://localhost:8080/"
        },
        "id": "qQn23qTy6ET3",
        "outputId": "adace5b6-5188-4a69-f205-f858956e43bf"
      },
      "execution_count": 131,
      "outputs": [
        {
          "output_type": "stream",
          "name": "stdout",
          "text": [
            "1\n"
          ]
        }
      ]
    },
    {
      "cell_type": "markdown",
      "source": [
        "40.Create a set from user input."
      ],
      "metadata": {
        "id": "5H7fTXtS6H5Z"
      }
    },
    {
      "cell_type": "code",
      "source": [
        "a=set()\n",
        "n=int(input(\"enter the number of element: \"))\n",
        "for i in range(n):\n",
        "  x=int(input(\"enter the element to be enter: \"))\n",
        "  a.add(x)\n",
        "print(a)"
      ],
      "metadata": {
        "colab": {
          "base_uri": "https://localhost:8080/"
        },
        "id": "ciMpIXO-6LEM",
        "outputId": "352c4a7f-09f9-45b9-c7f8-d68b5fbf3f87"
      },
      "execution_count": 134,
      "outputs": [
        {
          "output_type": "stream",
          "name": "stdout",
          "text": [
            "enter the number of element: 5\n",
            "enter the element to be enter: 1\n",
            "enter the element to be enter: 2\n",
            "enter the element to be enter: 3\n",
            "enter the element to be enter: 4\n",
            "enter the element to be enter: 5\n",
            "{1, 2, 3, 4, 5}\n"
          ]
        }
      ]
    },
    {
      "cell_type": "markdown",
      "source": [
        "41.Check if the intersection of two sets is empty."
      ],
      "metadata": {
        "id": "EilbylDW6SeR"
      }
    },
    {
      "cell_type": "code",
      "source": [
        "a={1,2,3,4,5}\n",
        "b={5,6,7,8,9,10}\n",
        "if a.intersection(b)==set():\n",
        "  print(\"intersection of two sets is empty\")\n",
        "else:\n",
        "  print(\"intersection of two sets is not empty\")"
      ],
      "metadata": {
        "colab": {
          "base_uri": "https://localhost:8080/"
        },
        "id": "bPJLmEWd6VwJ",
        "outputId": "97a7c704-173c-4139-e9fd-13fff971c8a7"
      },
      "execution_count": 136,
      "outputs": [
        {
          "output_type": "stream",
          "name": "stdout",
          "text": [
            "intersection of two sets is not empty\n"
          ]
        }
      ]
    },
    {
      "cell_type": "markdown",
      "source": [
        "42.Create a set of the first 5 Fibonacci numbers."
      ],
      "metadata": {
        "id": "IWno3j4q6x55"
      }
    },
    {
      "cell_type": "code",
      "source": [
        "a=set()\n",
        "x=0\n",
        "y=1\n",
        "a={x}\n",
        "for i in range(1,9):\n",
        "  c=x+y\n",
        "  x=y\n",
        "  y=c\n",
        "  a.add(c)\n",
        "  if len(a)==5:\n",
        "    break\n",
        "print(a)"
      ],
      "metadata": {
        "colab": {
          "base_uri": "https://localhost:8080/"
        },
        "id": "ktDmVIjE60y0",
        "outputId": "5cf1cf0c-ef23-449c-ca86-87e1aa39d4ac"
      },
      "execution_count": 141,
      "outputs": [
        {
          "output_type": "stream",
          "name": "stdout",
          "text": [
            "{0, 1, 2, 3, 5}\n"
          ]
        }
      ]
    },
    {
      "cell_type": "markdown",
      "source": [
        "43.Remove duplicates from a list using sets."
      ],
      "metadata": {
        "id": "tKEtkYuG8GJw"
      }
    },
    {
      "cell_type": "code",
      "source": [
        "a=[1,2,3,4,5,4,3,2,1]\n",
        "print(list(set(a)))\n"
      ],
      "metadata": {
        "colab": {
          "base_uri": "https://localhost:8080/"
        },
        "id": "SBjhk4Fp8I1x",
        "outputId": "93bdf129-ca16-47da-d4e9-d37a125c3c58"
      },
      "execution_count": 142,
      "outputs": [
        {
          "output_type": "stream",
          "name": "stdout",
          "text": [
            "[1, 2, 3, 4, 5]\n"
          ]
        }
      ]
    },
    {
      "cell_type": "markdown",
      "source": [
        "44.Check if two sets have the same elements, regardless of their count."
      ],
      "metadata": {
        "id": "qIWrKDDU8PnP"
      }
    },
    {
      "cell_type": "code",
      "source": [
        "a={1,2,3,4,3,2,1,5,2}\n",
        "b={1,2,3,4,5}\n",
        "if a==b:\n",
        "  print(\"sets have same elements\")\n",
        "else:\n",
        "  print(\"sets don't have same element \")"
      ],
      "metadata": {
        "colab": {
          "base_uri": "https://localhost:8080/"
        },
        "id": "qa0fNINQ8Sih",
        "outputId": "f87b249a-a5af-470e-fae2-c2ce7a5f02dd"
      },
      "execution_count": 143,
      "outputs": [
        {
          "output_type": "stream",
          "name": "stdout",
          "text": [
            "sets have same elements\n"
          ]
        }
      ]
    },
    {
      "cell_type": "markdown",
      "source": [
        "45.Create a set of the first `n` powers of 2."
      ],
      "metadata": {
        "id": "xvPHx33Q8a--"
      }
    },
    {
      "cell_type": "code",
      "source": [
        "a=set()\n",
        "n=int(input(\"enter the no: \"))\n",
        "for i in range(1,n+1):\n",
        "  a.add(i**2)\n",
        "print(a)"
      ],
      "metadata": {
        "colab": {
          "base_uri": "https://localhost:8080/"
        },
        "id": "3aF2xZXf8dvB",
        "outputId": "a4ffe320-9e0b-411f-e318-e98880b93952"
      },
      "execution_count": 145,
      "outputs": [
        {
          "output_type": "stream",
          "name": "stdout",
          "text": [
            "enter the no: 5\n",
            "{1, 4, 9, 16, 25}\n"
          ]
        }
      ]
    },
    {
      "cell_type": "markdown",
      "source": [
        "46.Find the common elements between a set and a list."
      ],
      "metadata": {
        "id": "GRXMWKTL89CJ"
      }
    },
    {
      "cell_type": "code",
      "source": [
        "a=[1,2,3,4,5,6,5,4,3]\n",
        "b={2,3,4,5,2,6,7}\n",
        "print(set(a).intersection(b))"
      ],
      "metadata": {
        "colab": {
          "base_uri": "https://localhost:8080/"
        },
        "id": "OxR0hyBm8_wM",
        "outputId": "23931e47-59b3-4fe3-cb49-65a24abfae46"
      },
      "execution_count": 146,
      "outputs": [
        {
          "output_type": "stream",
          "name": "stdout",
          "text": [
            "{2, 3, 4, 5, 6}\n"
          ]
        }
      ]
    },
    {
      "cell_type": "markdown",
      "source": [
        "47.Create a set of the first `n` triangular numbers."
      ],
      "metadata": {
        "id": "ODMgFeIB9NVa"
      }
    },
    {
      "cell_type": "code",
      "source": [
        "a=set()\n",
        "n=int(input(\"enter the no. of element: \"))\n",
        "sum=0\n",
        "for i in range(1,n+1):\n",
        "  sum+=i\n",
        "  a.add(sum)\n",
        "print(a)\n",
        "\n"
      ],
      "metadata": {
        "colab": {
          "base_uri": "https://localhost:8080/"
        },
        "id": "ql7eSmAC9SVM",
        "outputId": "bc37aa39-04f2-43f3-ac87-7c14f3b420fc"
      },
      "execution_count": 153,
      "outputs": [
        {
          "output_type": "stream",
          "name": "stdout",
          "text": [
            "enter the no. of element: 5\n",
            "{1, 3, 6, 10, 15}\n"
          ]
        }
      ]
    },
    {
      "cell_type": "markdown",
      "source": [
        "48.Check if a set contains another set as a subset."
      ],
      "metadata": {
        "id": "dK14eQhq9b9n"
      }
    },
    {
      "cell_type": "code",
      "source": [
        "a={1,2,3,4,5}\n",
        "b={3,4}\n",
        "if b.issubset(a):\n",
        "  print(\"b is subset of a\")\n",
        "else:\n",
        "  print(\"b is not subset of a\")"
      ],
      "metadata": {
        "colab": {
          "base_uri": "https://localhost:8080/"
        },
        "id": "W92jTaJH9me4",
        "outputId": "68be3160-f7c8-401f-c44d-70048b41d666"
      },
      "execution_count": 150,
      "outputs": [
        {
          "output_type": "stream",
          "name": "stdout",
          "text": [
            "b is subset of a\n"
          ]
        }
      ]
    },
    {
      "cell_type": "markdown",
      "source": [
        "49. Create a set of alternating 1s and 0s of length `n`."
      ],
      "metadata": {
        "id": "S6ik6Ai190cX"
      }
    },
    {
      "cell_type": "code",
      "source": [
        "#repeated values not allowed in set"
      ],
      "metadata": {
        "id": "OpXOnwn593PF"
      },
      "execution_count": null,
      "outputs": []
    },
    {
      "cell_type": "markdown",
      "source": [
        "50.Merge multiple sets into one.\n"
      ],
      "metadata": {
        "id": "0ByqNlqL97tT"
      }
    },
    {
      "cell_type": "code",
      "source": [
        "a={1,2,3,4,5}\n",
        "b={6,7,8,9,10}\n",
        "c={11,12,13,14,15}\n",
        "print(a.union(b).union(c))"
      ],
      "metadata": {
        "colab": {
          "base_uri": "https://localhost:8080/"
        },
        "id": "bh8bezNg-DBk",
        "outputId": "88a4188d-e2b2-402a-bc7e-7f271c7599dc"
      },
      "execution_count": 151,
      "outputs": [
        {
          "output_type": "stream",
          "name": "stdout",
          "text": [
            "{1, 2, 3, 4, 5, 6, 7, 8, 9, 10, 11, 12, 13, 14, 15}\n"
          ]
        }
      ]
    }
  ]
}