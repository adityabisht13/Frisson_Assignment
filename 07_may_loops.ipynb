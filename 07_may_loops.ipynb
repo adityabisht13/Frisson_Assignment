{
  "nbformat": 4,
  "nbformat_minor": 0,
  "metadata": {
    "colab": {
      "provenance": [],
      "authorship_tag": "ABX9TyMJeah1vLrFqfe5KtzZ6n/B",
      "include_colab_link": true
    },
    "kernelspec": {
      "name": "python3",
      "display_name": "Python 3"
    },
    "language_info": {
      "name": "python"
    }
  },
  "cells": [
    {
      "cell_type": "markdown",
      "metadata": {
        "id": "view-in-github",
        "colab_type": "text"
      },
      "source": [
        "<a href=\"https://colab.research.google.com/github/adityabisht13/Frisson_Assignment/blob/main/07_may_loops.ipynb\" target=\"_parent\"><img src=\"https://colab.research.google.com/assets/colab-badge.svg\" alt=\"Open In Colab\"/></a>"
      ]
    },
    {
      "cell_type": "markdown",
      "source": [
        "***Assignment_03***"
      ],
      "metadata": {
        "id": "e5qoAZTjK495"
      }
    },
    {
      "cell_type": "markdown",
      "source": [
        "**Loop**"
      ],
      "metadata": {
        "id": "Z3bGqm_JK_Pl"
      }
    },
    {
      "cell_type": "markdown",
      "source": [
        "1.Write a Python program to print the numbers from 1 to 10 using a `for` loop."
      ],
      "metadata": {
        "id": "sh11XqC-LDNv"
      }
    },
    {
      "cell_type": "code",
      "source": [
        "for i in range(1,11):\n",
        "  print(i,end=\" \")"
      ],
      "metadata": {
        "colab": {
          "base_uri": "https://localhost:8080/"
        },
        "id": "O62cwof1LGrY",
        "outputId": "eaa1a5bc-7575-4124-df8c-4f4dc99a99a5"
      },
      "execution_count": null,
      "outputs": [
        {
          "output_type": "stream",
          "name": "stdout",
          "text": [
            "1 2 3 4 5 6 7 8 9 10 "
          ]
        }
      ]
    },
    {
      "cell_type": "markdown",
      "source": [
        "2.Create a program that calculates the sum of all numbers in a list using a `for` loop."
      ],
      "metadata": {
        "id": "Py8BBhWDLVI1"
      }
    },
    {
      "cell_type": "code",
      "source": [
        "l=[1,2,3,4,5,6,7]\n",
        "sum=0\n",
        "for i in l:\n",
        "  sum=sum+i\n",
        "print(sum)"
      ],
      "metadata": {
        "colab": {
          "base_uri": "https://localhost:8080/"
        },
        "id": "YF73fht1LYn0",
        "outputId": "2fe5be7a-1830-4ce0-cf69-8115827e4f6c"
      },
      "execution_count": null,
      "outputs": [
        {
          "output_type": "stream",
          "name": "stdout",
          "text": [
            "28\n"
          ]
        }
      ]
    },
    {
      "cell_type": "markdown",
      "source": [
        "3.Write a program to print the characters of a string in reverse order using a `for` loop.\n"
      ],
      "metadata": {
        "id": "hCK1ktSGLqlL"
      }
    },
    {
      "cell_type": "code",
      "source": [
        "str_1='aditya'\n",
        "for char in range(len(str_1)-1,-1,-1):\n",
        "  print(str_1[char],end=\" \")\n"
      ],
      "metadata": {
        "colab": {
          "base_uri": "https://localhost:8080/"
        },
        "id": "2m_meTOfLudw",
        "outputId": "f93e9ce1-6440-4e49-dd16-9e624bd2d4a8"
      },
      "execution_count": null,
      "outputs": [
        {
          "output_type": "stream",
          "name": "stdout",
          "text": [
            "a y t i d a "
          ]
        }
      ]
    },
    {
      "cell_type": "markdown",
      "source": [
        "4.Develop a program that finds the factorial of a given number using a `for` loop."
      ],
      "metadata": {
        "id": "J9uUMvonMa-_"
      }
    },
    {
      "cell_type": "code",
      "source": [
        "n=int(input('Enter a no: '))\n",
        "fact=1\n",
        "for i in range(1,n+1):\n",
        "  fact=fact*i\n",
        "print(fact)\n"
      ],
      "metadata": {
        "colab": {
          "base_uri": "https://localhost:8080/"
        },
        "id": "vYTA5VGqMeap",
        "outputId": "94c4432a-e2be-411a-d3d8-973605b67853"
      },
      "execution_count": null,
      "outputs": [
        {
          "output_type": "stream",
          "name": "stdout",
          "text": [
            "Enter a no: 0\n",
            "1\n"
          ]
        }
      ]
    },
    {
      "cell_type": "markdown",
      "source": [
        "5.Create a program to print the multiplication table of a given number using a `for` loop."
      ],
      "metadata": {
        "id": "pPMVANsiSGYn"
      }
    },
    {
      "cell_type": "code",
      "source": [
        "n=int(input('enter a number: '))\n",
        "for index,element in enumerate (list(range(n,(n*10)+1,n))):\n",
        "  print(f'{n} * {index+1} = {element}')"
      ],
      "metadata": {
        "colab": {
          "base_uri": "https://localhost:8080/"
        },
        "id": "Zd_gTkwcSK_g",
        "outputId": "3e3a9e9f-3b91-491c-e84c-e550b23dd81f"
      },
      "execution_count": null,
      "outputs": [
        {
          "output_type": "stream",
          "name": "stdout",
          "text": [
            "enter a number: 5\n",
            "5 * 1 = 5\n",
            "5 * 2 = 10\n",
            "5 * 3 = 15\n",
            "5 * 4 = 20\n",
            "5 * 5 = 25\n",
            "5 * 6 = 30\n",
            "5 * 7 = 35\n",
            "5 * 8 = 40\n",
            "5 * 9 = 45\n",
            "5 * 10 = 50\n"
          ]
        }
      ]
    },
    {
      "cell_type": "markdown",
      "source": [
        "6.Write a program that counts the number of even and odd numbers in a list using a `for` loop.\n"
      ],
      "metadata": {
        "id": "nutodrx1Suuk"
      }
    },
    {
      "cell_type": "code",
      "source": [
        "l=[1,2,3,4,5,6,7,8,9]\n",
        "even=0\n",
        "odd=0\n",
        "for i in l:\n",
        "  if i%2==0:\n",
        "    even=even+1\n",
        "  else:\n",
        "    odd=odd+1\n",
        "print(f'count of even number {even}')\n",
        "print(f'count of odd number {odd}')"
      ],
      "metadata": {
        "colab": {
          "base_uri": "https://localhost:8080/"
        },
        "id": "cCduaAo-SzvL",
        "outputId": "b167c8bb-4f68-4077-91fd-671d4613c1e6"
      },
      "execution_count": null,
      "outputs": [
        {
          "output_type": "stream",
          "name": "stdout",
          "text": [
            "count of even number 4\n",
            "count of odd number 5\n"
          ]
        }
      ]
    },
    {
      "cell_type": "markdown",
      "source": [
        "7.Develop a program that prints the squares of numbers from 1 to 5 using a `for` loop."
      ],
      "metadata": {
        "id": "AdLSEUMNTX_P"
      }
    },
    {
      "cell_type": "code",
      "source": [
        "for i in range(1,6):\n",
        "  i=i*i\n",
        "  print(i,end=\" \")"
      ],
      "metadata": {
        "colab": {
          "base_uri": "https://localhost:8080/"
        },
        "id": "Bj6qCZSFTeAw",
        "outputId": "eb4d61be-b9ef-47c3-dc27-c1a8cac8d101"
      },
      "execution_count": null,
      "outputs": [
        {
          "output_type": "stream",
          "name": "stdout",
          "text": [
            "1 4 9 16 25 "
          ]
        }
      ]
    },
    {
      "cell_type": "markdown",
      "source": [
        "8.Create a program to find the length of a string without using the `len()` function."
      ],
      "metadata": {
        "id": "fx1fB3TQUqIv"
      }
    },
    {
      "cell_type": "code",
      "source": [
        "str_1='aditya'\n",
        "count=0\n",
        "for i in str_1:\n",
        "  count+=1\n",
        "print(count)"
      ],
      "metadata": {
        "colab": {
          "base_uri": "https://localhost:8080/"
        },
        "id": "Rrng_Tq9UutO",
        "outputId": "aefca586-a7b7-45d1-c674-e74da63619df"
      },
      "execution_count": null,
      "outputs": [
        {
          "output_type": "stream",
          "name": "stdout",
          "text": [
            "6\n"
          ]
        }
      ]
    },
    {
      "cell_type": "markdown",
      "source": [
        "9.Write a program that calculates the average of a list of numbers using a `for` loop"
      ],
      "metadata": {
        "id": "kAF7e-DGU4f9"
      }
    },
    {
      "cell_type": "code",
      "source": [
        "l=[1,2,3,4,5,6,7,8,9,10]\n",
        "sum=0\n",
        "a=len(l)\n",
        "for i in l:\n",
        "  sum=sum+i\n",
        "print(f'average is {sum/a}')"
      ],
      "metadata": {
        "colab": {
          "base_uri": "https://localhost:8080/"
        },
        "id": "18FCv71uU9QR",
        "outputId": "e956f55a-bf99-453e-f72d-4a7b04ce9277"
      },
      "execution_count": null,
      "outputs": [
        {
          "output_type": "stream",
          "name": "stdout",
          "text": [
            "average is 5.5\n"
          ]
        }
      ]
    },
    {
      "cell_type": "markdown",
      "source": [
        "10.Develop a program that prints the first `n` Fibonacci numbers using a `for` loop."
      ],
      "metadata": {
        "id": "Yd93vvfRVrOI"
      }
    },
    {
      "cell_type": "code",
      "source": [
        "n=int(input('enter a no: '))\n",
        "a=0\n",
        "b=1\n",
        "for i in range(0,n+1):\n",
        "    print(a,end=\" \")\n",
        "    sum=a+b\n",
        "    a=b\n",
        "    b=sum\n",
        "\n"
      ],
      "metadata": {
        "colab": {
          "base_uri": "https://localhost:8080/"
        },
        "id": "IMqgHuKLVvub",
        "outputId": "9018b48f-cc6d-4c82-e343-79989d4d2bce"
      },
      "execution_count": null,
      "outputs": [
        {
          "output_type": "stream",
          "name": "stdout",
          "text": [
            "enter a no: 5\n",
            "0 1 1 2 3 5 "
          ]
        }
      ]
    },
    {
      "cell_type": "markdown",
      "source": [
        "11.Write a program to check if a given list contains any duplicates using a `for` loop."
      ],
      "metadata": {
        "id": "6wbSG0QSYhA2"
      }
    },
    {
      "cell_type": "code",
      "source": [
        "l=[1,2,3,2,2,3,4,5,4,6,7]\n",
        "count=0\n",
        "for i in l:\n",
        "  if l.count(i)>1:\n",
        "    print(f'it contain duplicate')\n",
        "    break\n",
        "else:\n",
        "    print('it does not contain duplicate ')\n",
        "\n"
      ],
      "metadata": {
        "colab": {
          "base_uri": "https://localhost:8080/"
        },
        "id": "WO_Y9kJVYmlv",
        "outputId": "d9144870-d96b-4cbf-f73e-a866fda2503b"
      },
      "execution_count": null,
      "outputs": [
        {
          "output_type": "stream",
          "name": "stdout",
          "text": [
            "it contain duplicate\n"
          ]
        }
      ]
    },
    {
      "cell_type": "markdown",
      "source": [
        "12.Create a program that prints the prime numbers in a given range using a `for` loop."
      ],
      "metadata": {
        "id": "Iogfo--eeJeK"
      }
    },
    {
      "cell_type": "code",
      "source": [
        "n=int(input('enter the range: '))\n",
        "for i in range (2,n+1):\n",
        "  for j in range(2,i):\n",
        "    if i%j==0:\n",
        "      break\n",
        "  else:\n",
        "    print(i)\n"
      ],
      "metadata": {
        "colab": {
          "base_uri": "https://localhost:8080/"
        },
        "id": "u_KF2ZFreVVo",
        "outputId": "d59331f2-ae07-41f8-bc4c-2ef18375ecfe"
      },
      "execution_count": null,
      "outputs": [
        {
          "output_type": "stream",
          "name": "stdout",
          "text": [
            "enter the range: 10\n",
            "2\n",
            "3\n",
            "5\n",
            "7\n"
          ]
        }
      ]
    },
    {
      "cell_type": "markdown",
      "source": [
        "13.Develop a program that counts the number of vowels in a string using a `for` loop."
      ],
      "metadata": {
        "id": "0jFtGRM8g1bt"
      }
    },
    {
      "cell_type": "code",
      "source": [
        "str_1='aditya'\n",
        "vowel='aeiouAEIOU'\n",
        "count=0\n",
        "for i in str_1:\n",
        "  if i in vowel:\n",
        "    count+=1\n",
        "print(f'number of vowels are {count}')"
      ],
      "metadata": {
        "colab": {
          "base_uri": "https://localhost:8080/"
        },
        "id": "Q1TOTjrBg4uk",
        "outputId": "40dfe431-6157-46db-bc19-57743e8e039c"
      },
      "execution_count": null,
      "outputs": [
        {
          "output_type": "stream",
          "name": "stdout",
          "text": [
            "number of vowels are 3\n"
          ]
        }
      ]
    },
    {
      "cell_type": "markdown",
      "source": [
        "14.Write a program to find the maximum element in a 2D list using a nested `for` loop."
      ],
      "metadata": {
        "id": "EOHo64WYhc_9"
      }
    },
    {
      "cell_type": "code",
      "source": [
        "l=[[71,81],[91,41],[30,31],[51,61]]\n",
        "max=0\n",
        "for i in l:\n",
        "  for j in i:\n",
        "    if j>max:\n",
        "      max=j\n",
        "print(f'the maximum element in the 2d list is {max}')\n",
        "\n"
      ],
      "metadata": {
        "colab": {
          "base_uri": "https://localhost:8080/"
        },
        "id": "RT52TFpEiPYQ",
        "outputId": "a57c654c-d13f-488a-ac7a-ff9490c3acce"
      },
      "execution_count": null,
      "outputs": [
        {
          "output_type": "stream",
          "name": "stdout",
          "text": [
            "the maximum element in the 2d list is 91\n"
          ]
        }
      ]
    },
    {
      "cell_type": "markdown",
      "source": [
        "15.Create a program that removes all occurrences of a specific element from a list using a `for` loop"
      ],
      "metadata": {
        "id": "bUMRooKFizmQ"
      }
    },
    {
      "cell_type": "code",
      "source": [
        "l=[1,2,3,3,3,2,4,3,5,6]\n",
        "l1=[]\n",
        "n=int(input('enter the number: '))\n",
        "remove=[n]\n",
        "for i in l:\n",
        "  if i not in remove:\n",
        "    l1.append(i)\n",
        "print(l1)\n"
      ],
      "metadata": {
        "colab": {
          "base_uri": "https://localhost:8080/"
        },
        "id": "4VY3y8oii4qc",
        "outputId": "5043f778-cba3-4bbf-9f6b-5501975e7243"
      },
      "execution_count": null,
      "outputs": [
        {
          "output_type": "stream",
          "name": "stdout",
          "text": [
            "enter the number: 3\n",
            "[1, 2, 2, 4, 5, 6]\n"
          ]
        }
      ]
    },
    {
      "cell_type": "markdown",
      "source": [
        "16.Develop a program that generates a multiplication table for numbers from 1 to 5 using a nested `for` loop."
      ],
      "metadata": {
        "id": "X2wsYwR6l6Fh"
      }
    },
    {
      "cell_type": "code",
      "source": [
        "for i in range(1,6):\n",
        "  for j in range(1,11):\n",
        "    print(f'{i} * {j} = {i*j}' )\n"
      ],
      "metadata": {
        "colab": {
          "base_uri": "https://localhost:8080/"
        },
        "id": "z4VhpQxDl9uq",
        "outputId": "cc0ca03c-4f10-44d9-f335-69855ce4b525"
      },
      "execution_count": null,
      "outputs": [
        {
          "output_type": "stream",
          "name": "stdout",
          "text": [
            "1 * 1 = 1\n",
            "1 * 2 = 2\n",
            "1 * 3 = 3\n",
            "1 * 4 = 4\n",
            "1 * 5 = 5\n",
            "1 * 6 = 6\n",
            "1 * 7 = 7\n",
            "1 * 8 = 8\n",
            "1 * 9 = 9\n",
            "1 * 10 = 10\n",
            "2 * 1 = 2\n",
            "2 * 2 = 4\n",
            "2 * 3 = 6\n",
            "2 * 4 = 8\n",
            "2 * 5 = 10\n",
            "2 * 6 = 12\n",
            "2 * 7 = 14\n",
            "2 * 8 = 16\n",
            "2 * 9 = 18\n",
            "2 * 10 = 20\n",
            "3 * 1 = 3\n",
            "3 * 2 = 6\n",
            "3 * 3 = 9\n",
            "3 * 4 = 12\n",
            "3 * 5 = 15\n",
            "3 * 6 = 18\n",
            "3 * 7 = 21\n",
            "3 * 8 = 24\n",
            "3 * 9 = 27\n",
            "3 * 10 = 30\n",
            "4 * 1 = 4\n",
            "4 * 2 = 8\n",
            "4 * 3 = 12\n",
            "4 * 4 = 16\n",
            "4 * 5 = 20\n",
            "4 * 6 = 24\n",
            "4 * 7 = 28\n",
            "4 * 8 = 32\n",
            "4 * 9 = 36\n",
            "4 * 10 = 40\n",
            "5 * 1 = 5\n",
            "5 * 2 = 10\n",
            "5 * 3 = 15\n",
            "5 * 4 = 20\n",
            "5 * 5 = 25\n",
            "5 * 6 = 30\n",
            "5 * 7 = 35\n",
            "5 * 8 = 40\n",
            "5 * 9 = 45\n",
            "5 * 10 = 50\n"
          ]
        }
      ]
    },
    {
      "cell_type": "markdown",
      "source": [
        "17.Write a program that converts a list of Fahrenheit temperatures to Celsius using a `for` loop."
      ],
      "metadata": {
        "id": "mwUBOXB3namh"
      }
    },
    {
      "cell_type": "code",
      "source": [
        "l1=[34,45,56,78,88,99] #temp in fahrenheit\n",
        "l2=[]\n",
        "for i in l1:\n",
        "  i=(i-32)*5/9\n",
        "  l2.append(round(i,2))\n",
        "print(f'temp in fahrenheit {l1}')\n",
        "print(f'temp in celsius {l2}')\n"
      ],
      "metadata": {
        "colab": {
          "base_uri": "https://localhost:8080/"
        },
        "id": "pqeSAXLNnf6n",
        "outputId": "06a6a955-5f01-430e-9333-46cc3b6b5585"
      },
      "execution_count": null,
      "outputs": [
        {
          "output_type": "stream",
          "name": "stdout",
          "text": [
            "temp in fahrenheit [34, 45, 56, 78, 88, 99]\n",
            "temp in celsius [1.11, 7.22, 13.33, 25.56, 31.11, 37.22]\n"
          ]
        }
      ]
    },
    {
      "cell_type": "markdown",
      "source": [
        "18.Create a program to print the common elements from two lists using a `for` loop."
      ],
      "metadata": {
        "id": "MEWnsYvNpl_J"
      }
    },
    {
      "cell_type": "code",
      "source": [
        "l1=[1,2,3,4,5,6,7,8]\n",
        "l2=[3,4,5,6,10,11]\n",
        "l3=[]\n",
        "for i in l1:\n",
        "  if i in l2:\n",
        "    l3.append(i)\n",
        "print(l3)\n",
        "\n"
      ],
      "metadata": {
        "id": "sKfpJT9WpriS",
        "colab": {
          "base_uri": "https://localhost:8080/"
        },
        "outputId": "0bb8d6a4-4c4b-4e4e-c7d1-3c39e996da8e"
      },
      "execution_count": null,
      "outputs": [
        {
          "output_type": "stream",
          "name": "stdout",
          "text": [
            "[3, 4, 5, 6]\n"
          ]
        }
      ]
    },
    {
      "cell_type": "markdown",
      "source": [
        "19.Develop a program that prints the pattern of right-angled triangles using a `for` loop. Use ‘*’ to draw the pattern."
      ],
      "metadata": {
        "id": "Ia4GF-2OueTF"
      }
    },
    {
      "cell_type": "code",
      "source": [
        "for i in range(1,6):\n",
        "  for j in range(1,i+1):\n",
        "    print('*',end='')\n",
        "  print()"
      ],
      "metadata": {
        "colab": {
          "base_uri": "https://localhost:8080/"
        },
        "id": "YfPDhgauunTY",
        "outputId": "afad964d-c3dc-4e1e-a25e-225e199a904b"
      },
      "execution_count": null,
      "outputs": [
        {
          "output_type": "stream",
          "name": "stdout",
          "text": [
            "*\n",
            "**\n",
            "***\n",
            "****\n",
            "*****\n"
          ]
        }
      ]
    },
    {
      "cell_type": "markdown",
      "source": [
        "20.Write a program to find the greatest common divisor (GCD) of two numbers using a `for` loop."
      ],
      "metadata": {
        "id": "YSVy7Vu3v_0C"
      }
    },
    {
      "cell_type": "code",
      "source": [
        "a = int(input('1st num: '))\n",
        "b = int(input('2st num: '))\n",
        "gcd = 0\n",
        "if a>b :\n",
        "    count = a\n",
        "else:\n",
        "    count = b\n",
        "for i in range(1,count+1):\n",
        "    if a%i == 0 and b%i == 0:\n",
        "        gcd = i\n",
        "print(f'greatest common divisor (GCD) of two numbers  is {gcd}')"
      ],
      "metadata": {
        "colab": {
          "base_uri": "https://localhost:8080/"
        },
        "id": "seO-XA6zwEn0",
        "outputId": "1fe9550d-9bbb-4c29-e040-ca04768b9fd5"
      },
      "execution_count": null,
      "outputs": [
        {
          "output_type": "stream",
          "name": "stdout",
          "text": [
            "1st num: 56\n",
            "2st num: 98\n",
            "greatest common divisor (GCD) of two numbers  is 14\n"
          ]
        }
      ]
    },
    {
      "cell_type": "markdown",
      "source": [
        "21.Create a program that calculates the sum of the digits of numbers in a list using a list comprehension."
      ],
      "metadata": {
        "id": "uubKDVM4yHkg"
      }
    },
    {
      "cell_type": "code",
      "source": [
        "l1=[1,2,3,4,5,6,7,8]\n",
        "sum=0\n",
        "l2=[sum:=sum+i for i in l1]\n",
        "print(sum)"
      ],
      "metadata": {
        "colab": {
          "base_uri": "https://localhost:8080/"
        },
        "id": "WguZLYEvyKrV",
        "outputId": "33946e7f-63fd-4b0b-8ce2-1eb618f16c8f"
      },
      "execution_count": null,
      "outputs": [
        {
          "output_type": "stream",
          "name": "stdout",
          "text": [
            "36\n"
          ]
        }
      ]
    },
    {
      "cell_type": "markdown",
      "source": [
        "22.Write a program to find the prime factors of a given number using a `for` loop and list comprehension."
      ],
      "metadata": {
        "id": "BL_XW7et5YY5"
      }
    },
    {
      "cell_type": "code",
      "source": [
        "n=int(input('enter a number: '))\n",
        "l1=[i for i in range(2,n+1) if n%i==0 and all(i%j !=0 for j in range(2,i)) ]\n",
        "print(f'prime factor are {l1}')"
      ],
      "metadata": {
        "colab": {
          "base_uri": "https://localhost:8080/"
        },
        "id": "xSF5hUuz5bwi",
        "outputId": "bea28a5c-5ddb-4fb8-ef49-56b11eb3e2aa"
      },
      "execution_count": null,
      "outputs": [
        {
          "output_type": "stream",
          "name": "stdout",
          "text": [
            "enter a number: 10\n",
            "prime factor are [2, 5]\n"
          ]
        }
      ]
    },
    {
      "cell_type": "markdown",
      "source": [
        "23.Develop a program that extracts unique elements from a list and stores them in a new list using a list comprehension.\n"
      ],
      "metadata": {
        "id": "qnOBC2L5_HXO"
      }
    },
    {
      "cell_type": "code",
      "source": [
        "l1=[1,2,3,4,5,6,1,2,3,4]\n",
        "l2=[]\n",
        "l3=[l2.append(i) for i in l1 if i not in l2]\n",
        "print(l2)\n"
      ],
      "metadata": {
        "colab": {
          "base_uri": "https://localhost:8080/"
        },
        "id": "ARhIorOr_Lhe",
        "outputId": "3868f4ed-e43e-4b3f-a757-8295f80485df"
      },
      "execution_count": null,
      "outputs": [
        {
          "output_type": "stream",
          "name": "stdout",
          "text": [
            "[1, 2, 3, 4, 5, 6]\n"
          ]
        }
      ]
    },
    {
      "cell_type": "markdown",
      "source": [
        "24.Create a program that generates a list of all palindromic numbers up to a specified limit using a list\n",
        "comprehension.\n"
      ],
      "metadata": {
        "id": "7lAdzym2_76H"
      }
    },
    {
      "cell_type": "code",
      "source": [
        "n=int(input('enter the range: '))\n",
        "l1=[i for i in range(10,n) if str(i)== str(i)[::-1]]\n",
        "print(l1)"
      ],
      "metadata": {
        "colab": {
          "base_uri": "https://localhost:8080/"
        },
        "id": "c0W7LuPMDw5t",
        "outputId": "fa2aa3e5-bee0-48c0-e6c6-01d3c49918ee"
      },
      "execution_count": null,
      "outputs": [
        {
          "output_type": "stream",
          "name": "stdout",
          "text": [
            "enter the range: 50\n",
            "[11, 22, 33, 44]\n"
          ]
        }
      ]
    },
    {
      "cell_type": "markdown",
      "source": [
        "25.Write a program to flatten a nested list using list comprehension."
      ],
      "metadata": {
        "id": "PLDK2xMHDxwZ"
      }
    },
    {
      "cell_type": "code",
      "source": [
        "l1 = [[1, 2], [3, 4, 5], [6, 7]]\n",
        "l2 = [j for i in l1 for j in i]\n",
        "print(l2)"
      ],
      "metadata": {
        "colab": {
          "base_uri": "https://localhost:8080/"
        },
        "id": "lW3qWjRjD1MD",
        "outputId": "41a08e32-b862-425e-e931-4fc04e29b638"
      },
      "execution_count": null,
      "outputs": [
        {
          "output_type": "stream",
          "name": "stdout",
          "text": [
            "[1, 2, 3, 4, 5, 6, 7]\n"
          ]
        }
      ]
    },
    {
      "cell_type": "markdown",
      "source": [
        "26.Develop a program that computes the sum of even and odd numbers in a list separately using list\n",
        "comprehension.\n"
      ],
      "metadata": {
        "id": "h2jMj7QbEYjN"
      }
    },
    {
      "cell_type": "code",
      "source": [
        "l1=[1,2,3,4,5,6,7,8,9,10]\n",
        "even_total=0\n",
        "odd_total=0\n",
        "l2=[even_total:=even_total+i for i in l1 if i%2==0]\n",
        "l3=[odd_total:=odd_total+i for i in l1 if i%2!=0]\n",
        "print(f'sum of even number is {even_total}')\n",
        "print(f'sum of odd number is {odd_total}')"
      ],
      "metadata": {
        "colab": {
          "base_uri": "https://localhost:8080/"
        },
        "id": "vOqowoMwEezw",
        "outputId": "63b94fd8-4e4b-4617-ef7d-4e398d74a095"
      },
      "execution_count": null,
      "outputs": [
        {
          "output_type": "stream",
          "name": "stdout",
          "text": [
            "sum of even number is 30\n",
            "sum of odd number is 25\n"
          ]
        }
      ]
    },
    {
      "cell_type": "markdown",
      "source": [
        "27.Create a program that generates a list of squares of odd numbers between 1 and 10 using list\n",
        "comprehension.\n"
      ],
      "metadata": {
        "id": "JPjyrTmGE_E2"
      }
    },
    {
      "cell_type": "code",
      "source": [
        "l1=[1,2,3,4,5,6,7,8,9,10]\n",
        "l2=[i*i for i in l1 if i%2!=0]\n",
        "print(l2)"
      ],
      "metadata": {
        "colab": {
          "base_uri": "https://localhost:8080/"
        },
        "id": "IhX2jdWLFCO7",
        "outputId": "7580ad9f-99ab-4e87-d381-067abb103201"
      },
      "execution_count": null,
      "outputs": [
        {
          "output_type": "stream",
          "name": "stdout",
          "text": [
            "[1, 9, 25, 49, 81]\n"
          ]
        }
      ]
    },
    {
      "cell_type": "markdown",
      "source": [
        "28.Write a program that combines two lists into a dictionary using list comprehension."
      ],
      "metadata": {
        "id": "kINWcEdQFa6I"
      }
    },
    {
      "cell_type": "code",
      "source": [
        "l1=['name','age','company']\n",
        "l2=['adi',21,'frisson']\n",
        "dict={}\n",
        "l3=[dict.update({l1[i]:l2[i]}) for i in range(0,len(l1)) ]\n",
        "print(dict)"
      ],
      "metadata": {
        "colab": {
          "base_uri": "https://localhost:8080/"
        },
        "id": "fOu_s-EWFfKp",
        "outputId": "1d815c95-a591-482a-c89f-cf5224df0b3e"
      },
      "execution_count": null,
      "outputs": [
        {
          "output_type": "stream",
          "name": "stdout",
          "text": [
            "{'name': 'adi', 'age': 21, 'company': 'frisson'}\n"
          ]
        }
      ]
    },
    {
      "cell_type": "markdown",
      "source": [
        "29.Develop a program that extracts the vowels from a string and stores them in a list using list comprehension."
      ],
      "metadata": {
        "id": "VnSZwQbWFoON"
      }
    },
    {
      "cell_type": "code",
      "source": [
        "str_1='aditya'\n",
        "vowel='aeiouAEIOU'\n",
        "l1=[i for i in str_1 if i in vowel]\n",
        "print(l1)"
      ],
      "metadata": {
        "colab": {
          "base_uri": "https://localhost:8080/"
        },
        "id": "lkc5bpUoFvxS",
        "outputId": "e103aa3e-8f5e-4fd2-fe65-7b59f82febac"
      },
      "execution_count": null,
      "outputs": [
        {
          "output_type": "stream",
          "name": "stdout",
          "text": [
            "['a', 'i', 'a']\n"
          ]
        }
      ]
    },
    {
      "cell_type": "markdown",
      "source": [
        "30.Create a program that removes all non-numeric characters from a list of strings using list comprehension"
      ],
      "metadata": {
        "id": "OPIwFNCeGBVH"
      }
    },
    {
      "cell_type": "code",
      "source": [
        "l=[1,2,3,4,5,'a','b','c','d',20]\n",
        "[i for i in l if type(i)== int]"
      ],
      "metadata": {
        "colab": {
          "base_uri": "https://localhost:8080/"
        },
        "id": "JpYkHndzGFi5",
        "outputId": "175250af-eb5c-4893-caa8-33924bda19a7"
      },
      "execution_count": null,
      "outputs": [
        {
          "output_type": "execute_result",
          "data": {
            "text/plain": [
              "[1, 2, 3, 4, 5, 20]"
            ]
          },
          "metadata": {},
          "execution_count": 214
        }
      ]
    },
    {
      "cell_type": "markdown",
      "source": [
        "**Basic If-Else Statements**"
      ],
      "metadata": {
        "id": "wCNMSOT5Pt7a"
      }
    },
    {
      "cell_type": "markdown",
      "source": [
        "1.Write a Python program to check if a given number is positive or negative."
      ],
      "metadata": {
        "id": "rEtKpL8lPxuQ"
      }
    },
    {
      "cell_type": "code",
      "source": [
        "n = int(input('enter number: '))\n",
        "if n>=0:\n",
        "    print('number is positive ')\n",
        "else:\n",
        "    print('number is negative')"
      ],
      "metadata": {
        "colab": {
          "base_uri": "https://localhost:8080/"
        },
        "id": "CgTDzF__P2S2",
        "outputId": "69fc0327-c143-4a15-f7d6-c9c3c189bc72"
      },
      "execution_count": null,
      "outputs": [
        {
          "output_type": "stream",
          "name": "stdout",
          "text": [
            "enter number: 10\n",
            "number is positive \n"
          ]
        }
      ]
    },
    {
      "cell_type": "markdown",
      "source": [
        "2.Create a program that determines if a person is eligible to vote based on their age."
      ],
      "metadata": {
        "id": "7J4EUn3JP5nN"
      }
    },
    {
      "cell_type": "code",
      "source": [
        "age = int(input('enter age: '))\n",
        "if age>=18:\n",
        "    print('person is eligible for vote')\n",
        "else:\n",
        "    print('person is not eligible for vote')\n"
      ],
      "metadata": {
        "colab": {
          "base_uri": "https://localhost:8080/"
        },
        "id": "AW0UMDlzQABg",
        "outputId": "c452ef65-6714-4649-fa0f-d73f4ed939b2"
      },
      "execution_count": null,
      "outputs": [
        {
          "output_type": "stream",
          "name": "stdout",
          "text": [
            "enter age: 21\n",
            "person is eligible for vote\n"
          ]
        }
      ]
    },
    {
      "cell_type": "markdown",
      "source": [
        "3.Develop a program to find the maximum of two numbers using if-else statements."
      ],
      "metadata": {
        "id": "T-jpWkaRQAmF"
      }
    },
    {
      "cell_type": "code",
      "source": [
        "n1= int(input('enter num 1: '))\n",
        "n2 = int(input('enter num 2: '))\n",
        "if n1>n2:\n",
        "    print(f'{n1} is greater')\n",
        "else:\n",
        "    print(f'{n2} is greater')\n"
      ],
      "metadata": {
        "colab": {
          "base_uri": "https://localhost:8080/"
        },
        "id": "5nZaK6DNQEhB",
        "outputId": "89b2a40b-c096-42a1-fd89-7ffd914a8ecf"
      },
      "execution_count": null,
      "outputs": [
        {
          "output_type": "stream",
          "name": "stdout",
          "text": [
            "enter num 1: 5\n",
            "enter num 2: 7\n",
            "7 is greater\n"
          ]
        }
      ]
    },
    {
      "cell_type": "markdown",
      "source": [
        "4.Write a Python script to classify a given year as a leap year or not."
      ],
      "metadata": {
        "id": "VFyhlgbNQFHL"
      }
    },
    {
      "cell_type": "code",
      "source": [
        "y = int(input('enter the year: '))\n",
        "if y%4==0:\n",
        "  if y%100!=0 or y%400==0:\n",
        "    print(f'{y} is a leap year')\n",
        "else:\n",
        "    print(f'{y} is not a leap year')"
      ],
      "metadata": {
        "colab": {
          "base_uri": "https://localhost:8080/"
        },
        "id": "4SSNqW7MQIhI",
        "outputId": "b5a1c116-f211-41c3-a23c-591f51ded6bc"
      },
      "execution_count": 6,
      "outputs": [
        {
          "output_type": "stream",
          "name": "stdout",
          "text": [
            "enter the year: 1996\n",
            "1996 is a leap year\n"
          ]
        }
      ]
    },
    {
      "cell_type": "markdown",
      "source": [
        "5.Create a program that checks whether a character is a vowel or a consonant."
      ],
      "metadata": {
        "id": "HCXka4q9QJIf"
      }
    },
    {
      "cell_type": "code",
      "source": [
        "vowel = 'aeiouAEIOU'\n",
        "char = input ('enter the character: ')\n",
        "if char in vowel:\n",
        "    print(f'{char} is vowel')\n",
        "else:\n",
        "    print(f'{char} is consonant')"
      ],
      "metadata": {
        "colab": {
          "base_uri": "https://localhost:8080/"
        },
        "id": "Sh-RxxKbQMQ1",
        "outputId": "7d88b223-2d38-4c8e-acf9-0364979723d7"
      },
      "execution_count": null,
      "outputs": [
        {
          "output_type": "stream",
          "name": "stdout",
          "text": [
            "enter the character: a\n",
            "a is vowel\n"
          ]
        }
      ]
    },
    {
      "cell_type": "markdown",
      "source": [
        "6.Implement a program to determine whether a given number is even or odd."
      ],
      "metadata": {
        "id": "jEhM9VN_QM3V"
      }
    },
    {
      "cell_type": "code",
      "source": [
        "a = int(input('enter the number: '))\n",
        "if a%2==0:\n",
        "    print('Even')\n",
        "else:\n",
        "    print('Odd')"
      ],
      "metadata": {
        "colab": {
          "base_uri": "https://localhost:8080/"
        },
        "id": "GmoKAhnhQRBA",
        "outputId": "7ec5bfb2-9e2e-4b30-911d-ca52e37ae7ae"
      },
      "execution_count": null,
      "outputs": [
        {
          "output_type": "stream",
          "name": "stdout",
          "text": [
            "enter the number: 4\n",
            "Even\n"
          ]
        }
      ]
    },
    {
      "cell_type": "markdown",
      "source": [
        "7.Write a Python function to calculate the absolute value of a number without using the `abs()` function."
      ],
      "metadata": {
        "id": "oqgp8ArJQXtB"
      }
    },
    {
      "cell_type": "code",
      "source": [
        "n = int(input('enter the number: '))\n",
        "abs = 0\n",
        "if n < 0:\n",
        "  abs = 0-n\n",
        "else:\n",
        "  abs=n\n",
        "print(f'absolute value is {abs}')"
      ],
      "metadata": {
        "colab": {
          "base_uri": "https://localhost:8080/"
        },
        "id": "74s2S6jYQZQF",
        "outputId": "93032c34-e194-4079-b9d7-e6bbcc2ff3bf"
      },
      "execution_count": null,
      "outputs": [
        {
          "output_type": "stream",
          "name": "stdout",
          "text": [
            "enter the number: -10\n",
            "absolute value is 10\n"
          ]
        }
      ]
    },
    {
      "cell_type": "markdown",
      "source": [
        "8.Develop a program that determines the largest of three given numbers using if-else statements."
      ],
      "metadata": {
        "id": "kq_GOJTrQZ_4"
      }
    },
    {
      "cell_type": "code",
      "source": [
        "a = int(input('enter the num1: '))\n",
        "b = int(input('enter the num2: '))\n",
        "c = int(input('enter the num3: '))\n",
        "if a>b and a>c:\n",
        "    print(f'{a} is largest')\n",
        "elif b>a and b>c:\n",
        "    print(f'{b} is largest')\n",
        "else:\n",
        "    print(f'{c} is largest')"
      ],
      "metadata": {
        "colab": {
          "base_uri": "https://localhost:8080/"
        },
        "id": "iGsfsQBFQdej",
        "outputId": "ac0f15e8-7dd7-41c2-9cf7-6347a93a45c6"
      },
      "execution_count": null,
      "outputs": [
        {
          "output_type": "stream",
          "name": "stdout",
          "text": [
            "enter the num1: 5\n",
            "enter the num2: 7\n",
            "enter the num3: 11\n",
            "11 is largest\n"
          ]
        }
      ]
    },
    {
      "cell_type": "markdown",
      "source": [
        "9.Create a program that checks if a given string is a palindrome."
      ],
      "metadata": {
        "id": "nuX5YnzdQd-t"
      }
    },
    {
      "cell_type": "code",
      "source": [
        "str = input('enter a string: ')\n",
        "if str==str[::-1]:\n",
        "    print(f'{str} is palindrome')\n",
        "else:\n",
        "    print(f'{str} is not palindrom')"
      ],
      "metadata": {
        "colab": {
          "base_uri": "https://localhost:8080/"
        },
        "id": "oAsBLxvDQg8y",
        "outputId": "6f04e47e-8604-4c21-ea80-e45780d91382"
      },
      "execution_count": null,
      "outputs": [
        {
          "output_type": "stream",
          "name": "stdout",
          "text": [
            "enter a string: noon\n",
            "noon is palindrome\n"
          ]
        }
      ]
    },
    {
      "cell_type": "markdown",
      "source": [
        "10.Write a Python program to calculate the grade based on a student's score."
      ],
      "metadata": {
        "id": "gwhgfVUUQhi1"
      }
    },
    {
      "cell_type": "code",
      "source": [
        "marks =int(input ('enter the score: '))\n",
        "if marks >=90 and marks <=100:\n",
        "    print ('A+')\n",
        "elif marks >=80 and marks <90:\n",
        "    print('A')\n",
        "elif marks >=70 and marks <80:\n",
        "    print('B')\n",
        "elif marks >=60 and marks <70:\n",
        "    print('C')\n",
        "elif marks >=50 and marks <60:\n",
        "    print('Average')\n",
        "else:\n",
        "    print(':) pdh lei bhai :)')"
      ],
      "metadata": {
        "colab": {
          "base_uri": "https://localhost:8080/"
        },
        "id": "Ctc6CETPQld2",
        "outputId": "39c0d3d0-60c3-40a1-df19-36f9abbdb2cf"
      },
      "execution_count": null,
      "outputs": [
        {
          "output_type": "stream",
          "name": "stdout",
          "text": [
            "enter the score: 40\n",
            ":) pdh lei bhai :)\n"
          ]
        }
      ]
    },
    {
      "cell_type": "markdown",
      "source": [
        "**Nested If-Else Statements**"
      ],
      "metadata": {
        "id": "fx27sJmsQxFR"
      }
    },
    {
      "cell_type": "markdown",
      "source": [
        "11.Write a program to find the largest among three numbers using nested if-else statements."
      ],
      "metadata": {
        "id": "f1u7V2PWQ1SE"
      }
    },
    {
      "cell_type": "code",
      "source": [
        "x = int(input('enter the num1: '))\n",
        "y = int(input('enter the num2: '))\n",
        "z = int(input('enter the num3: '))\n",
        "if x>y:\n",
        "    if x>z:\n",
        "        print(f'{x} is largest')\n",
        "if y>x :\n",
        "    if y>z:\n",
        "        print(f'{y} is largest')\n",
        "else:\n",
        "    print(f'{z} is largest')\n"
      ],
      "metadata": {
        "colab": {
          "base_uri": "https://localhost:8080/"
        },
        "id": "guCO1DHBQ5PP",
        "outputId": "4a5a6876-7cc1-4e22-fe66-0d8d07d40683"
      },
      "execution_count": null,
      "outputs": [
        {
          "output_type": "stream",
          "name": "stdout",
          "text": [
            "enter the num1: 10\n",
            "enter the num2: 30\n",
            "enter the num3: 20\n",
            "30 is largest\n"
          ]
        }
      ]
    },
    {
      "cell_type": "markdown",
      "source": [
        "12.Implement a program to determine if a triangle is equilateral, isosceles, or scalene."
      ],
      "metadata": {
        "id": "GxVeSl9uRCeR"
      }
    },
    {
      "cell_type": "code",
      "source": [
        "x = int(input('enter the side1: '))\n",
        "y = int(input('enter the side2: '))\n",
        "z = int(input('enter the side3: '))\n",
        "if x == y :\n",
        "    if y == z:\n",
        "        if z==x:\n",
        "            print('equilateral')\n",
        "    else:\n",
        "          print('isosceles')\n",
        "elif x != y :\n",
        "    if y== z  :\n",
        "      print('isosceles')\n",
        "    else:\n",
        "      print('scalene')\n"
      ],
      "metadata": {
        "id": "3yattvlIRIx1",
        "colab": {
          "base_uri": "https://localhost:8080/"
        },
        "outputId": "7940c816-b05f-4145-bf6c-91d6ff30df97"
      },
      "execution_count": 32,
      "outputs": [
        {
          "output_type": "stream",
          "name": "stdout",
          "text": [
            "enter the side1: 13\n",
            "enter the side2: 12\n",
            "enter the side3: 12\n",
            "isosceles\n"
          ]
        }
      ]
    },
    {
      "cell_type": "markdown",
      "source": [
        "13.Develop a program that checks if a year is a leap year and also if it is a century year."
      ],
      "metadata": {
        "id": "Ur6UlbwuRJsw"
      }
    },
    {
      "cell_type": "code",
      "source": [
        "y = int(input('enter the year: '))\n",
        "if y%4==0:\n",
        "  if y%100!=0 or y%400==0:\n",
        "    print(f'{y} is a leap year')\n",
        "else:\n",
        "    print(f'{y} is not a leap year')"
      ],
      "metadata": {
        "colab": {
          "base_uri": "https://localhost:8080/"
        },
        "id": "oHlsKHuHROjt",
        "outputId": "91136da3-12c0-4c6a-9582-b8868aea09f9"
      },
      "execution_count": 33,
      "outputs": [
        {
          "output_type": "stream",
          "name": "stdout",
          "text": [
            "enter the year: 1992\n",
            "1992 is a leap year\n"
          ]
        }
      ]
    },
    {
      "cell_type": "markdown",
      "source": [
        "14.Write a Python script to determine if a number is positive, negative, or zero."
      ],
      "metadata": {
        "id": "34EQGv74qyHH"
      }
    },
    {
      "cell_type": "code",
      "source": [
        "n=int(input('enter a number: '))\n",
        "if n>=0:\n",
        "  if n>0:\n",
        "    print('it is a positive number')\n",
        "  else:\n",
        "    print('number is zero')\n",
        "else:\n",
        "  print('it is a negative number')"
      ],
      "metadata": {
        "colab": {
          "base_uri": "https://localhost:8080/"
        },
        "id": "reTXuWpdq4jG",
        "outputId": "1555103f-7b9c-4729-feb1-29eaff63e1a0"
      },
      "execution_count": 37,
      "outputs": [
        {
          "output_type": "stream",
          "name": "stdout",
          "text": [
            "enter a number: 0\n",
            "number is zero\n"
          ]
        }
      ]
    },
    {
      "cell_type": "markdown",
      "source": [
        "15.Create a program to check if a person is a teenager (between 13 and 19 years old)."
      ],
      "metadata": {
        "id": "nVbkOOherloa"
      }
    },
    {
      "cell_type": "code",
      "source": [
        "age=int(input('enter age: '))\n",
        "if age>=13:\n",
        "  if age<=19:\n",
        "    print('person is teenager')\n",
        "  else:\n",
        "    print('person is not teenager')\n",
        "else:\n",
        "  print('person is not teenager')"
      ],
      "metadata": {
        "colab": {
          "base_uri": "https://localhost:8080/"
        },
        "id": "7UcDNnCXrtRP",
        "outputId": "cb93018d-9310-4a9a-9578-54b62975e954"
      },
      "execution_count": 47,
      "outputs": [
        {
          "output_type": "stream",
          "name": "stdout",
          "text": [
            "enter age: 20\n",
            "person is not teenager\n"
          ]
        }
      ]
    },
    {
      "cell_type": "markdown",
      "source": [
        "16.Develop a program that determines the type of angle based on its measure (acute, obtuse, or right)."
      ],
      "metadata": {
        "id": "9zgN2R1Wsl7J"
      }
    },
    {
      "cell_type": "code",
      "source": [
        "angle=int(input('enter the angle: '))\n",
        "if angle>=90:\n",
        "  if angle>90:\n",
        "    print('angle is obtuse')\n",
        "  else:\n",
        "    print('angle is right angle')\n",
        "else:\n",
        "  print('angle is acute')"
      ],
      "metadata": {
        "colab": {
          "base_uri": "https://localhost:8080/"
        },
        "id": "neDYq1lzspQ8",
        "outputId": "71b5aac3-2da2-4c80-b488-5d112deca330"
      },
      "execution_count": 51,
      "outputs": [
        {
          "output_type": "stream",
          "name": "stdout",
          "text": [
            "enter the angle: 90\n",
            "angle is right angle\n"
          ]
        }
      ]
    },
    {
      "cell_type": "markdown",
      "source": [
        "17.Write a Python program to calculate the roots of a quadratic equation."
      ],
      "metadata": {
        "id": "_RPedv62tdo6"
      }
    },
    {
      "cell_type": "code",
      "source": [
        "a = float(input(\"Enter a: \"))\n",
        "b = float(input(\"Enter b: \"))\n",
        "c = float(input(\"Enter c: \"))\n",
        "if a != 0:\n",
        "    d = b*b - 4*a*c\n",
        "    if d > 0:\n",
        "        root1 = (-b + (d)**0.5) / (2*a)\n",
        "        root2 = (-b - (d)**0.5) / (2*a)\n",
        "        print(\"Root 1 =\", root1)\n",
        "        print(\"Root 2 =\", root2)\n",
        "    else:\n",
        "        if d == 0:\n",
        "            root = -b / (2*a)\n",
        "            print(\"Root 1 = Root 2 =\", root)\n",
        "        else:\n",
        "          print('roots are complex')\n",
        "else:\n",
        "  print('not a quadratic equation')"
      ],
      "metadata": {
        "colab": {
          "base_uri": "https://localhost:8080/"
        },
        "id": "vzMJjDDUthFe",
        "outputId": "c5a3157c-b844-4d59-d287-84964a12c87e"
      },
      "execution_count": 53,
      "outputs": [
        {
          "output_type": "stream",
          "name": "stdout",
          "text": [
            "Enter a: 2\n",
            "Enter b: 3\n",
            "Enter c: 4\n",
            "roots are complex\n"
          ]
        }
      ]
    },
    {
      "cell_type": "markdown",
      "source": [
        "18.Implement a program to determine the day of the week based on a user-provided number (1 for Monday, 2 for tuesday ,etc.)"
      ],
      "metadata": {
        "id": "8tHwGZv5ti3i"
      }
    },
    {
      "cell_type": "code",
      "source": [
        "day=int(input('enter day number: '))\n",
        "if day >1:\n",
        "  if day>2:\n",
        "     if day>3:\n",
        "       if day>4:\n",
        "        if day>5:\n",
        "          if day>6:\n",
        "            if day>7:\n",
        "              if day>=8:\n",
        "                print('wrong day number')\n",
        "            else:\n",
        "              print('sunday')\n",
        "          else:\n",
        "            print('saturday')\n",
        "\n",
        "        else:\n",
        "          print('Friday')\n",
        "       else:\n",
        "        print('Thursday')\n",
        "\n",
        "\n",
        "     else:\n",
        "        print('Wednesday')\n",
        "  else:\n",
        "      print('Tuesday')\n",
        "else:\n",
        "    print('Monday')\n",
        "\n",
        "\n"
      ],
      "metadata": {
        "colab": {
          "base_uri": "https://localhost:8080/"
        },
        "id": "uOseInqttsK_",
        "outputId": "d8e73ca2-9900-47dc-c5b0-207cc6910407"
      },
      "execution_count": 78,
      "outputs": [
        {
          "output_type": "stream",
          "name": "stdout",
          "text": [
            "enter day number: 1\n",
            "Monday\n"
          ]
        }
      ]
    },
    {
      "cell_type": "markdown",
      "source": [
        "19.Create a program that determines if a year is a leap year and also if it is evenly divisible by 400."
      ],
      "metadata": {
        "id": "FAcz2vcK0wO0"
      }
    },
    {
      "cell_type": "code",
      "source": [
        "def check_year(y):\n",
        "  if (y%4==0 ):\n",
        "    if y%100!=0 or y%400==0:\n",
        "      print(f'{y} is a leap year')\n",
        "  else:\n",
        "     print(f'{y} is not a leap year')\n",
        "y = int(input('enter the year: '))\n",
        "check_year(y)\n",
        "if y % 400 == 0:\n",
        "  print('year is also evenly divisible by 400')\n",
        "else:\n",
        "  print('year is not evenly divisible by 400')\n"
      ],
      "metadata": {
        "colab": {
          "base_uri": "https://localhost:8080/"
        },
        "id": "hplX4kGx017R",
        "outputId": "6784ea3e-5d20-45bb-c3dd-3191b020137b"
      },
      "execution_count": 85,
      "outputs": [
        {
          "output_type": "stream",
          "name": "stdout",
          "text": [
            "enter the year: 2000\n",
            "2000 is a leap year\n",
            "year is also evenly divisible by 400\n"
          ]
        }
      ]
    },
    {
      "cell_type": "markdown",
      "source": [
        "20.Develop a program that checks if a given number is prime or not using nested if-else statements.\n"
      ],
      "metadata": {
        "id": "6HZVXbbe4Ixd"
      }
    },
    {
      "cell_type": "code",
      "source": [],
      "metadata": {
        "id": "CFOfb7Gu4VMX"
      },
      "execution_count": null,
      "outputs": []
    }
  ]
}