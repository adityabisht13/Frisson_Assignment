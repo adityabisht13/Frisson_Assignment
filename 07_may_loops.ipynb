{
  "nbformat": 4,
  "nbformat_minor": 0,
  "metadata": {
    "colab": {
      "provenance": [],
      "authorship_tag": "ABX9TyOdvE2jf7SnkjEffPKhn+eY",
      "include_colab_link": true
    },
    "kernelspec": {
      "name": "python3",
      "display_name": "Python 3"
    },
    "language_info": {
      "name": "python"
    }
  },
  "cells": [
    {
      "cell_type": "markdown",
      "metadata": {
        "id": "view-in-github",
        "colab_type": "text"
      },
      "source": [
        "<a href=\"https://colab.research.google.com/github/adityabisht13/Frisson_Assignment/blob/main/07_may_loops.ipynb\" target=\"_parent\"><img src=\"https://colab.research.google.com/assets/colab-badge.svg\" alt=\"Open In Colab\"/></a>"
      ]
    },
    {
      "cell_type": "markdown",
      "source": [
        "***Assignment_03***"
      ],
      "metadata": {
        "id": "e5qoAZTjK495"
      }
    },
    {
      "cell_type": "markdown",
      "source": [
        "**Loop**"
      ],
      "metadata": {
        "id": "Z3bGqm_JK_Pl"
      }
    },
    {
      "cell_type": "markdown",
      "source": [
        "1.Write a Python program to print the numbers from 1 to 10 using a `for` loop."
      ],
      "metadata": {
        "id": "sh11XqC-LDNv"
      }
    },
    {
      "cell_type": "code",
      "source": [
        "for i in range(1,11):\n",
        "  print(i,end=\" \")"
      ],
      "metadata": {
        "colab": {
          "base_uri": "https://localhost:8080/"
        },
        "id": "O62cwof1LGrY",
        "outputId": "eaa1a5bc-7575-4124-df8c-4f4dc99a99a5"
      },
      "execution_count": null,
      "outputs": [
        {
          "output_type": "stream",
          "name": "stdout",
          "text": [
            "1 2 3 4 5 6 7 8 9 10 "
          ]
        }
      ]
    },
    {
      "cell_type": "markdown",
      "source": [
        "2.Create a program that calculates the sum of all numbers in a list using a `for` loop."
      ],
      "metadata": {
        "id": "Py8BBhWDLVI1"
      }
    },
    {
      "cell_type": "code",
      "source": [
        "l=[1,2,3,4,5,6,7]\n",
        "sum=0\n",
        "for i in l:\n",
        "  sum=sum+i\n",
        "print(sum)"
      ],
      "metadata": {
        "colab": {
          "base_uri": "https://localhost:8080/"
        },
        "id": "YF73fht1LYn0",
        "outputId": "2fe5be7a-1830-4ce0-cf69-8115827e4f6c"
      },
      "execution_count": null,
      "outputs": [
        {
          "output_type": "stream",
          "name": "stdout",
          "text": [
            "28\n"
          ]
        }
      ]
    },
    {
      "cell_type": "markdown",
      "source": [
        "3.Write a program to print the characters of a string in reverse order using a `for` loop.\n"
      ],
      "metadata": {
        "id": "hCK1ktSGLqlL"
      }
    },
    {
      "cell_type": "code",
      "source": [
        "str_1='aditya'\n",
        "for char in range(len(str_1)-1,-1,-1):\n",
        "  print(str_1[char],end=\" \")\n"
      ],
      "metadata": {
        "colab": {
          "base_uri": "https://localhost:8080/"
        },
        "id": "2m_meTOfLudw",
        "outputId": "f93e9ce1-6440-4e49-dd16-9e624bd2d4a8"
      },
      "execution_count": null,
      "outputs": [
        {
          "output_type": "stream",
          "name": "stdout",
          "text": [
            "a y t i d a "
          ]
        }
      ]
    },
    {
      "cell_type": "markdown",
      "source": [
        "4.Develop a program that finds the factorial of a given number using a `for` loop."
      ],
      "metadata": {
        "id": "J9uUMvonMa-_"
      }
    },
    {
      "cell_type": "code",
      "source": [
        "n=int(input('Enter a no: '))\n",
        "fact=1\n",
        "for i in range(1,n+1):\n",
        "  fact=fact*i\n",
        "print(fact)\n"
      ],
      "metadata": {
        "colab": {
          "base_uri": "https://localhost:8080/"
        },
        "id": "vYTA5VGqMeap",
        "outputId": "94c4432a-e2be-411a-d3d8-973605b67853"
      },
      "execution_count": null,
      "outputs": [
        {
          "output_type": "stream",
          "name": "stdout",
          "text": [
            "Enter a no: 0\n",
            "1\n"
          ]
        }
      ]
    },
    {
      "cell_type": "markdown",
      "source": [
        "5.Create a program to print the multiplication table of a given number using a `for` loop."
      ],
      "metadata": {
        "id": "pPMVANsiSGYn"
      }
    },
    {
      "cell_type": "code",
      "source": [
        "n=int(input('enter a number: '))\n",
        "for index,element in enumerate (list(range(n,(n*10)+1,n))):\n",
        "  print(f'{n} * {index+1} = {element}')"
      ],
      "metadata": {
        "colab": {
          "base_uri": "https://localhost:8080/"
        },
        "id": "Zd_gTkwcSK_g",
        "outputId": "3e3a9e9f-3b91-491c-e84c-e550b23dd81f"
      },
      "execution_count": null,
      "outputs": [
        {
          "output_type": "stream",
          "name": "stdout",
          "text": [
            "enter a number: 5\n",
            "5 * 1 = 5\n",
            "5 * 2 = 10\n",
            "5 * 3 = 15\n",
            "5 * 4 = 20\n",
            "5 * 5 = 25\n",
            "5 * 6 = 30\n",
            "5 * 7 = 35\n",
            "5 * 8 = 40\n",
            "5 * 9 = 45\n",
            "5 * 10 = 50\n"
          ]
        }
      ]
    },
    {
      "cell_type": "markdown",
      "source": [
        "6.Write a program that counts the number of even and odd numbers in a list using a `for` loop.\n"
      ],
      "metadata": {
        "id": "nutodrx1Suuk"
      }
    },
    {
      "cell_type": "code",
      "source": [
        "l=[1,2,3,4,5,6,7,8,9]\n",
        "even=0\n",
        "odd=0\n",
        "for i in l:\n",
        "  if i%2==0:\n",
        "    even=even+1\n",
        "  else:\n",
        "    odd=odd+1\n",
        "print(f'count of even number {even}')\n",
        "print(f'count of odd number {odd}')"
      ],
      "metadata": {
        "colab": {
          "base_uri": "https://localhost:8080/"
        },
        "id": "cCduaAo-SzvL",
        "outputId": "b167c8bb-4f68-4077-91fd-671d4613c1e6"
      },
      "execution_count": null,
      "outputs": [
        {
          "output_type": "stream",
          "name": "stdout",
          "text": [
            "count of even number 4\n",
            "count of odd number 5\n"
          ]
        }
      ]
    },
    {
      "cell_type": "markdown",
      "source": [
        "7.Develop a program that prints the squares of numbers from 1 to 5 using a `for` loop."
      ],
      "metadata": {
        "id": "AdLSEUMNTX_P"
      }
    },
    {
      "cell_type": "code",
      "source": [
        "for i in range(1,6):\n",
        "  i=i*i\n",
        "  print(i,end=\" \")"
      ],
      "metadata": {
        "colab": {
          "base_uri": "https://localhost:8080/"
        },
        "id": "Bj6qCZSFTeAw",
        "outputId": "eb4d61be-b9ef-47c3-dc27-c1a8cac8d101"
      },
      "execution_count": null,
      "outputs": [
        {
          "output_type": "stream",
          "name": "stdout",
          "text": [
            "1 4 9 16 25 "
          ]
        }
      ]
    },
    {
      "cell_type": "markdown",
      "source": [
        "8.Create a program to find the length of a string without using the `len()` function."
      ],
      "metadata": {
        "id": "fx1fB3TQUqIv"
      }
    },
    {
      "cell_type": "code",
      "source": [
        "str_1='aditya'\n",
        "count=0\n",
        "for i in str_1:\n",
        "  count+=1\n",
        "print(count)"
      ],
      "metadata": {
        "colab": {
          "base_uri": "https://localhost:8080/"
        },
        "id": "Rrng_Tq9UutO",
        "outputId": "aefca586-a7b7-45d1-c674-e74da63619df"
      },
      "execution_count": null,
      "outputs": [
        {
          "output_type": "stream",
          "name": "stdout",
          "text": [
            "6\n"
          ]
        }
      ]
    },
    {
      "cell_type": "markdown",
      "source": [
        "9.Write a program that calculates the average of a list of numbers using a `for` loop"
      ],
      "metadata": {
        "id": "kAF7e-DGU4f9"
      }
    },
    {
      "cell_type": "code",
      "source": [
        "l=[1,2,3,4,5,6,7,8,9,10]\n",
        "sum=0\n",
        "a=len(l)\n",
        "for i in l:\n",
        "  sum=sum+i\n",
        "print(f'average is {sum/a}')"
      ],
      "metadata": {
        "colab": {
          "base_uri": "https://localhost:8080/"
        },
        "id": "18FCv71uU9QR",
        "outputId": "e956f55a-bf99-453e-f72d-4a7b04ce9277"
      },
      "execution_count": null,
      "outputs": [
        {
          "output_type": "stream",
          "name": "stdout",
          "text": [
            "average is 5.5\n"
          ]
        }
      ]
    },
    {
      "cell_type": "markdown",
      "source": [
        "10.Develop a program that prints the first `n` Fibonacci numbers using a `for` loop."
      ],
      "metadata": {
        "id": "Yd93vvfRVrOI"
      }
    },
    {
      "cell_type": "code",
      "source": [
        "n=int(input('enter a no: '))\n",
        "a=0\n",
        "b=1\n",
        "for i in range(0,n+1):\n",
        "    print(a,end=\" \")\n",
        "    sum=a+b\n",
        "    a=b\n",
        "    b=sum\n",
        "\n"
      ],
      "metadata": {
        "colab": {
          "base_uri": "https://localhost:8080/"
        },
        "id": "IMqgHuKLVvub",
        "outputId": "9018b48f-cc6d-4c82-e343-79989d4d2bce"
      },
      "execution_count": null,
      "outputs": [
        {
          "output_type": "stream",
          "name": "stdout",
          "text": [
            "enter a no: 5\n",
            "0 1 1 2 3 5 "
          ]
        }
      ]
    },
    {
      "cell_type": "markdown",
      "source": [
        "11.Write a program to check if a given list contains any duplicates using a `for` loop."
      ],
      "metadata": {
        "id": "6wbSG0QSYhA2"
      }
    },
    {
      "cell_type": "code",
      "source": [
        "l=[1,2,3,2,2,3,4,5,4,6,7]\n",
        "count=0\n",
        "for i in l:\n",
        "  if l.count(i)>1:\n",
        "    print(f'it contain duplicate')\n",
        "    break\n",
        "else:\n",
        "    print('it does not contain duplicate ')\n",
        "\n"
      ],
      "metadata": {
        "colab": {
          "base_uri": "https://localhost:8080/"
        },
        "id": "WO_Y9kJVYmlv",
        "outputId": "d9144870-d96b-4cbf-f73e-a866fda2503b"
      },
      "execution_count": null,
      "outputs": [
        {
          "output_type": "stream",
          "name": "stdout",
          "text": [
            "it contain duplicate\n"
          ]
        }
      ]
    },
    {
      "cell_type": "markdown",
      "source": [
        "12.Create a program that prints the prime numbers in a given range using a `for` loop."
      ],
      "metadata": {
        "id": "Iogfo--eeJeK"
      }
    },
    {
      "cell_type": "code",
      "source": [
        "n=int(input('enter the range: '))\n",
        "for i in range (2,n+1):\n",
        "  for j in range(2,i):\n",
        "    if i%j==0:\n",
        "      break\n",
        "  else:\n",
        "    print(i)\n"
      ],
      "metadata": {
        "colab": {
          "base_uri": "https://localhost:8080/"
        },
        "id": "u_KF2ZFreVVo",
        "outputId": "d59331f2-ae07-41f8-bc4c-2ef18375ecfe"
      },
      "execution_count": null,
      "outputs": [
        {
          "output_type": "stream",
          "name": "stdout",
          "text": [
            "enter the range: 10\n",
            "2\n",
            "3\n",
            "5\n",
            "7\n"
          ]
        }
      ]
    },
    {
      "cell_type": "markdown",
      "source": [
        "13.Develop a program that counts the number of vowels in a string using a `for` loop."
      ],
      "metadata": {
        "id": "0jFtGRM8g1bt"
      }
    },
    {
      "cell_type": "code",
      "source": [
        "str_1='aditya'\n",
        "vowel='aeiouAEIOU'\n",
        "count=0\n",
        "for i in str_1:\n",
        "  if i in vowel:\n",
        "    count+=1\n",
        "print(f'number of vowels are {count}')"
      ],
      "metadata": {
        "colab": {
          "base_uri": "https://localhost:8080/"
        },
        "id": "Q1TOTjrBg4uk",
        "outputId": "40dfe431-6157-46db-bc19-57743e8e039c"
      },
      "execution_count": null,
      "outputs": [
        {
          "output_type": "stream",
          "name": "stdout",
          "text": [
            "number of vowels are 3\n"
          ]
        }
      ]
    },
    {
      "cell_type": "markdown",
      "source": [
        "14.Write a program to find the maximum element in a 2D list using a nested `for` loop."
      ],
      "metadata": {
        "id": "EOHo64WYhc_9"
      }
    },
    {
      "cell_type": "code",
      "source": [
        "l=[[71,81],[91,41],[30,31],[51,61]]\n",
        "max=0\n",
        "for i in l:\n",
        "  for j in i:\n",
        "    if j>max:\n",
        "      max=j\n",
        "print(f'the maximum element in the 2d list is {max}')\n",
        "\n"
      ],
      "metadata": {
        "colab": {
          "base_uri": "https://localhost:8080/"
        },
        "id": "RT52TFpEiPYQ",
        "outputId": "a57c654c-d13f-488a-ac7a-ff9490c3acce"
      },
      "execution_count": null,
      "outputs": [
        {
          "output_type": "stream",
          "name": "stdout",
          "text": [
            "the maximum element in the 2d list is 91\n"
          ]
        }
      ]
    },
    {
      "cell_type": "markdown",
      "source": [
        "15.Create a program that removes all occurrences of a specific element from a list using a `for` loop"
      ],
      "metadata": {
        "id": "bUMRooKFizmQ"
      }
    },
    {
      "cell_type": "code",
      "source": [
        "l=[1,2,3,3,3,2,4,3,5,6]\n",
        "l1=[]\n",
        "n=int(input('enter the number: '))\n",
        "remove=[n]\n",
        "for i in l:\n",
        "  if i not in remove:\n",
        "    l1.append(i)\n",
        "print(l1)\n"
      ],
      "metadata": {
        "colab": {
          "base_uri": "https://localhost:8080/"
        },
        "id": "4VY3y8oii4qc",
        "outputId": "5043f778-cba3-4bbf-9f6b-5501975e7243"
      },
      "execution_count": null,
      "outputs": [
        {
          "output_type": "stream",
          "name": "stdout",
          "text": [
            "enter the number: 3\n",
            "[1, 2, 2, 4, 5, 6]\n"
          ]
        }
      ]
    },
    {
      "cell_type": "markdown",
      "source": [
        "16.Develop a program that generates a multiplication table for numbers from 1 to 5 using a nested `for` loop."
      ],
      "metadata": {
        "id": "X2wsYwR6l6Fh"
      }
    },
    {
      "cell_type": "code",
      "source": [
        "for i in range(1,6):\n",
        "  for j in range(1,11):\n",
        "    print(f'{i} * {j} = {i*j}' )\n"
      ],
      "metadata": {
        "colab": {
          "base_uri": "https://localhost:8080/"
        },
        "id": "z4VhpQxDl9uq",
        "outputId": "cc0ca03c-4f10-44d9-f335-69855ce4b525"
      },
      "execution_count": null,
      "outputs": [
        {
          "output_type": "stream",
          "name": "stdout",
          "text": [
            "1 * 1 = 1\n",
            "1 * 2 = 2\n",
            "1 * 3 = 3\n",
            "1 * 4 = 4\n",
            "1 * 5 = 5\n",
            "1 * 6 = 6\n",
            "1 * 7 = 7\n",
            "1 * 8 = 8\n",
            "1 * 9 = 9\n",
            "1 * 10 = 10\n",
            "2 * 1 = 2\n",
            "2 * 2 = 4\n",
            "2 * 3 = 6\n",
            "2 * 4 = 8\n",
            "2 * 5 = 10\n",
            "2 * 6 = 12\n",
            "2 * 7 = 14\n",
            "2 * 8 = 16\n",
            "2 * 9 = 18\n",
            "2 * 10 = 20\n",
            "3 * 1 = 3\n",
            "3 * 2 = 6\n",
            "3 * 3 = 9\n",
            "3 * 4 = 12\n",
            "3 * 5 = 15\n",
            "3 * 6 = 18\n",
            "3 * 7 = 21\n",
            "3 * 8 = 24\n",
            "3 * 9 = 27\n",
            "3 * 10 = 30\n",
            "4 * 1 = 4\n",
            "4 * 2 = 8\n",
            "4 * 3 = 12\n",
            "4 * 4 = 16\n",
            "4 * 5 = 20\n",
            "4 * 6 = 24\n",
            "4 * 7 = 28\n",
            "4 * 8 = 32\n",
            "4 * 9 = 36\n",
            "4 * 10 = 40\n",
            "5 * 1 = 5\n",
            "5 * 2 = 10\n",
            "5 * 3 = 15\n",
            "5 * 4 = 20\n",
            "5 * 5 = 25\n",
            "5 * 6 = 30\n",
            "5 * 7 = 35\n",
            "5 * 8 = 40\n",
            "5 * 9 = 45\n",
            "5 * 10 = 50\n"
          ]
        }
      ]
    },
    {
      "cell_type": "markdown",
      "source": [
        "17.Write a program that converts a list of Fahrenheit temperatures to Celsius using a `for` loop."
      ],
      "metadata": {
        "id": "mwUBOXB3namh"
      }
    },
    {
      "cell_type": "code",
      "source": [
        "l1=[34,45,56,78,88,99] #temp in fahrenheit\n",
        "l2=[]\n",
        "for i in l1:\n",
        "  i=(i-32)*5/9\n",
        "  l2.append(round(i,2))\n",
        "print(f'temp in fahrenheit {l1}')\n",
        "print(f'temp in celsius {l2}')\n"
      ],
      "metadata": {
        "colab": {
          "base_uri": "https://localhost:8080/"
        },
        "id": "pqeSAXLNnf6n",
        "outputId": "06a6a955-5f01-430e-9333-46cc3b6b5585"
      },
      "execution_count": null,
      "outputs": [
        {
          "output_type": "stream",
          "name": "stdout",
          "text": [
            "temp in fahrenheit [34, 45, 56, 78, 88, 99]\n",
            "temp in celsius [1.11, 7.22, 13.33, 25.56, 31.11, 37.22]\n"
          ]
        }
      ]
    },
    {
      "cell_type": "markdown",
      "source": [
        "18.Create a program to print the common elements from two lists using a `for` loop."
      ],
      "metadata": {
        "id": "MEWnsYvNpl_J"
      }
    },
    {
      "cell_type": "code",
      "source": [
        "l1=[1,2,3,4,5,6,7,8]\n",
        "l2=[3,4,5,6,10,11]\n",
        "l3=[]\n",
        "for i in l1:\n",
        "  if i in l2:\n",
        "    l3.append(i)\n",
        "print(l3)\n",
        "\n"
      ],
      "metadata": {
        "id": "sKfpJT9WpriS",
        "colab": {
          "base_uri": "https://localhost:8080/"
        },
        "outputId": "0bb8d6a4-4c4b-4e4e-c7d1-3c39e996da8e"
      },
      "execution_count": null,
      "outputs": [
        {
          "output_type": "stream",
          "name": "stdout",
          "text": [
            "[3, 4, 5, 6]\n"
          ]
        }
      ]
    },
    {
      "cell_type": "markdown",
      "source": [
        "19.Develop a program that prints the pattern of right-angled triangles using a `for` loop. Use ‘*’ to draw the pattern."
      ],
      "metadata": {
        "id": "Ia4GF-2OueTF"
      }
    },
    {
      "cell_type": "code",
      "source": [
        "for i in range(1,6):\n",
        "  for j in range(1,i+1):\n",
        "    print('*',end='')\n",
        "  print()"
      ],
      "metadata": {
        "colab": {
          "base_uri": "https://localhost:8080/"
        },
        "id": "YfPDhgauunTY",
        "outputId": "afad964d-c3dc-4e1e-a25e-225e199a904b"
      },
      "execution_count": null,
      "outputs": [
        {
          "output_type": "stream",
          "name": "stdout",
          "text": [
            "*\n",
            "**\n",
            "***\n",
            "****\n",
            "*****\n"
          ]
        }
      ]
    },
    {
      "cell_type": "markdown",
      "source": [
        "20.Write a program to find the greatest common divisor (GCD) of two numbers using a `for` loop."
      ],
      "metadata": {
        "id": "YSVy7Vu3v_0C"
      }
    },
    {
      "cell_type": "code",
      "source": [
        "a = int(input('1st num: '))\n",
        "b = int(input('2st num: '))\n",
        "gcd = 0\n",
        "if a>b :\n",
        "    count = a\n",
        "else:\n",
        "    count = b\n",
        "for i in range(1,count+1):\n",
        "    if a%i == 0 and b%i == 0:\n",
        "        gcd = i\n",
        "print(f'greatest common divisor (GCD) of two numbers  is {gcd}')"
      ],
      "metadata": {
        "colab": {
          "base_uri": "https://localhost:8080/"
        },
        "id": "seO-XA6zwEn0",
        "outputId": "1fe9550d-9bbb-4c29-e040-ca04768b9fd5"
      },
      "execution_count": null,
      "outputs": [
        {
          "output_type": "stream",
          "name": "stdout",
          "text": [
            "1st num: 56\n",
            "2st num: 98\n",
            "greatest common divisor (GCD) of two numbers  is 14\n"
          ]
        }
      ]
    },
    {
      "cell_type": "markdown",
      "source": [
        "21.Create a program that calculates the sum of the digits of numbers in a list using a list comprehension."
      ],
      "metadata": {
        "id": "uubKDVM4yHkg"
      }
    },
    {
      "cell_type": "code",
      "source": [
        "l1=[1,2,3,4,5,6,7,8]\n",
        "sum=0\n",
        "l2=[sum:=sum+i for i in l1]\n",
        "print(sum)"
      ],
      "metadata": {
        "colab": {
          "base_uri": "https://localhost:8080/"
        },
        "id": "WguZLYEvyKrV",
        "outputId": "33946e7f-63fd-4b0b-8ce2-1eb618f16c8f"
      },
      "execution_count": null,
      "outputs": [
        {
          "output_type": "stream",
          "name": "stdout",
          "text": [
            "36\n"
          ]
        }
      ]
    },
    {
      "cell_type": "markdown",
      "source": [
        "22.Write a program to find the prime factors of a given number using a `for` loop and list comprehension."
      ],
      "metadata": {
        "id": "BL_XW7et5YY5"
      }
    },
    {
      "cell_type": "code",
      "source": [
        "n=int(input('enter a number: '))\n",
        "l1=[i for i in range(2,n+1) if n%i==0 and all(i%j !=0 for j in range(2,i)) ]\n",
        "print(f'prime factor are {l1}')"
      ],
      "metadata": {
        "colab": {
          "base_uri": "https://localhost:8080/"
        },
        "id": "xSF5hUuz5bwi",
        "outputId": "bea28a5c-5ddb-4fb8-ef49-56b11eb3e2aa"
      },
      "execution_count": null,
      "outputs": [
        {
          "output_type": "stream",
          "name": "stdout",
          "text": [
            "enter a number: 10\n",
            "prime factor are [2, 5]\n"
          ]
        }
      ]
    },
    {
      "cell_type": "markdown",
      "source": [
        "23.Develop a program that extracts unique elements from a list and stores them in a new list using a list comprehension.\n"
      ],
      "metadata": {
        "id": "qnOBC2L5_HXO"
      }
    },
    {
      "cell_type": "code",
      "source": [
        "l1=[1,2,3,4,5,6,1,2,3,4]\n",
        "l2=[]\n",
        "l3=[l2.append(i) for i in l1 if i not in l2]\n",
        "print(l2)\n"
      ],
      "metadata": {
        "colab": {
          "base_uri": "https://localhost:8080/"
        },
        "id": "ARhIorOr_Lhe",
        "outputId": "3868f4ed-e43e-4b3f-a757-8295f80485df"
      },
      "execution_count": null,
      "outputs": [
        {
          "output_type": "stream",
          "name": "stdout",
          "text": [
            "[1, 2, 3, 4, 5, 6]\n"
          ]
        }
      ]
    },
    {
      "cell_type": "markdown",
      "source": [
        "24.Create a program that generates a list of all palindromic numbers up to a specified limit using a list\n",
        "comprehension.\n"
      ],
      "metadata": {
        "id": "7lAdzym2_76H"
      }
    },
    {
      "cell_type": "code",
      "source": [
        "n=int(input('enter the range: '))\n",
        "l1=[i for i in range(10,n) if str(i)== str(i)[::-1]]\n",
        "print(l1)"
      ],
      "metadata": {
        "colab": {
          "base_uri": "https://localhost:8080/"
        },
        "id": "c0W7LuPMDw5t",
        "outputId": "fa2aa3e5-bee0-48c0-e6c6-01d3c49918ee"
      },
      "execution_count": null,
      "outputs": [
        {
          "output_type": "stream",
          "name": "stdout",
          "text": [
            "enter the range: 50\n",
            "[11, 22, 33, 44]\n"
          ]
        }
      ]
    },
    {
      "cell_type": "markdown",
      "source": [
        "25.Write a program to flatten a nested list using list comprehension."
      ],
      "metadata": {
        "id": "PLDK2xMHDxwZ"
      }
    },
    {
      "cell_type": "code",
      "source": [
        "l1 = [[1, 2], [3, 4, 5], [6, 7]]\n",
        "l2 = [j for i in l1 for j in i]\n",
        "print(l2)"
      ],
      "metadata": {
        "colab": {
          "base_uri": "https://localhost:8080/"
        },
        "id": "lW3qWjRjD1MD",
        "outputId": "41a08e32-b862-425e-e931-4fc04e29b638"
      },
      "execution_count": null,
      "outputs": [
        {
          "output_type": "stream",
          "name": "stdout",
          "text": [
            "[1, 2, 3, 4, 5, 6, 7]\n"
          ]
        }
      ]
    },
    {
      "cell_type": "markdown",
      "source": [
        "26.Develop a program that computes the sum of even and odd numbers in a list separately using list\n",
        "comprehension.\n"
      ],
      "metadata": {
        "id": "h2jMj7QbEYjN"
      }
    },
    {
      "cell_type": "code",
      "source": [
        "l1=[1,2,3,4,5,6,7,8,9,10]\n",
        "even_total=0\n",
        "odd_total=0\n",
        "l2=[even_total:=even_total+i for i in l1 if i%2==0]\n",
        "l3=[odd_total:=odd_total+i for i in l1 if i%2!=0]\n",
        "print(f'sum of even number is {even_total}')\n",
        "print(f'sum of odd number is {odd_total}')"
      ],
      "metadata": {
        "colab": {
          "base_uri": "https://localhost:8080/"
        },
        "id": "vOqowoMwEezw",
        "outputId": "63b94fd8-4e4b-4617-ef7d-4e398d74a095"
      },
      "execution_count": null,
      "outputs": [
        {
          "output_type": "stream",
          "name": "stdout",
          "text": [
            "sum of even number is 30\n",
            "sum of odd number is 25\n"
          ]
        }
      ]
    },
    {
      "cell_type": "markdown",
      "source": [
        "27.Create a program that generates a list of squares of odd numbers between 1 and 10 using list\n",
        "comprehension.\n"
      ],
      "metadata": {
        "id": "JPjyrTmGE_E2"
      }
    },
    {
      "cell_type": "code",
      "source": [
        "l1=[1,2,3,4,5,6,7,8,9,10]\n",
        "l2=[i*i for i in l1 if i%2!=0]\n",
        "print(l2)"
      ],
      "metadata": {
        "colab": {
          "base_uri": "https://localhost:8080/"
        },
        "id": "IhX2jdWLFCO7",
        "outputId": "7580ad9f-99ab-4e87-d381-067abb103201"
      },
      "execution_count": null,
      "outputs": [
        {
          "output_type": "stream",
          "name": "stdout",
          "text": [
            "[1, 9, 25, 49, 81]\n"
          ]
        }
      ]
    },
    {
      "cell_type": "markdown",
      "source": [
        "28.Write a program that combines two lists into a dictionary using list comprehension."
      ],
      "metadata": {
        "id": "kINWcEdQFa6I"
      }
    },
    {
      "cell_type": "code",
      "source": [
        "l1=['name','age','company']\n",
        "l2=['adi',21,'frisson']\n",
        "dict={}\n",
        "l3=[dict.update({l1[i]:l2[i]}) for i in range(0,len(l1)) ]\n",
        "print(dict)"
      ],
      "metadata": {
        "colab": {
          "base_uri": "https://localhost:8080/"
        },
        "id": "fOu_s-EWFfKp",
        "outputId": "1d815c95-a591-482a-c89f-cf5224df0b3e"
      },
      "execution_count": null,
      "outputs": [
        {
          "output_type": "stream",
          "name": "stdout",
          "text": [
            "{'name': 'adi', 'age': 21, 'company': 'frisson'}\n"
          ]
        }
      ]
    },
    {
      "cell_type": "markdown",
      "source": [
        "29.Develop a program that extracts the vowels from a string and stores them in a list using list comprehension."
      ],
      "metadata": {
        "id": "VnSZwQbWFoON"
      }
    },
    {
      "cell_type": "code",
      "source": [
        "str_1='aditya'\n",
        "vowel='aeiouAEIOU'\n",
        "l1=[i for i in str_1 if i in vowel]\n",
        "print(l1)"
      ],
      "metadata": {
        "colab": {
          "base_uri": "https://localhost:8080/"
        },
        "id": "lkc5bpUoFvxS",
        "outputId": "e103aa3e-8f5e-4fd2-fe65-7b59f82febac"
      },
      "execution_count": null,
      "outputs": [
        {
          "output_type": "stream",
          "name": "stdout",
          "text": [
            "['a', 'i', 'a']\n"
          ]
        }
      ]
    },
    {
      "cell_type": "markdown",
      "source": [
        "30.Create a program that removes all non-numeric characters from a list of strings using list comprehension"
      ],
      "metadata": {
        "id": "OPIwFNCeGBVH"
      }
    },
    {
      "cell_type": "code",
      "source": [
        "l=[1,2,3,4,5,'a','b','c','d',20]\n",
        "[i for i in l if type(i)== int]"
      ],
      "metadata": {
        "colab": {
          "base_uri": "https://localhost:8080/"
        },
        "id": "JpYkHndzGFi5",
        "outputId": "175250af-eb5c-4893-caa8-33924bda19a7"
      },
      "execution_count": null,
      "outputs": [
        {
          "output_type": "execute_result",
          "data": {
            "text/plain": [
              "[1, 2, 3, 4, 5, 20]"
            ]
          },
          "metadata": {},
          "execution_count": 214
        }
      ]
    },
    {
      "cell_type": "markdown",
      "source": [
        "**Basic If-Else Statements**"
      ],
      "metadata": {
        "id": "wCNMSOT5Pt7a"
      }
    },
    {
      "cell_type": "markdown",
      "source": [
        "1.Write a Python program to check if a given number is positive or negative."
      ],
      "metadata": {
        "id": "rEtKpL8lPxuQ"
      }
    },
    {
      "cell_type": "code",
      "source": [
        "n = int(input('enter number: '))\n",
        "if n>=0:\n",
        "    print('number is positive ')\n",
        "else:\n",
        "    print('number is negative')"
      ],
      "metadata": {
        "colab": {
          "base_uri": "https://localhost:8080/"
        },
        "id": "CgTDzF__P2S2",
        "outputId": "69fc0327-c143-4a15-f7d6-c9c3c189bc72"
      },
      "execution_count": null,
      "outputs": [
        {
          "output_type": "stream",
          "name": "stdout",
          "text": [
            "enter number: 10\n",
            "number is positive \n"
          ]
        }
      ]
    },
    {
      "cell_type": "markdown",
      "source": [
        "2.Create a program that determines if a person is eligible to vote based on their age."
      ],
      "metadata": {
        "id": "7J4EUn3JP5nN"
      }
    },
    {
      "cell_type": "code",
      "source": [
        "age = int(input('enter age: '))\n",
        "if age>=18:\n",
        "    print('person is eligible for vote')\n",
        "else:\n",
        "    print('person is not eligible for vote')\n"
      ],
      "metadata": {
        "colab": {
          "base_uri": "https://localhost:8080/"
        },
        "id": "AW0UMDlzQABg",
        "outputId": "c452ef65-6714-4649-fa0f-d73f4ed939b2"
      },
      "execution_count": null,
      "outputs": [
        {
          "output_type": "stream",
          "name": "stdout",
          "text": [
            "enter age: 21\n",
            "person is eligible for vote\n"
          ]
        }
      ]
    },
    {
      "cell_type": "markdown",
      "source": [
        "3.Develop a program to find the maximum of two numbers using if-else statements."
      ],
      "metadata": {
        "id": "T-jpWkaRQAmF"
      }
    },
    {
      "cell_type": "code",
      "source": [
        "n1= int(input('enter num 1: '))\n",
        "n2 = int(input('enter num 2: '))\n",
        "if n1>n2:\n",
        "    print(f'{n1} is greater')\n",
        "else:\n",
        "    print(f'{n2} is greater')\n"
      ],
      "metadata": {
        "colab": {
          "base_uri": "https://localhost:8080/"
        },
        "id": "5nZaK6DNQEhB",
        "outputId": "89b2a40b-c096-42a1-fd89-7ffd914a8ecf"
      },
      "execution_count": null,
      "outputs": [
        {
          "output_type": "stream",
          "name": "stdout",
          "text": [
            "enter num 1: 5\n",
            "enter num 2: 7\n",
            "7 is greater\n"
          ]
        }
      ]
    },
    {
      "cell_type": "markdown",
      "source": [
        "4.Write a Python script to classify a given year as a leap year or not."
      ],
      "metadata": {
        "id": "VFyhlgbNQFHL"
      }
    },
    {
      "cell_type": "code",
      "source": [
        "y = int(input('enter the year: '))\n",
        "if y%4==0:\n",
        "  if y%100!=0 or y%400==0:\n",
        "    print(f'{y} is a leap year')\n",
        "else:\n",
        "    print(f'{y} is not a leap year')"
      ],
      "metadata": {
        "colab": {
          "base_uri": "https://localhost:8080/"
        },
        "id": "4SSNqW7MQIhI",
        "outputId": "b5a1c116-f211-41c3-a23c-591f51ded6bc"
      },
      "execution_count": null,
      "outputs": [
        {
          "output_type": "stream",
          "name": "stdout",
          "text": [
            "enter the year: 1996\n",
            "1996 is a leap year\n"
          ]
        }
      ]
    },
    {
      "cell_type": "markdown",
      "source": [
        "5.Create a program that checks whether a character is a vowel or a consonant."
      ],
      "metadata": {
        "id": "HCXka4q9QJIf"
      }
    },
    {
      "cell_type": "code",
      "source": [
        "vowel = 'aeiouAEIOU'\n",
        "char = input ('enter the character: ')\n",
        "if char in vowel:\n",
        "    print(f'{char} is vowel')\n",
        "else:\n",
        "    print(f'{char} is consonant')"
      ],
      "metadata": {
        "colab": {
          "base_uri": "https://localhost:8080/"
        },
        "id": "Sh-RxxKbQMQ1",
        "outputId": "7d88b223-2d38-4c8e-acf9-0364979723d7"
      },
      "execution_count": null,
      "outputs": [
        {
          "output_type": "stream",
          "name": "stdout",
          "text": [
            "enter the character: a\n",
            "a is vowel\n"
          ]
        }
      ]
    },
    {
      "cell_type": "markdown",
      "source": [
        "6.Implement a program to determine whether a given number is even or odd."
      ],
      "metadata": {
        "id": "jEhM9VN_QM3V"
      }
    },
    {
      "cell_type": "code",
      "source": [
        "a = int(input('enter the number: '))\n",
        "if a%2==0:\n",
        "    print('Even')\n",
        "else:\n",
        "    print('Odd')"
      ],
      "metadata": {
        "colab": {
          "base_uri": "https://localhost:8080/"
        },
        "id": "GmoKAhnhQRBA",
        "outputId": "7ec5bfb2-9e2e-4b30-911d-ca52e37ae7ae"
      },
      "execution_count": null,
      "outputs": [
        {
          "output_type": "stream",
          "name": "stdout",
          "text": [
            "enter the number: 4\n",
            "Even\n"
          ]
        }
      ]
    },
    {
      "cell_type": "markdown",
      "source": [
        "7.Write a Python function to calculate the absolute value of a number without using the `abs()` function."
      ],
      "metadata": {
        "id": "oqgp8ArJQXtB"
      }
    },
    {
      "cell_type": "code",
      "source": [
        "n = int(input('enter the number: '))\n",
        "abs = 0\n",
        "if n < 0:\n",
        "  abs = 0-n\n",
        "else:\n",
        "  abs=n\n",
        "print(f'absolute value is {abs}')"
      ],
      "metadata": {
        "colab": {
          "base_uri": "https://localhost:8080/"
        },
        "id": "74s2S6jYQZQF",
        "outputId": "93032c34-e194-4079-b9d7-e6bbcc2ff3bf"
      },
      "execution_count": null,
      "outputs": [
        {
          "output_type": "stream",
          "name": "stdout",
          "text": [
            "enter the number: -10\n",
            "absolute value is 10\n"
          ]
        }
      ]
    },
    {
      "cell_type": "markdown",
      "source": [
        "8.Develop a program that determines the largest of three given numbers using if-else statements."
      ],
      "metadata": {
        "id": "kq_GOJTrQZ_4"
      }
    },
    {
      "cell_type": "code",
      "source": [
        "a = int(input('enter the num1: '))\n",
        "b = int(input('enter the num2: '))\n",
        "c = int(input('enter the num3: '))\n",
        "if a>b and a>c:\n",
        "    print(f'{a} is largest')\n",
        "elif b>a and b>c:\n",
        "    print(f'{b} is largest')\n",
        "else:\n",
        "    print(f'{c} is largest')"
      ],
      "metadata": {
        "colab": {
          "base_uri": "https://localhost:8080/"
        },
        "id": "iGsfsQBFQdej",
        "outputId": "ac0f15e8-7dd7-41c2-9cf7-6347a93a45c6"
      },
      "execution_count": null,
      "outputs": [
        {
          "output_type": "stream",
          "name": "stdout",
          "text": [
            "enter the num1: 5\n",
            "enter the num2: 7\n",
            "enter the num3: 11\n",
            "11 is largest\n"
          ]
        }
      ]
    },
    {
      "cell_type": "markdown",
      "source": [
        "9.Create a program that checks if a given string is a palindrome."
      ],
      "metadata": {
        "id": "nuX5YnzdQd-t"
      }
    },
    {
      "cell_type": "code",
      "source": [
        "str = input('enter a string: ')\n",
        "if str==str[::-1]:\n",
        "    print(f'{str} is palindrome')\n",
        "else:\n",
        "    print(f'{str} is not palindrom')"
      ],
      "metadata": {
        "colab": {
          "base_uri": "https://localhost:8080/"
        },
        "id": "oAsBLxvDQg8y",
        "outputId": "6f04e47e-8604-4c21-ea80-e45780d91382"
      },
      "execution_count": null,
      "outputs": [
        {
          "output_type": "stream",
          "name": "stdout",
          "text": [
            "enter a string: noon\n",
            "noon is palindrome\n"
          ]
        }
      ]
    },
    {
      "cell_type": "markdown",
      "source": [
        "10.Write a Python program to calculate the grade based on a student's score."
      ],
      "metadata": {
        "id": "gwhgfVUUQhi1"
      }
    },
    {
      "cell_type": "code",
      "source": [
        "marks =int(input ('enter the score: '))\n",
        "if marks >=90 and marks <=100:\n",
        "    print ('A+')\n",
        "elif marks >=80 and marks <90:\n",
        "    print('A')\n",
        "elif marks >=70 and marks <80:\n",
        "    print('B')\n",
        "elif marks >=60 and marks <70:\n",
        "    print('C')\n",
        "elif marks >=50 and marks <60:\n",
        "    print('Average')\n",
        "else:\n",
        "    print(':) pdh lei bhai :)')"
      ],
      "metadata": {
        "colab": {
          "base_uri": "https://localhost:8080/"
        },
        "id": "Ctc6CETPQld2",
        "outputId": "39c0d3d0-60c3-40a1-df19-36f9abbdb2cf"
      },
      "execution_count": null,
      "outputs": [
        {
          "output_type": "stream",
          "name": "stdout",
          "text": [
            "enter the score: 40\n",
            ":) pdh lei bhai :)\n"
          ]
        }
      ]
    },
    {
      "cell_type": "markdown",
      "source": [
        "**Nested If-Else Statements**"
      ],
      "metadata": {
        "id": "fx27sJmsQxFR"
      }
    },
    {
      "cell_type": "markdown",
      "source": [
        "11.Write a program to find the largest among three numbers using nested if-else statements."
      ],
      "metadata": {
        "id": "f1u7V2PWQ1SE"
      }
    },
    {
      "cell_type": "code",
      "source": [
        "x = int(input('enter the num1: '))\n",
        "y = int(input('enter the num2: '))\n",
        "z = int(input('enter the num3: '))\n",
        "if x>y:\n",
        "    if x>z:\n",
        "        print(f'{x} is largest')\n",
        "if y>x :\n",
        "    if y>z:\n",
        "        print(f'{y} is largest')\n",
        "else:\n",
        "    print(f'{z} is largest')\n"
      ],
      "metadata": {
        "colab": {
          "base_uri": "https://localhost:8080/"
        },
        "id": "guCO1DHBQ5PP",
        "outputId": "4a5a6876-7cc1-4e22-fe66-0d8d07d40683"
      },
      "execution_count": null,
      "outputs": [
        {
          "output_type": "stream",
          "name": "stdout",
          "text": [
            "enter the num1: 10\n",
            "enter the num2: 30\n",
            "enter the num3: 20\n",
            "30 is largest\n"
          ]
        }
      ]
    },
    {
      "cell_type": "markdown",
      "source": [
        "12.Implement a program to determine if a triangle is equilateral, isosceles, or scalene."
      ],
      "metadata": {
        "id": "GxVeSl9uRCeR"
      }
    },
    {
      "cell_type": "code",
      "source": [
        "x = int(input('enter the side1: '))\n",
        "y = int(input('enter the side2: '))\n",
        "z = int(input('enter the side3: '))\n",
        "if x == y :\n",
        "    if y == z:\n",
        "        if z==x:\n",
        "            print('equilateral')\n",
        "    else:\n",
        "          print('isosceles')\n",
        "elif x != y :\n",
        "    if y== z  :\n",
        "      print('isosceles')\n",
        "    else:\n",
        "      print('scalene')\n"
      ],
      "metadata": {
        "id": "3yattvlIRIx1",
        "colab": {
          "base_uri": "https://localhost:8080/"
        },
        "outputId": "7940c816-b05f-4145-bf6c-91d6ff30df97"
      },
      "execution_count": null,
      "outputs": [
        {
          "output_type": "stream",
          "name": "stdout",
          "text": [
            "enter the side1: 13\n",
            "enter the side2: 12\n",
            "enter the side3: 12\n",
            "isosceles\n"
          ]
        }
      ]
    },
    {
      "cell_type": "markdown",
      "source": [
        "13.Develop a program that checks if a year is a leap year and also if it is a century year."
      ],
      "metadata": {
        "id": "Ur6UlbwuRJsw"
      }
    },
    {
      "cell_type": "code",
      "source": [
        "y = int(input('enter the year: '))\n",
        "if y%4==0:\n",
        "  if y%100!=0 or y%400==0:\n",
        "    print(f'{y} is a leap year')\n",
        "else:\n",
        "    print(f'{y} is not a leap year')"
      ],
      "metadata": {
        "colab": {
          "base_uri": "https://localhost:8080/"
        },
        "id": "oHlsKHuHROjt",
        "outputId": "91136da3-12c0-4c6a-9582-b8868aea09f9"
      },
      "execution_count": null,
      "outputs": [
        {
          "output_type": "stream",
          "name": "stdout",
          "text": [
            "enter the year: 1992\n",
            "1992 is a leap year\n"
          ]
        }
      ]
    },
    {
      "cell_type": "markdown",
      "source": [
        "14.Write a Python script to determine if a number is positive, negative, or zero."
      ],
      "metadata": {
        "id": "34EQGv74qyHH"
      }
    },
    {
      "cell_type": "code",
      "source": [
        "n=int(input('enter a number: '))\n",
        "if n>=0:\n",
        "  if n>0:\n",
        "    print('it is a positive number')\n",
        "  else:\n",
        "    print('number is zero')\n",
        "else:\n",
        "  print('it is a negative number')"
      ],
      "metadata": {
        "colab": {
          "base_uri": "https://localhost:8080/"
        },
        "id": "reTXuWpdq4jG",
        "outputId": "1555103f-7b9c-4729-feb1-29eaff63e1a0"
      },
      "execution_count": null,
      "outputs": [
        {
          "output_type": "stream",
          "name": "stdout",
          "text": [
            "enter a number: 0\n",
            "number is zero\n"
          ]
        }
      ]
    },
    {
      "cell_type": "markdown",
      "source": [
        "15.Create a program to check if a person is a teenager (between 13 and 19 years old)."
      ],
      "metadata": {
        "id": "nVbkOOherloa"
      }
    },
    {
      "cell_type": "code",
      "source": [
        "age=int(input('enter age: '))\n",
        "if age>=13:\n",
        "  if age<=19:\n",
        "    print('person is teenager')\n",
        "  else:\n",
        "    print('person is not teenager')\n",
        "else:\n",
        "  print('person is not teenager')"
      ],
      "metadata": {
        "colab": {
          "base_uri": "https://localhost:8080/"
        },
        "id": "7UcDNnCXrtRP",
        "outputId": "cb93018d-9310-4a9a-9578-54b62975e954"
      },
      "execution_count": null,
      "outputs": [
        {
          "output_type": "stream",
          "name": "stdout",
          "text": [
            "enter age: 20\n",
            "person is not teenager\n"
          ]
        }
      ]
    },
    {
      "cell_type": "markdown",
      "source": [
        "16.Develop a program that determines the type of angle based on its measure (acute, obtuse, or right)."
      ],
      "metadata": {
        "id": "9zgN2R1Wsl7J"
      }
    },
    {
      "cell_type": "code",
      "source": [
        "angle=int(input('enter the angle: '))\n",
        "if angle>=90:\n",
        "  if angle>90:\n",
        "    print('angle is obtuse')\n",
        "  else:\n",
        "    print('angle is right angle')\n",
        "else:\n",
        "  print('angle is acute')"
      ],
      "metadata": {
        "colab": {
          "base_uri": "https://localhost:8080/"
        },
        "id": "neDYq1lzspQ8",
        "outputId": "71b5aac3-2da2-4c80-b488-5d112deca330"
      },
      "execution_count": null,
      "outputs": [
        {
          "output_type": "stream",
          "name": "stdout",
          "text": [
            "enter the angle: 90\n",
            "angle is right angle\n"
          ]
        }
      ]
    },
    {
      "cell_type": "markdown",
      "source": [
        "17.Write a Python program to calculate the roots of a quadratic equation."
      ],
      "metadata": {
        "id": "_RPedv62tdo6"
      }
    },
    {
      "cell_type": "code",
      "source": [
        "a = float(input(\"Enter a: \"))\n",
        "b = float(input(\"Enter b: \"))\n",
        "c = float(input(\"Enter c: \"))\n",
        "if a != 0:\n",
        "    d = b*b - 4*a*c\n",
        "    if d > 0:\n",
        "        root1 = (-b + (d)**0.5) / (2*a)\n",
        "        root2 = (-b - (d)**0.5) / (2*a)\n",
        "        print(\"Root 1 =\", root1)\n",
        "        print(\"Root 2 =\", root2)\n",
        "    else:\n",
        "        if d == 0:\n",
        "            root = -b / (2*a)\n",
        "            print(\"Root 1 = Root 2 =\", root)\n",
        "        else:\n",
        "          print('roots are complex')\n",
        "else:\n",
        "  print('not a quadratic equation')"
      ],
      "metadata": {
        "colab": {
          "base_uri": "https://localhost:8080/"
        },
        "id": "vzMJjDDUthFe",
        "outputId": "c5a3157c-b844-4d59-d287-84964a12c87e"
      },
      "execution_count": null,
      "outputs": [
        {
          "output_type": "stream",
          "name": "stdout",
          "text": [
            "Enter a: 2\n",
            "Enter b: 3\n",
            "Enter c: 4\n",
            "roots are complex\n"
          ]
        }
      ]
    },
    {
      "cell_type": "markdown",
      "source": [
        "18.Implement a program to determine the day of the week based on a user-provided number (1 for Monday, 2 for tuesday ,etc.)"
      ],
      "metadata": {
        "id": "8tHwGZv5ti3i"
      }
    },
    {
      "cell_type": "code",
      "source": [
        "day=int(input('enter day number: '))\n",
        "if day >1:\n",
        "  if day>2:\n",
        "     if day>3:\n",
        "       if day>4:\n",
        "        if day>5:\n",
        "          if day>6:\n",
        "            if day>7:\n",
        "              if day>=8:\n",
        "                print('wrong day number')\n",
        "            else:\n",
        "              print('sunday')\n",
        "          else:\n",
        "            print('saturday')\n",
        "\n",
        "        else:\n",
        "          print('Friday')\n",
        "       else:\n",
        "        print('Thursday')\n",
        "\n",
        "\n",
        "     else:\n",
        "        print('Wednesday')\n",
        "  else:\n",
        "      print('Tuesday')\n",
        "else:\n",
        "    print('Monday')\n",
        "\n",
        "\n"
      ],
      "metadata": {
        "colab": {
          "base_uri": "https://localhost:8080/"
        },
        "id": "uOseInqttsK_",
        "outputId": "d8e73ca2-9900-47dc-c5b0-207cc6910407"
      },
      "execution_count": null,
      "outputs": [
        {
          "output_type": "stream",
          "name": "stdout",
          "text": [
            "enter day number: 1\n",
            "Monday\n"
          ]
        }
      ]
    },
    {
      "cell_type": "markdown",
      "source": [
        "19.Create a program that determines if a year is a leap year and also if it is evenly divisible by 400."
      ],
      "metadata": {
        "id": "FAcz2vcK0wO0"
      }
    },
    {
      "cell_type": "code",
      "source": [
        "def check_year(y):\n",
        "  if (y%4==0 ):\n",
        "    if y%100!=0 or y%400==0:\n",
        "      print(f'{y} is a leap year')\n",
        "  else:\n",
        "     print(f'{y} is not a leap year')\n",
        "y = int(input('enter the year: '))\n",
        "check_year(y)\n",
        "if y % 400 == 0:\n",
        "  print('year is also evenly divisible by 400')\n",
        "else:\n",
        "  print('year is not evenly divisible by 400')\n"
      ],
      "metadata": {
        "colab": {
          "base_uri": "https://localhost:8080/"
        },
        "id": "hplX4kGx017R",
        "outputId": "6784ea3e-5d20-45bb-c3dd-3191b020137b"
      },
      "execution_count": null,
      "outputs": [
        {
          "output_type": "stream",
          "name": "stdout",
          "text": [
            "enter the year: 2000\n",
            "2000 is a leap year\n",
            "year is also evenly divisible by 400\n"
          ]
        }
      ]
    },
    {
      "cell_type": "markdown",
      "source": [
        "20.Develop a program that checks if a given number is prime or not using nested if-else statements.\n"
      ],
      "metadata": {
        "id": "6HZVXbbe4Ixd"
      }
    },
    {
      "cell_type": "code",
      "source": [
        "n= int(input(\"Enter a number: \"))\n",
        "if n > 1:\n",
        "    for i in range(2, n):\n",
        "        if n % i == 0:\n",
        "            print(\"number is not a prime\")\n",
        "            break\n",
        "    else:\n",
        "        print(\"number is prime\")\n",
        "else:\n",
        "    print(\"number is not a prime \")"
      ],
      "metadata": {
        "id": "CFOfb7Gu4VMX",
        "colab": {
          "base_uri": "https://localhost:8080/"
        },
        "outputId": "3d6945f8-0373-41da-a5df-822ea58c8b71"
      },
      "execution_count": null,
      "outputs": [
        {
          "output_type": "stream",
          "name": "stdout",
          "text": [
            "Enter a number: 3\n",
            "number is prime\n"
          ]
        }
      ]
    },
    {
      "cell_type": "markdown",
      "source": [
        "**Elif Statements**"
      ],
      "metadata": {
        "id": "zVH2UqYa3N1y"
      }
    },
    {
      "cell_type": "markdown",
      "source": [
        "21.Write a Python program to assign grades based on different ranges of scores using elif statements."
      ],
      "metadata": {
        "id": "EO7RmAZn1-vO"
      }
    },
    {
      "cell_type": "code",
      "source": [
        "marks =int(input ('Enter the Marks: '))\n",
        "if marks >=90 and marks <=100:\n",
        "    print ('A+')\n",
        "elif marks >=80 and marks <90:\n",
        "    print('A')\n",
        "elif marks >=70 and marks <80:\n",
        "    print('B')\n",
        "elif marks >=60 and marks <70:\n",
        "    print('C')\n",
        "elif marks >=50 and marks <60:\n",
        "    print('Average')\n",
        "else:\n",
        "  print(':) pdh lei bhai :)')"
      ],
      "metadata": {
        "colab": {
          "base_uri": "https://localhost:8080/"
        },
        "id": "5u9RqmID2Ilx",
        "outputId": "50610425-4175-477c-b0dd-15445d9f6047"
      },
      "execution_count": null,
      "outputs": [
        {
          "output_type": "stream",
          "name": "stdout",
          "text": [
            "Enter the Marks: 90\n",
            "A+\n"
          ]
        }
      ]
    },
    {
      "cell_type": "markdown",
      "source": [
        "22.Implement a program to determine the type of a triangle based on its angles."
      ],
      "metadata": {
        "id": "O6Y5VsQ92lLv"
      }
    },
    {
      "cell_type": "code",
      "source": [
        "angle=int(input('enter the angle: '))\n",
        "if angle>0 and angle<90:\n",
        "  print('acute angle triangle')\n",
        "elif angle==90:\n",
        "  print('right angle triangle')\n",
        "elif angle>90 and angle<180:\n",
        "  print('obtuse angle triangle')"
      ],
      "metadata": {
        "id": "i5rS5qlD2oHO"
      },
      "execution_count": null,
      "outputs": []
    },
    {
      "cell_type": "markdown",
      "source": [
        "23.Develop a program to categorize a given person's BMI into underweight, normal, overweight, or obese using"
      ],
      "metadata": {
        "id": "P9DLD5fe3SFC"
      }
    },
    {
      "cell_type": "code",
      "source": [
        "w = float(input(\"Enter your weight in kg: \"))\n",
        "h = float(input(\"Enter your height in meters: \"))\n",
        "bmi = w / (h ** 2)\n",
        "if bmi < 18.5:\n",
        "    print(\"Underweight\")\n",
        "elif 18.5 <= bmi < 24.9:\n",
        "    print(\"Normal weight\")\n",
        "elif 25 <= bmi < 29.9:\n",
        "    print(\"Overweight\")\n",
        "else:\n",
        "  print(\"Obese\")"
      ],
      "metadata": {
        "colab": {
          "base_uri": "https://localhost:8080/"
        },
        "id": "ZwXU46pO3XtE",
        "outputId": "51f38d36-d52e-49b2-a8b0-e76323c54ec0"
      },
      "execution_count": null,
      "outputs": [
        {
          "output_type": "stream",
          "name": "stdout",
          "text": [
            "Enter your weight in kg: 70\n",
            "Enter your height in meters: 171\n",
            "Underweight\n"
          ]
        }
      ]
    },
    {
      "cell_type": "markdown",
      "source": [
        "24.Create a program that determines whether a given number is positive, negative, or zero using elif\n",
        "statements.\n"
      ],
      "metadata": {
        "id": "M_g5Uagq3nuu"
      }
    },
    {
      "cell_type": "code",
      "source": [
        "n=int(input(\"enter a number: \"))\n",
        "if n==0:\n",
        "  print(\"number is zero\")\n",
        "elif n>0:\n",
        "    print(\"number is positive\")\n",
        "else:\n",
        "    print(\"number is negative\")"
      ],
      "metadata": {
        "colab": {
          "base_uri": "https://localhost:8080/"
        },
        "id": "vuztAb8d3r38",
        "outputId": "9c553f08-5070-4e81-ec49-2ca7198a45ce"
      },
      "execution_count": null,
      "outputs": [
        {
          "output_type": "stream",
          "name": "stdout",
          "text": [
            "enter a number: 0\n",
            "number is zero\n"
          ]
        }
      ]
    },
    {
      "cell_type": "markdown",
      "source": [
        "25.Write a Python script to determine the type of a character (uppercase, lowercase, or special) using elif\n",
        "statements.\n"
      ],
      "metadata": {
        "id": "vyOAFMQJ4SEg"
      }
    },
    {
      "cell_type": "code",
      "source": [
        "char=input('enter character: ')\n",
        "if char >='a' and char <='z':\n",
        "    print('character is lowercase')\n",
        "elif char >='A' and char <='Z':\n",
        "    print('character is uppercase')\n",
        "else:\n",
        "    print('special character')"
      ],
      "metadata": {
        "id": "cZYeyk344WbD",
        "colab": {
          "base_uri": "https://localhost:8080/"
        },
        "outputId": "1ffb43d8-028c-4d15-b2a0-b1027b2571ab"
      },
      "execution_count": null,
      "outputs": [
        {
          "output_type": "stream",
          "name": "stdout",
          "text": [
            "enter character: a\n",
            "character is lowercase\n"
          ]
        }
      ]
    },
    {
      "cell_type": "markdown",
      "source": [
        "26.Implement a program to calculate the discounted price based on different purchase amounts using elif\n",
        "statements.\n"
      ],
      "metadata": {
        "id": "h_X1HdRmVRYr"
      }
    },
    {
      "cell_type": "code",
      "source": [
        "purchase = float(input(\"Enter the purchase amount: \"))\n",
        "if purchase < 100:\n",
        "    discount = 0\n",
        "elif purchase < 500:\n",
        "    discount = 5\n",
        "elif purchase < 1000:\n",
        "    discount = 10\n",
        "else:\n",
        "    discount = 15\n",
        "\n",
        "discount_amount = purchase * (discount / 100)\n",
        "discount_price = purchase - discount_amount\n",
        "\n",
        "print(\"The discounted price is:\", discount_price)\n"
      ],
      "metadata": {
        "colab": {
          "base_uri": "https://localhost:8080/"
        },
        "id": "9TNPkTYXVlog",
        "outputId": "2e27fe79-53da-4953-aea5-27da929719de"
      },
      "execution_count": null,
      "outputs": [
        {
          "output_type": "stream",
          "name": "stdout",
          "text": [
            "Enter the purchase amount: 1000\n",
            "The discounted price is: 850.0\n"
          ]
        }
      ]
    },
    {
      "cell_type": "markdown",
      "source": [
        "27.Develop a program to calculate the electricity bill based on different consumption slabs using elif\n",
        "statements.\n"
      ],
      "metadata": {
        "id": "Rgq29WhrWmth"
      }
    },
    {
      "cell_type": "code",
      "source": [
        "units = float(input(\"Enter the number of units: \"))\n",
        "if units <= 100:\n",
        "    bill = units * 1.5\n",
        "elif units <= 200:\n",
        "    bill = (100 * 1.5) + ((units - 100) * 2.5)\n",
        "else:\n",
        "    bill = (100 * 1.5) + (100 * 2.5) + ((units - 200) * 4)\n",
        "\n",
        "print(\"The electricity bill is: \", bill)"
      ],
      "metadata": {
        "colab": {
          "base_uri": "https://localhost:8080/"
        },
        "id": "v-xxPKYVWrnR",
        "outputId": "faf8d28c-1722-4032-d43e-716c9baebb5b"
      },
      "execution_count": null,
      "outputs": [
        {
          "output_type": "stream",
          "name": "stdout",
          "text": [
            "Enter the number of units: 100\n",
            "The electricity bill is:  150.0\n"
          ]
        }
      ]
    },
    {
      "cell_type": "markdown",
      "source": [
        "28.Create a program to determine the type of quadrilateral based on its angles and sides using elif\n",
        "statements.\n"
      ],
      "metadata": {
        "id": "A4VsxqsHW1ZV"
      }
    },
    {
      "cell_type": "code",
      "source": [
        "a = float(input(\"Enter side a: \"))\n",
        "b = float(input(\"Enter side b: \"))\n",
        "c = float(input(\"Enter side c: \"))\n",
        "d = float(input(\"Enter side d: \"))\n",
        "\n",
        "w = float(input(\"Enter angle 1: \"))21\n",
        "x = float(input(\"Enter angle 2: \"))\n",
        "y = float(input(\"Enter angle 3: \"))\n",
        "z = float(input(\"Enter angle 4: \"))\n",
        "\n",
        "if a == b == c == d and w == x == y == z == 90:\n",
        "    print(\"It is a Square.\")\n",
        "elif a == c and b == d and w == x == y == z == 90:\n",
        "    print(\"It is a Rectangle.\")\n",
        "elif a == b == c == d and (w != 90 or x != 90 or y != 90 or z != 90):\n",
        "    print(\"It is a Rhombus.\")\n",
        "elif a == c and b == d and w == y and x == z:\n",
        "    print(\"It is a Parallelogram.\")\n",
        "else:\n",
        "    print(\"It is a Trapezium or other.\")"
      ],
      "metadata": {
        "colab": {
          "base_uri": "https://localhost:8080/"
        },
        "id": "Us7KqQ3-W4Lx",
        "outputId": "ecafb3e3-647d-47da-ebb4-a03a9ac5d1c5"
      },
      "execution_count": null,
      "outputs": [
        {
          "output_type": "stream",
          "name": "stdout",
          "text": [
            "Enter side a: 10\n",
            "Enter side b: 20\n",
            "Enter side c: 10\n",
            "Enter side d: 20\n",
            "Enter angle 1: 90\n",
            "Enter angle 2: 120\n",
            "Enter angle 3: 90\n",
            "Enter angle 4: 120\n",
            "It is a Parallelogram.\n"
          ]
        }
      ]
    },
    {
      "cell_type": "markdown",
      "source": [
        "29.Write a Python script to determine the season based on a user-provided month using elif statements."
      ],
      "metadata": {
        "id": "BpsSSzVmX3Te"
      }
    },
    {
      "cell_type": "code",
      "source": [
        "m = input(\"enter the month: \")\n",
        "if m == 'march' or m == 'april' or m == 'may':\n",
        "  print('Spring season')\n",
        "elif m == 'june' or m == 'july' or m == 'august':\n",
        "  print(\"Summer\")\n",
        "elif m == 'september' or m == 'october' or m == 'november':\n",
        "  print(\"Autumn season\")\n",
        "elif m == 'december season' or m == 'january' or m == 'february':\n",
        "  print(\"Winter season\")\n",
        "else:\n",
        "  print(\"Not a month \")"
      ],
      "metadata": {
        "colab": {
          "base_uri": "https://localhost:8080/"
        },
        "id": "ngzJItKOX7Jj",
        "outputId": "8430709e-8f54-400f-e4e8-380032eb3944"
      },
      "execution_count": null,
      "outputs": [
        {
          "output_type": "stream",
          "name": "stdout",
          "text": [
            "enter the month: may\n",
            "Spring season\n"
          ]
        }
      ]
    },
    {
      "cell_type": "markdown",
      "source": [
        "30.Implement a program to determine the type of a year (leap or common) and month (30 or 31 days) using elif statements."
      ],
      "metadata": {
        "id": "75dMtZNBYIvQ"
      }
    },
    {
      "cell_type": "code",
      "source": [
        "y = int(input('enter the year: '))\n",
        "m = input(\"enter the month: \")\n",
        "l = ['january', 'march', 'may', 'july', 'august', 'october', 'december']\n",
        "if y % 4 == 0:\n",
        "    if y % 100 != 0 or y % 400 == 0:\n",
        "        print('leap year')\n",
        "        if m in l:\n",
        "            print(\"this month have 31 days\")\n",
        "        elif m  not in l:\n",
        "            print(\"this month have 30 days\")\n",
        "else:\n",
        "    print('not a leap year')\n",
        "    if m in l:\n",
        "      print(\"this month have 31 days\")\n",
        "    elif m  not in l:\n",
        "      print(\"this month have 30 days\")"
      ],
      "metadata": {
        "colab": {
          "base_uri": "https://localhost:8080/"
        },
        "id": "OAUEYLG2YLl7",
        "outputId": "f6c53f0f-1129-4cbd-f12c-d230e8e24af5"
      },
      "execution_count": null,
      "outputs": [
        {
          "output_type": "stream",
          "name": "stdout",
          "text": [
            "enter the year: 1996\n",
            "enter the month: may\n",
            "leap year\n",
            "this month have 31 days\n"
          ]
        }
      ]
    },
    {
      "cell_type": "markdown",
      "source": [
        "**Combined**"
      ],
      "metadata": {
        "id": "JxVCk1fsYdyR"
      }
    },
    {
      "cell_type": "markdown",
      "source": [
        "1.Write a Python program that checks if a given number is positive, negative, or zero."
      ],
      "metadata": {
        "id": "BVEwNPQeYkij"
      }
    },
    {
      "cell_type": "code",
      "source": [
        "#same as 24 of elif statement"
      ],
      "metadata": {
        "id": "6nQdKHqIYhi4"
      },
      "execution_count": null,
      "outputs": []
    },
    {
      "cell_type": "markdown",
      "source": [
        "2.Create a program to determine if a person is eligible to vote based on their age."
      ],
      "metadata": {
        "id": "BTtcXE-8Y9ky"
      }
    },
    {
      "cell_type": "code",
      "source": [
        "#same as 2 of basic if else"
      ],
      "metadata": {
        "id": "pnT7cdmzZBsE"
      },
      "execution_count": null,
      "outputs": []
    },
    {
      "cell_type": "markdown",
      "source": [
        "3.Write a program to find the maximum of two given numbers using conditional statements."
      ],
      "metadata": {
        "id": "091DYRb2ZnS3"
      }
    },
    {
      "cell_type": "code",
      "source": [
        "#same as 3 of basic if else"
      ],
      "metadata": {
        "id": "rCWywiKbZxOC"
      },
      "execution_count": null,
      "outputs": []
    },
    {
      "cell_type": "markdown",
      "source": [
        "4.Develop a program that calculates the grade of a student based on their exam score."
      ],
      "metadata": {
        "id": "X9b6D6vzaNQC"
      }
    },
    {
      "cell_type": "code",
      "source": [
        "#same as 21 nested if else"
      ],
      "metadata": {
        "id": "TtJQR3oHaSXI"
      },
      "execution_count": null,
      "outputs": []
    },
    {
      "cell_type": "markdown",
      "source": [
        "5.Create a program that checks if a year is a leap year or not."
      ],
      "metadata": {
        "id": "pmTHoXQ8aqTB"
      }
    },
    {
      "cell_type": "code",
      "source": [
        "#same as 4 of basic if else"
      ],
      "metadata": {
        "id": "ZU2-Pe88atwh"
      },
      "execution_count": null,
      "outputs": []
    },
    {
      "cell_type": "markdown",
      "source": [
        "6.Write a program to classify a triangle based on its sides' lengths."
      ],
      "metadata": {
        "id": "032z0aEAa4pG"
      }
    },
    {
      "cell_type": "code",
      "source": [
        "#same as 12 of nested if else"
      ],
      "metadata": {
        "id": "lqLE4Kuua9v2"
      },
      "execution_count": null,
      "outputs": []
    },
    {
      "cell_type": "markdown",
      "source": [
        "7.Build a program that determines the largest of three given numbers."
      ],
      "metadata": {
        "id": "aVFq19ULbIkC"
      }
    },
    {
      "cell_type": "code",
      "source": [
        "#same as 11 of nested if else"
      ],
      "metadata": {
        "id": "GuokmDiZbPEi"
      },
      "execution_count": null,
      "outputs": []
    },
    {
      "cell_type": "markdown",
      "source": [
        "8.Develop a program that checks whether a character is a vowel or a consonant."
      ],
      "metadata": {
        "id": "Y1_U_2YsbdO6"
      }
    },
    {
      "cell_type": "code",
      "source": [
        "#same as 5 of basic if else"
      ],
      "metadata": {
        "id": "4Xv3ad7kbhJ4"
      },
      "execution_count": null,
      "outputs": []
    },
    {
      "cell_type": "markdown",
      "source": [
        "9.Create a program to calculate the total cost of a shopping cart based on discounts."
      ],
      "metadata": {
        "id": "c0si1wVnbt-V"
      }
    },
    {
      "cell_type": "code",
      "source": [
        "shopping_cart = float(input(\"Enter the shopping_cart amount: \"))\n",
        "if shopping_cart < 100:\n",
        "    discount = 0\n",
        "elif shopping_cart < 500:\n",
        "    discount = 5\n",
        "elif shopping_cart < 1000:\n",
        "    discount = 10\n",
        "else:\n",
        "    discount = 15\n",
        "\n",
        "discount_amount = shopping_cart * (discount / 100)\n",
        "discount_price = shopping_cart - discount_amount\n",
        "\n",
        "print(\"The total cost of shopping cart is:\", discount_price)"
      ],
      "metadata": {
        "colab": {
          "base_uri": "https://localhost:8080/"
        },
        "id": "FHpB4W-kbxLG",
        "outputId": "4a56c9d2-5df0-4b23-8a23-53ba055a4097"
      },
      "execution_count": null,
      "outputs": [
        {
          "output_type": "stream",
          "name": "stdout",
          "text": [
            "Enter the shopping_cart amount: 10000\n",
            "The total cost of shopping cart is: 8500.0\n"
          ]
        }
      ]
    },
    {
      "cell_type": "markdown",
      "source": [
        "10.Write a program that checks if a given number is even or odd."
      ],
      "metadata": {
        "id": "YIzHtlCOctup"
      }
    },
    {
      "cell_type": "code",
      "source": [
        "#same as 6 of basic if else"
      ],
      "metadata": {
        "id": "St4CUoCkcxCa"
      },
      "execution_count": null,
      "outputs": []
    },
    {
      "cell_type": "markdown",
      "source": [
        "11.Write a program that calculates the roots of a quadratic equation ."
      ],
      "metadata": {
        "id": "CluJHgn6dFYu"
      }
    },
    {
      "cell_type": "code",
      "source": [
        "#same 17 of nested if else"
      ],
      "metadata": {
        "id": "KGWeA7RxdG26"
      },
      "execution_count": null,
      "outputs": []
    },
    {
      "cell_type": "markdown",
      "source": [
        "12.Create a program that determines the day of the week based on the day number (1-7)."
      ],
      "metadata": {
        "id": "jZGBWrPEdRKL"
      }
    },
    {
      "cell_type": "code",
      "source": [
        "#same 18 of nested if else"
      ],
      "metadata": {
        "id": "bi4sinYGdWxK"
      },
      "execution_count": null,
      "outputs": []
    },
    {
      "cell_type": "markdown",
      "source": [
        "13.Develop a program that calculates the factorial of a given number using recursion."
      ],
      "metadata": {
        "id": "AgwdKiJmdrot"
      }
    },
    {
      "cell_type": "code",
      "source": [
        "def fact(n):\n",
        "  if n==0:\n",
        "    return 1\n",
        "  else:\n",
        "    return n*fact(n-1)\n",
        "n=int(input(\"enter a number: \"))\n",
        "print(fact(n))"
      ],
      "metadata": {
        "colab": {
          "base_uri": "https://localhost:8080/"
        },
        "id": "28IesiYjdtMz",
        "outputId": "50d0cec9-57c8-4cc9-abe1-3e9d769b61e6"
      },
      "execution_count": null,
      "outputs": [
        {
          "output_type": "stream",
          "name": "stdout",
          "text": [
            "enter a number: 5\n",
            "120\n"
          ]
        }
      ]
    },
    {
      "cell_type": "markdown",
      "source": [
        "14.Write a program to find the largest among three numbers without using the `max()` function."
      ],
      "metadata": {
        "id": "G4QEQu9yd0fm"
      }
    },
    {
      "cell_type": "code",
      "source": [
        "#same as 11 of nested if else"
      ],
      "metadata": {
        "id": "w59hl5y3d8UR"
      },
      "execution_count": null,
      "outputs": []
    },
    {
      "cell_type": "markdown",
      "source": [
        "15.Create a program that simulates a basic ATM transaction menu."
      ],
      "metadata": {
        "id": "nI74Wux0eGAg"
      }
    },
    {
      "cell_type": "code",
      "source": [
        "pin=int(input('enter pin:'))\n",
        "balance=0\n",
        "if len(str(pin))==4: #for counting length of pin\n",
        "  while True: #for checking condition unit it check again and again until its false\n",
        "    print('1. for show balance')\n",
        "    print('2. for withdraw')\n",
        "    print('3. for deposit')\n",
        "    print('4. for exit')\n",
        "    n=int(input('enter task: '))\n",
        "    print()#for space\n",
        "    if n==1:\n",
        "      print(f'balance is {balance}')\n",
        "    elif n==2:\n",
        "      withdraw_amt=int(input('enter withdraw amt: '))\n",
        "      if withdraw_amt<balance:\n",
        "        balance=balance-withdraw_amt\n",
        "        print(f'{withdraw_amt} is withdrawn')\n",
        "        print(f'updated balance is {balance}')\n",
        "      else:\n",
        "        print('balance is low')\n",
        "    elif n==3:\n",
        "      deposit_amt=int(input('enter deposit amt: '))\n",
        "      balance=balance+deposit_amt\n",
        "      print(f'{deposit_amt} amount is deposit ')\n",
        "      print(f'updated balance is {balance}')\n",
        "    elif n==4:\n",
        "      print('exit')\n",
        "      break\n",
        "else:\n",
        "  print('wrong pin it must be of 4 digit')"
      ],
      "metadata": {
        "colab": {
          "base_uri": "https://localhost:8080/"
        },
        "id": "BVWUBpCTeKPn",
        "outputId": "52a87800-46b5-4b5b-8fbc-5bbd92c7ef23"
      },
      "execution_count": null,
      "outputs": [
        {
          "output_type": "stream",
          "name": "stdout",
          "text": [
            "enter pin:1234\n",
            "1. for show balance\n",
            "2. for withdraw\n",
            "3. for deposit\n",
            "4. for exit\n",
            "enter task: 1\n",
            "\n",
            "balance is 0\n",
            "1. for show balance\n",
            "2. for withdraw\n",
            "3. for deposit\n",
            "4. for exit\n",
            "enter task: 1\n",
            "\n",
            "balance is 0\n",
            "1. for show balance\n",
            "2. for withdraw\n",
            "3. for deposit\n",
            "4. for exit\n",
            "enter task: 2\n",
            "\n",
            "enter withdraw amt: 200\n",
            "balance is low\n",
            "1. for show balance\n",
            "2. for withdraw\n",
            "3. for deposit\n",
            "4. for exit\n",
            "enter task: 3\n",
            "\n",
            "enter deposit amt: 300\n",
            "300 amount is deposit \n",
            "updated balance is 300\n",
            "1. for show balance\n",
            "2. for withdraw\n",
            "3. for deposit\n",
            "4. for exit\n",
            "enter task: 4\n",
            "\n",
            "exit\n"
          ]
        }
      ]
    },
    {
      "cell_type": "markdown",
      "source": [
        "16.Build a program that checks if a given string is a palindrome or not."
      ],
      "metadata": {
        "id": "soSgIMaUmDVX"
      }
    },
    {
      "cell_type": "code",
      "source": [
        "#same as 9 of basic if else"
      ],
      "metadata": {
        "id": "j27aG0ghmLZZ"
      },
      "execution_count": null,
      "outputs": []
    },
    {
      "cell_type": "markdown",
      "source": [
        "17.Write a program that calculates the average of a list of numbers, excluding the smallest and largest values."
      ],
      "metadata": {
        "id": "GJ2wkKrxnWFS"
      }
    },
    {
      "cell_type": "code",
      "source": [
        "a=[1,2,3,4,5,6,7,8]\n",
        "x=0\n",
        "for i in a:\n",
        "  x+=i\n",
        "x-=max(a)+min(a)\n",
        "print(f\"average number in a list is {x/(len(a)-2)}\")"
      ],
      "metadata": {
        "colab": {
          "base_uri": "https://localhost:8080/"
        },
        "id": "2uDkPBa7okyG",
        "outputId": "b9b75093-6127-4b4e-b2b9-79b8dda45508"
      },
      "execution_count": null,
      "outputs": [
        {
          "output_type": "stream",
          "name": "stdout",
          "text": [
            "average number in a list is 4.5\n"
          ]
        }
      ]
    },
    {
      "cell_type": "markdown",
      "source": [
        "18.Develop a program that converts a given temperature from Celsius to Fahrenheit.\n"
      ],
      "metadata": {
        "id": "N2V2UyNCpH7x"
      }
    },
    {
      "cell_type": "code",
      "source": [
        "c=float(input(\"enter the temperature: \"))\n",
        "if c==0:\n",
        "  print(f\"{c}°C is equal to {32}°F\")\n",
        "else:\n",
        "  F = (c * 9/5) + 32\n",
        "  print(f\"{c}°C is equal to {F}°F\")"
      ],
      "metadata": {
        "colab": {
          "base_uri": "https://localhost:8080/"
        },
        "id": "usPaCJY2pMmJ",
        "outputId": "c0f02e10-38a6-48d8-da7d-9ab79ee1d839"
      },
      "execution_count": null,
      "outputs": [
        {
          "output_type": "stream",
          "name": "stdout",
          "text": [
            "enter the temperature: 0\n",
            "0.0°C is equal to 32°F\n"
          ]
        }
      ]
    },
    {
      "cell_type": "markdown",
      "source": [
        "19.Create a program that simulates a basic calculator for addition, subtraction, multiplication, and division."
      ],
      "metadata": {
        "id": "oVZN_v5lrm4A"
      }
    },
    {
      "cell_type": "code",
      "source": [
        "a= int(input(\"enter the first value: \"))\n",
        "b = int(input(\"enter the second value: \"))\n",
        "c = input(\"Choose the operator \")\n",
        "\n",
        "if c == \"+\":\n",
        "    print(a + b)\n",
        "elif c == \"-\":\n",
        "    print(a - b)\n",
        "elif c == \"*\":\n",
        "    print(a * b)\n",
        "elif c == \"/\":\n",
        "    print(a / b)\n",
        "elif c==\"//\":\n",
        "    print(a//b)\n",
        "elif c==\"**\":\n",
        "    print(a**b)\n",
        "else:\n",
        "    print(\"no such operator\")"
      ],
      "metadata": {
        "colab": {
          "base_uri": "https://localhost:8080/"
        },
        "id": "-vXow5XBrqlY",
        "outputId": "836b244a-fe01-40c8-844e-dec9642ccaff"
      },
      "execution_count": null,
      "outputs": [
        {
          "output_type": "stream",
          "name": "stdout",
          "text": [
            "enter the first value: 10\n",
            "enter the second value: 2\n",
            "Choose the operator **\n",
            "100\n"
          ]
        }
      ]
    },
    {
      "cell_type": "markdown",
      "source": [
        "20.Write a program that determines the roots of a cubic equation using the Cardano formula."
      ],
      "metadata": {
        "id": "UvmmxTzIs31B"
      }
    },
    {
      "cell_type": "code",
      "source": [
        "#space for code"
      ],
      "metadata": {
        "id": "3KFOQM99s73Z"
      },
      "execution_count": null,
      "outputs": []
    },
    {
      "cell_type": "markdown",
      "source": [
        "21.Create a program that calculates the income tax based on the user's income and tax brackets."
      ],
      "metadata": {
        "id": "c_sWskIps-MK"
      }
    },
    {
      "cell_type": "code",
      "source": [
        "income = float(input(\"Enter your annual income: \"))\n",
        "tax = 0\n",
        "\n",
        "if income <= 250000:\n",
        "    tax = 0\n",
        "elif income <= 500000:\n",
        "    tax = (income - 250000) * 0.05\n",
        "elif income <= 1000000:\n",
        "    tax = (250000 * 0.05) + (income - 500000) * 0.20\n",
        "else:\n",
        "    tax = (250000 * 0.05) + (500000 * 0.20) + (income - 1000000) * 0.30\n",
        "\n",
        "print(f\"Total income tax to be paid is: {tax}\")"
      ],
      "metadata": {
        "colab": {
          "base_uri": "https://localhost:8080/"
        },
        "id": "RxRxubPDtCWc",
        "outputId": "bc650f15-6c39-425c-928e-a1c744b80c2e"
      },
      "execution_count": null,
      "outputs": [
        {
          "output_type": "stream",
          "name": "stdout",
          "text": [
            "Enter your annual income: 50000000\n",
            "Total income tax to be paid is: 14812500.0\n"
          ]
        }
      ]
    },
    {
      "cell_type": "markdown",
      "source": [
        "22.Write a program that simulates a rock-paper-scissors game against the computer."
      ],
      "metadata": {
        "id": "YzD_OipCxCDh"
      }
    },
    {
      "cell_type": "code",
      "source": [
        "import random\n",
        "\n",
        "'''\n",
        " 1 - for Rock\n",
        " -1 -for Paper\n",
        " 0 - for Scissor\n",
        "'''\n",
        "\n",
        "computer = random.choice([-1, 0, 1]) # ye random no generate karega\n",
        "yourchoice = input(\"Enter your choice: \")\n",
        "values = {\"Rock\":1 , \"Paper\":-1 , \"Scissor\":0}\n",
        "reversedvalues = {1:\"Rock\" , -1:\"Paper\", 0:\"Scissor\"}\n",
        "you = values[yourchoice]\n",
        "\n",
        "print(f\"You choose {reversedvalues[you]}\\n Computer Chose {reversedvalues[computer]}\")\n",
        "\n",
        "if(computer == you):\n",
        "    print(\"Draw!!!\")\n",
        "else:\n",
        "    if(computer == -1 and you == 1):\n",
        "         print(\"You Lose!!!\")\n",
        "    elif(computer == -1 and you == 0):\n",
        "         print(\"You Win!!!\")\n",
        "    elif(computer == 1 and you == -1):\n",
        "         print(\"You Win!!!\")\n",
        "    elif(computer == 1 and you == 0):\n",
        "         print(\"You Lose!!!\")\n",
        "    elif(computer == 0 and you == -1):\n",
        "         print(\"You Lose!!!\")\n",
        "    elif(computer == 0 and you == 1):\n",
        "         print(\"You Win!!!!!\")\n",
        "    else:\n",
        "         print(\"Something Went Wrong!!! \")"
      ],
      "metadata": {
        "colab": {
          "base_uri": "https://localhost:8080/"
        },
        "id": "_AgNGCBDxD99",
        "outputId": "231a1986-5ec5-4b3e-9ddc-3d0f006d05cb"
      },
      "execution_count": null,
      "outputs": [
        {
          "output_type": "stream",
          "name": "stdout",
          "text": [
            "Enter your choice: Paper\n",
            "You choose Paper\n",
            " Computer Chose Rock\n",
            "You Win!!!\n"
          ]
        }
      ]
    },
    {
      "cell_type": "markdown",
      "source": [
        "23.Develop a program that generates a random password based on user preferences (length, complexity)."
      ],
      "metadata": {
        "id": "OFvAPcmryYXA"
      }
    },
    {
      "cell_type": "code",
      "source": [],
      "metadata": {
        "id": "xIRpBXzAybuY"
      },
      "execution_count": null,
      "outputs": []
    },
    {
      "cell_type": "markdown",
      "source": [
        "24.Create a program that implements a simple text-based adventure game with branching scenarios."
      ],
      "metadata": {
        "id": "5_CjBGRwyrSn"
      }
    },
    {
      "cell_type": "code",
      "source": [],
      "metadata": {
        "id": "3peTaHwJyxEq"
      },
      "execution_count": null,
      "outputs": []
    },
    {
      "cell_type": "markdown",
      "source": [
        "25.Build a program that solves a linear equation for x, considering different cases."
      ],
      "metadata": {
        "id": "PHJZqowY1_nm"
      }
    },
    {
      "cell_type": "code",
      "source": [],
      "metadata": {
        "id": "sAtAUMuh2DHR"
      },
      "execution_count": null,
      "outputs": []
    },
    {
      "cell_type": "markdown",
      "source": [
        "26.Write a program that simulates a basic quiz game with multiple-choice questions and scoring."
      ],
      "metadata": {
        "id": "w_8rrhTq2Dp_"
      }
    },
    {
      "cell_type": "code",
      "source": [],
      "metadata": {
        "id": "6SrEp8Ko2IPJ"
      },
      "execution_count": null,
      "outputs": []
    },
    {
      "cell_type": "markdown",
      "source": [
        "27.Develop a program that determines whether a given year is a prime number or not."
      ],
      "metadata": {
        "id": "db1L8U272MyT"
      }
    },
    {
      "cell_type": "code",
      "source": [],
      "metadata": {
        "id": "ASlKOrAp2OPn"
      },
      "execution_count": null,
      "outputs": []
    },
    {
      "cell_type": "markdown",
      "source": [
        "28.Create a program that sorts three numbers in ascending order using conditional statements."
      ],
      "metadata": {
        "id": "cxpyXjlc2O4r"
      }
    },
    {
      "cell_type": "code",
      "source": [
        "a = int(input(\"Enter first number: \"))\n",
        "b = int(input(\"Enter second number: \"))\n",
        "c = int(input(\"Enter third number: \"))\n",
        "\n",
        "# Sorting using conditions\n",
        "if a <= b and a <= c:\n",
        "    if b <= c:\n",
        "        print(a,b,c)\n",
        "    else:\n",
        "        print(a,c,b)\n",
        "elif b <= a and b <= c:\n",
        "    if a <= c:\n",
        "        print(b,a,c)\n",
        "    else:\n",
        "        print(b,c,a)\n",
        "else:\n",
        "    if a <= b:\n",
        "        print(c,a,b)\n",
        "    else:\n",
        "      print(c,b,a)"
      ],
      "metadata": {
        "colab": {
          "base_uri": "https://localhost:8080/"
        },
        "id": "vAy1zC4e2SWO",
        "outputId": "70f27a6f-4811-4374-f6f7-178e231a4243"
      },
      "execution_count": null,
      "outputs": [
        {
          "output_type": "stream",
          "name": "stdout",
          "text": [
            "Enter first number: 10\n",
            "Enter second number: 24\n",
            "Enter third number: 12\n",
            "10 12 24\n"
          ]
        }
      ]
    },
    {
      "cell_type": "markdown",
      "source": [
        "29.Build a program that determines the roots of a quartic equation using numerical methods."
      ],
      "metadata": {
        "id": "z1IVUCLS2Sl1"
      }
    },
    {
      "cell_type": "code",
      "source": [],
      "metadata": {
        "id": "rkcsw6fP2Xu4"
      },
      "execution_count": null,
      "outputs": []
    },
    {
      "cell_type": "markdown",
      "source": [
        "30.Write a program that calculates the BMI (Body Mass Index) and provides health recommendations based on the user's input."
      ],
      "metadata": {
        "id": "if19jMgA2V4d"
      }
    },
    {
      "cell_type": "code",
      "source": [
        "weight = float(input(\"Enter your weight in kg: \"))\n",
        "height = float(input(\"Enter your height in meters: \"))\n",
        "bmi = weight / (height ** 2)\n",
        "if bmi < 18.5:\n",
        "    print(\"Underweight\")\n",
        "    print(\"Please gain some weight\")\n",
        "\n",
        "elif 18.5 <= bmi < 24.9:\n",
        "    print(\"Normal weight\")\n",
        "    print(\"Keep up the good work\")\n",
        "\n",
        "elif 25 <= bmi < 29.9:\n",
        "    print(\"Overweight\")\n",
        "    print(\"Please lose some weight\")\n",
        "else:\n",
        "    print(\"Obese\")\n",
        "    print(\":( km kaah bhai :( \")"
      ],
      "metadata": {
        "colab": {
          "base_uri": "https://localhost:8080/"
        },
        "id": "zBEiayxF2bEh",
        "outputId": "4acdc223-915f-45f6-b309-0f986033aa39"
      },
      "execution_count": null,
      "outputs": [
        {
          "output_type": "stream",
          "name": "stdout",
          "text": [
            "Enter your weight in kg: 70\n",
            "Enter your height in meters: 171\n",
            "Underweight\n",
            "Please gain some weight\n"
          ]
        }
      ]
    }
  ]
}