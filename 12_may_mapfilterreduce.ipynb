{
  "nbformat": 4,
  "nbformat_minor": 0,
  "metadata": {
    "colab": {
      "provenance": [],
      "authorship_tag": "ABX9TyPn4M6k3bY0g9lkQ7CVP1MR",
      "include_colab_link": true
    },
    "kernelspec": {
      "name": "python3",
      "display_name": "Python 3"
    },
    "language_info": {
      "name": "python"
    }
  },
  "cells": [
    {
      "cell_type": "markdown",
      "metadata": {
        "id": "view-in-github",
        "colab_type": "text"
      },
      "source": [
        "<a href=\"https://colab.research.google.com/github/adityabisht13/Frisson_Assignment/blob/main/12_may_mapfilterreduce.ipynb\" target=\"_parent\"><img src=\"https://colab.research.google.com/assets/colab-badge.svg\" alt=\"Open In Colab\"/></a>"
      ]
    },
    {
      "cell_type": "markdown",
      "source": [
        "**Assignment_04**"
      ],
      "metadata": {
        "id": "1r6OAiRSfqyR"
      }
    },
    {
      "cell_type": "markdown",
      "source": [
        "**Map :-**"
      ],
      "metadata": {
        "id": "yEEkjeeefwvH"
      }
    },
    {
      "cell_type": "markdown",
      "source": [
        "1.Explain the purpose of the `map()` function in Python and provide an example of how it can be used to apply a function to each element of an iterable."
      ],
      "metadata": {
        "id": "r5yL96dcf1bU"
      }
    },
    {
      "cell_type": "code",
      "source": [
        "#Map function is used to assign an funtion to the every element of a of any interable. For example:\n",
        "a=['1','2','3','4','5']\n",
        "x=list(map(int,a))\n",
        "x\n"
      ],
      "metadata": {
        "colab": {
          "base_uri": "https://localhost:8080/"
        },
        "id": "hwgMFE8lf7T5",
        "outputId": "cc59b6d4-6826-44c8-b13b-442c6a7e90f5"
      },
      "execution_count": 4,
      "outputs": [
        {
          "output_type": "execute_result",
          "data": {
            "text/plain": [
              "[1, 2, 3, 4, 5]"
            ]
          },
          "metadata": {},
          "execution_count": 4
        }
      ]
    },
    {
      "cell_type": "markdown",
      "source": [
        "2.Write a Python program that uses the `map()` function to square each element of a list of numbers."
      ],
      "metadata": {
        "id": "8KmevyJxgFpl"
      }
    },
    {
      "cell_type": "code",
      "source": [
        "l=[1,2,3,4,5,6]\n",
        "result=list(map(lambda x:x*x,l))\n",
        "result"
      ],
      "metadata": {
        "colab": {
          "base_uri": "https://localhost:8080/"
        },
        "id": "R2DjbIw0gHBq",
        "outputId": "1eead326-c3a1-443f-8ef1-350c6d565841"
      },
      "execution_count": 3,
      "outputs": [
        {
          "output_type": "execute_result",
          "data": {
            "text/plain": [
              "[1, 4, 9, 16, 25, 36]"
            ]
          },
          "metadata": {},
          "execution_count": 3
        }
      ]
    },
    {
      "cell_type": "markdown",
      "source": [
        "3.How does the `map()` function differ from a list comprehension in Python, and when would you choose one over the other?"
      ],
      "metadata": {
        "id": "CJzz-6xDg5Uh"
      }
    },
    {
      "cell_type": "code",
      "source": [
        "'''List comprehension and map() both transform iterables but differ in syntax and performance.\n",
        "List comprehension is concise as the logic is applied in one line\n",
        "while map() applies a function to each item and returns an iterator and offering better memory efficiency for large datasets'''"
      ],
      "metadata": {
        "id": "1-uIQ0CFg-ne"
      },
      "execution_count": null,
      "outputs": []
    },
    {
      "cell_type": "markdown",
      "source": [
        "4.Create a Python program that uses the `map()` function to convert a list of names to uppercase."
      ],
      "metadata": {
        "id": "_cujX6Z8hRR3"
      }
    },
    {
      "cell_type": "code",
      "source": [
        "fruits=[\"adi\",\"bisht\",\"uk\"]\n",
        "a=list(map(lambda x: x.upper(),fruits))\n",
        "a"
      ],
      "metadata": {
        "colab": {
          "base_uri": "https://localhost:8080/"
        },
        "id": "zQznT3vYhXtz",
        "outputId": "c0fbb1ab-6030-4029-ccd1-88f048511acf"
      },
      "execution_count": 5,
      "outputs": [
        {
          "output_type": "execute_result",
          "data": {
            "text/plain": [
              "['ADI', 'BISHT', 'UK']"
            ]
          },
          "metadata": {},
          "execution_count": 5
        }
      ]
    },
    {
      "cell_type": "markdown",
      "source": [
        "5.Write a Python program that uses the `map()` function to calculate the length of each word in a list of strings."
      ],
      "metadata": {
        "id": "H6uGUGZZhuN0"
      }
    },
    {
      "cell_type": "code",
      "source": [
        "x=[\"FRISSON\",\"Aditya\",\"uk\",\"bisht\"]\n",
        "a=list(map(len,x))\n",
        "a"
      ],
      "metadata": {
        "colab": {
          "base_uri": "https://localhost:8080/"
        },
        "id": "FIHCkm6ChyVL",
        "outputId": "3812aae4-cfb2-4086-cbdb-0ec66ffc95ec"
      },
      "execution_count": 6,
      "outputs": [
        {
          "output_type": "execute_result",
          "data": {
            "text/plain": [
              "[7, 6, 2, 5]"
            ]
          },
          "metadata": {},
          "execution_count": 6
        }
      ]
    },
    {
      "cell_type": "markdown",
      "source": [
        "6.How can you use the `map()` function to apply a custom function to elements of multiple lists simultaneously in Python?"
      ],
      "metadata": {
        "id": "wkV1VDJUiDhs"
      }
    },
    {
      "cell_type": "code",
      "source": [
        "x=[1,2,3,4,5]\n",
        "y=[2,3,4,5,6]\n",
        "a=list(map(lambda b,c: b*c,x,y))\n",
        "a"
      ],
      "metadata": {
        "colab": {
          "base_uri": "https://localhost:8080/"
        },
        "id": "gLedtI4IiH78",
        "outputId": "082e62da-4a69-47d5-a633-96f73d484286"
      },
      "execution_count": 7,
      "outputs": [
        {
          "output_type": "execute_result",
          "data": {
            "text/plain": [
              "[2, 6, 12, 20, 30]"
            ]
          },
          "metadata": {},
          "execution_count": 7
        }
      ]
    },
    {
      "cell_type": "markdown",
      "source": [
        "7.Create a Python program that uses `map()` to convert a list of temperatures from Celsius to Fahrenheit."
      ],
      "metadata": {
        "id": "xBWYL68-iOTn"
      }
    },
    {
      "cell_type": "code",
      "source": [
        "a=[0,1,2,3,4,5]\n",
        "x=list(map(lambda c:(c*9/5)+32,a))\n",
        "x\n",
        ""
      ],
      "metadata": {
        "colab": {
          "base_uri": "https://localhost:8080/"
        },
        "id": "fFGZEIXyiTPE",
        "outputId": "e31bf659-359e-45ff-dbd1-f010a4b6f452"
      },
      "execution_count": 9,
      "outputs": [
        {
          "output_type": "execute_result",
          "data": {
            "text/plain": [
              "[32.0, 33.8, 35.6, 37.4, 39.2, 41.0]"
            ]
          },
          "metadata": {},
          "execution_count": 9
        }
      ]
    },
    {
      "cell_type": "markdown",
      "source": [
        "8.Write a Python program that uses the `map()` function to round each element of a list of floating-point numbers to the nearest integer."
      ],
      "metadata": {
        "id": "P20gl83zi8gJ"
      }
    },
    {
      "cell_type": "code",
      "source": [
        "a=[1.5,4.6,2.6,7.3,10.39999]\n",
        "x=list(map(round,a))\n",
        "x"
      ],
      "metadata": {
        "colab": {
          "base_uri": "https://localhost:8080/"
        },
        "id": "8-b_QOzIi_4l",
        "outputId": "089b2282-30c0-47c3-b020-505d0674bd16"
      },
      "execution_count": 10,
      "outputs": [
        {
          "output_type": "execute_result",
          "data": {
            "text/plain": [
              "[2, 5, 3, 7, 10]"
            ]
          },
          "metadata": {},
          "execution_count": 10
        }
      ]
    },
    {
      "cell_type": "markdown",
      "source": [
        "Reduce :-"
      ],
      "metadata": {
        "id": "trIfZbh7jDTi"
      }
    },
    {
      "cell_type": "markdown",
      "source": [
        "1.What is the `reduce()` function in Python, and what module should you import to use it? Provide an example of its basic usage."
      ],
      "metadata": {
        "id": "8GgW34IQjGI4"
      }
    },
    {
      "cell_type": "code",
      "source": [
        "'''Reduce() is a binary function (a function that takes two arguments) cumulatively to the items in an iterable,\n",
        "so as to reduce the iterable to a single value.we import reduce from functools library '''\n",
        "\n",
        "from functools import reduce\n",
        "l=[1,2,3,4,5,6]\n",
        "a = reduce(lambda x,y: x+y , l)\n",
        "a"
      ],
      "metadata": {
        "colab": {
          "base_uri": "https://localhost:8080/"
        },
        "id": "kz-_JOwzjMCG",
        "outputId": "555b9dc4-ea4a-40a7-be31-145cf0e731c5"
      },
      "execution_count": 11,
      "outputs": [
        {
          "output_type": "execute_result",
          "data": {
            "text/plain": [
              "21"
            ]
          },
          "metadata": {},
          "execution_count": 11
        }
      ]
    },
    {
      "cell_type": "markdown",
      "source": [
        "2.Write a Python program that uses the `reduce()` function to find the product of all elements in a list."
      ],
      "metadata": {
        "id": "WOiPGZq9jP6t"
      }
    },
    {
      "cell_type": "code",
      "source": [
        "l=[1,2,3,4,5]\n",
        "a = reduce(lambda x,y: x*y , l)\n",
        "a"
      ],
      "metadata": {
        "colab": {
          "base_uri": "https://localhost:8080/"
        },
        "id": "HXJ28TYvjVvq",
        "outputId": "608dd66b-de24-4ff2-f17b-22357995a1cc"
      },
      "execution_count": 12,
      "outputs": [
        {
          "output_type": "execute_result",
          "data": {
            "text/plain": [
              "120"
            ]
          },
          "metadata": {},
          "execution_count": 12
        }
      ]
    },
    {
      "cell_type": "markdown",
      "source": [
        "3.Create a Python program that uses `reduce()` to find the maximum element in a list of numbers."
      ],
      "metadata": {
        "id": "gUbTBFKkjZVI"
      }
    },
    {
      "cell_type": "code",
      "source": [
        "l=[1,2,3,4,5]\n",
        "a = reduce(max, l)\n",
        "a"
      ],
      "metadata": {
        "colab": {
          "base_uri": "https://localhost:8080/"
        },
        "id": "V0sGZ6-fjdrV",
        "outputId": "4baa2c92-cb96-4873-b3b2-860021c922c6"
      },
      "execution_count": 13,
      "outputs": [
        {
          "output_type": "execute_result",
          "data": {
            "text/plain": [
              "5"
            ]
          },
          "metadata": {},
          "execution_count": 13
        }
      ]
    },
    {
      "cell_type": "markdown",
      "source": [
        "4.How can you use the `reduce()` function to concatenate a list of strings into a single string?"
      ],
      "metadata": {
        "id": "fstaXwm_jhoc"
      }
    },
    {
      "cell_type": "code",
      "source": [
        "\n",
        "l=['A','B','C']\n",
        "a = reduce(lambda x,y: x+y, l)\n",
        "a\n",
        ""
      ],
      "metadata": {
        "colab": {
          "base_uri": "https://localhost:8080/",
          "height": 36
        },
        "id": "yzWBk9EPjmOo",
        "outputId": "b4265a57-a601-4720-886b-8e52ebdef2e5"
      },
      "execution_count": 14,
      "outputs": [
        {
          "output_type": "execute_result",
          "data": {
            "text/plain": [
              "'ABC'"
            ],
            "application/vnd.google.colaboratory.intrinsic+json": {
              "type": "string"
            }
          },
          "metadata": {},
          "execution_count": 14
        }
      ]
    },
    {
      "cell_type": "markdown",
      "source": [
        "5.Write a Python program that calculates the factorial of a number using the `reduce()` function."
      ],
      "metadata": {
        "id": "HU7REO4oj3SB"
      }
    },
    {
      "cell_type": "code",
      "source": [
        "n=int(input(\"enter a no.\"))\n",
        "fact =  reduce(lambda x,y : x*y , range(1,n+1))\n",
        "fact"
      ],
      "metadata": {
        "colab": {
          "base_uri": "https://localhost:8080/"
        },
        "id": "2ZHmKHsfj6Za",
        "outputId": "e6041efa-a662-44d6-cde5-ab1e6077277d"
      },
      "execution_count": 16,
      "outputs": [
        {
          "name": "stdout",
          "output_type": "stream",
          "text": [
            "enter a no.5\n"
          ]
        },
        {
          "output_type": "execute_result",
          "data": {
            "text/plain": [
              "120"
            ]
          },
          "metadata": {},
          "execution_count": 16
        }
      ]
    },
    {
      "cell_type": "markdown",
      "source": [
        "6.Create a Python program that uses `reduce()` to find the GCD (Greatest Common Divisor) of a list of numbers."
      ],
      "metadata": {
        "id": "X8LP9fNxkBau"
      }
    },
    {
      "cell_type": "code",
      "source": [
        "l=[48,72,120,24,36]\n",
        "from math import gcd\n",
        "reduce(gcd,l)"
      ],
      "metadata": {
        "colab": {
          "base_uri": "https://localhost:8080/"
        },
        "id": "OUFK315wkE2Q",
        "outputId": "6d5068bd-c523-42d2-d41a-d527de682e27"
      },
      "execution_count": 17,
      "outputs": [
        {
          "output_type": "execute_result",
          "data": {
            "text/plain": [
              "12"
            ]
          },
          "metadata": {},
          "execution_count": 17
        }
      ]
    },
    {
      "cell_type": "markdown",
      "source": [
        "7.Write a Python program that uses the `reduce()` function to find the sum of the digits of a given number."
      ],
      "metadata": {
        "id": "pK5u_3SvkKHr"
      }
    },
    {
      "cell_type": "code",
      "source": [
        "n=input(\"enter the no.\")\n",
        "reduce(lambda x,y: int(x)+int(y) , n)\n"
      ],
      "metadata": {
        "colab": {
          "base_uri": "https://localhost:8080/"
        },
        "id": "R2h7TVXUkOuP",
        "outputId": "4c1d7ba8-73ab-4445-e248-da94f8e55dea"
      },
      "execution_count": 23,
      "outputs": [
        {
          "name": "stdout",
          "output_type": "stream",
          "text": [
            "enter the no.123\n"
          ]
        },
        {
          "output_type": "execute_result",
          "data": {
            "text/plain": [
              "6"
            ]
          },
          "metadata": {},
          "execution_count": 23
        }
      ]
    },
    {
      "cell_type": "markdown",
      "source": [
        "Filter :-"
      ],
      "metadata": {
        "id": "_7vBHO-Okl2S"
      }
    },
    {
      "cell_type": "markdown",
      "source": [
        "1.Explain the purpose of the `filter()` function in Python and provide an example of how it can be used to filter elements from an iterable."
      ],
      "metadata": {
        "id": "pKsCv-aHkoQn"
      }
    },
    {
      "cell_type": "code",
      "source": [
        "''' The filter() function in Python is used to construct an iterator from elements of an iterable for which a function returns true.\n",
        " It essentially filters a sequence based on a given condition. The filter() function takes two arguments: a function and an iterable.\n",
        " The function is applied to each element in the iterable, and if the function returns True,\n",
        " the element is included in the resulting iterator. Otherwise, the element is excluded.'''\n",
        " #example\n",
        "a=[1,2,3,4,5,6,7,8]\n",
        "list(filter(lambda x:x%2==0,a))"
      ],
      "metadata": {
        "colab": {
          "base_uri": "https://localhost:8080/"
        },
        "id": "3JPx_q8QkrZS",
        "outputId": "b575e6c6-45d5-4526-a7bf-42297fbbe803"
      },
      "execution_count": 26,
      "outputs": [
        {
          "output_type": "execute_result",
          "data": {
            "text/plain": [
              "[2, 4, 6, 8]"
            ]
          },
          "metadata": {},
          "execution_count": 26
        }
      ]
    },
    {
      "cell_type": "markdown",
      "source": [
        "2.Write a Python program that uses the `filter()` function to select even numbers from a list of integers."
      ],
      "metadata": {
        "id": "xvsJP26NlFhe"
      }
    },
    {
      "cell_type": "code",
      "source": [
        "l=[1,2,3,4,5,6,7,8]\n",
        "list(filter(lambda x:x%2==0,l))"
      ],
      "metadata": {
        "colab": {
          "base_uri": "https://localhost:8080/"
        },
        "id": "-tEMeTILlMf5",
        "outputId": "46218fd5-9f69-4bf5-be56-7e4dda6aff9f"
      },
      "execution_count": 22,
      "outputs": [
        {
          "output_type": "execute_result",
          "data": {
            "text/plain": [
              "[2, 4, 6, 8]"
            ]
          },
          "metadata": {},
          "execution_count": 22
        }
      ]
    },
    {
      "cell_type": "markdown",
      "source": [
        "3.Create a Python program that uses the `filter()` function to select names that start with a specific letter from a list of strings."
      ],
      "metadata": {
        "id": "9aeV706imQR4"
      }
    },
    {
      "cell_type": "code",
      "source": [
        "a=['adi','frisson','bisht','almora']\n",
        "list(filter(lambda x:x.startswith('a'),a))"
      ],
      "metadata": {
        "colab": {
          "base_uri": "https://localhost:8080/"
        },
        "id": "sgaQHEWTmT9O",
        "outputId": "35a12798-ee7b-49df-daba-11449530172b"
      },
      "execution_count": 27,
      "outputs": [
        {
          "output_type": "execute_result",
          "data": {
            "text/plain": [
              "['adi', 'almora']"
            ]
          },
          "metadata": {},
          "execution_count": 27
        }
      ]
    },
    {
      "cell_type": "markdown",
      "source": [
        "4.Write a Python program that uses the `filter()` function to select prime numbers from a list of integers."
      ],
      "metadata": {
        "id": "BEdXS2KPnfOa"
      }
    },
    {
      "cell_type": "code",
      "source": [
        "l= [1,2,3,4,5,6,7,8]\n",
        "def is_prime(x):\n",
        "  if x<2:\n",
        "      return False\n",
        "  for i in range(2,x):\n",
        "    if x%i == 0:\n",
        "      return False\n",
        "  return True\n",
        "a = list(filter(is_prime,l))\n",
        "a"
      ],
      "metadata": {
        "colab": {
          "base_uri": "https://localhost:8080/"
        },
        "id": "WCuSbPpYnjKs",
        "outputId": "837f84a4-939a-4e64-aff4-e317c74eea41"
      },
      "execution_count": 43,
      "outputs": [
        {
          "output_type": "execute_result",
          "data": {
            "text/plain": [
              "[2, 3, 5, 7]"
            ]
          },
          "metadata": {},
          "execution_count": 43
        }
      ]
    },
    {
      "cell_type": "markdown",
      "source": [
        "5.How can you use the `filter()` function to remove None values from a list in Python?"
      ],
      "metadata": {
        "id": "IZRtyikgrgZO"
      }
    },
    {
      "cell_type": "code",
      "source": [
        "l=['adi',None,'bisht','uk',None]\n",
        "list(filter(lambda l:l if l!=None else None,l))"
      ],
      "metadata": {
        "colab": {
          "base_uri": "https://localhost:8080/"
        },
        "id": "qXPTqNZarlFG",
        "outputId": "a5a9779a-85d5-446f-b5a0-8e93a1d4b0c6"
      },
      "execution_count": 44,
      "outputs": [
        {
          "output_type": "execute_result",
          "data": {
            "text/plain": [
              "['adi', 'bisht', 'uk']"
            ]
          },
          "metadata": {},
          "execution_count": 44
        }
      ]
    },
    {
      "cell_type": "markdown",
      "source": [
        "6.Create a Python program that uses `filter()` to select words longer than a certain length from a list of strings."
      ],
      "metadata": {
        "id": "Gs9_U2qbr-wO"
      }
    },
    {
      "cell_type": "code",
      "source": [
        "l=['aditya','almora','uk','bisht']\n",
        "list(filter(lambda x:x if len(x)>=5 else None,l))"
      ],
      "metadata": {
        "colab": {
          "base_uri": "https://localhost:8080/"
        },
        "id": "nqkWDz4VsDv8",
        "outputId": "a189cbd2-1844-46a3-b721-93c01da8a99c"
      },
      "execution_count": 53,
      "outputs": [
        {
          "output_type": "execute_result",
          "data": {
            "text/plain": [
              "['aditya', 'almora', 'bisht']"
            ]
          },
          "metadata": {},
          "execution_count": 53
        }
      ]
    },
    {
      "cell_type": "markdown",
      "source": [
        "7.Write a Python program that uses the `filter()` function to select elements greater than a specified threshold from a list of values."
      ],
      "metadata": {
        "id": "bj-7boWutYOU"
      }
    },
    {
      "cell_type": "code",
      "source": [
        "l= [\"adi\",\"uk\",\"bisht\",\"uttrakhand\",\"almora\"]\n",
        "n=int(input(\"enter the length \"))\n",
        "a = list(filter(lambda x : x if len(x)>=n else None , l))\n",
        "a"
      ],
      "metadata": {
        "colab": {
          "base_uri": "https://localhost:8080/"
        },
        "id": "YmiK04r2tc33",
        "outputId": "4b2fa66e-7412-4557-f262-04d003be43f1"
      },
      "execution_count": 55,
      "outputs": [
        {
          "name": "stdout",
          "output_type": "stream",
          "text": [
            "enter the length 3\n"
          ]
        },
        {
          "output_type": "execute_result",
          "data": {
            "text/plain": [
              "['adi', 'bisht', 'uttrakhand', 'almora']"
            ]
          },
          "metadata": {},
          "execution_count": 55
        }
      ]
    }
  ]
}