{
  "nbformat": 4,
  "nbformat_minor": 0,
  "metadata": {
    "colab": {
      "provenance": [],
      "authorship_tag": "ABX9TyPNnTbS+ZAVGNA5eFKrDSwa",
      "include_colab_link": true
    },
    "kernelspec": {
      "name": "python3",
      "display_name": "Python 3"
    },
    "language_info": {
      "name": "python"
    }
  },
  "cells": [
    {
      "cell_type": "markdown",
      "metadata": {
        "id": "view-in-github",
        "colab_type": "text"
      },
      "source": [
        "<a href=\"https://colab.research.google.com/github/adityabisht13/Frisson_Assignment/blob/main/12_may_stats.ipynb\" target=\"_parent\"><img src=\"https://colab.research.google.com/assets/colab-badge.svg\" alt=\"Open In Colab\"/></a>"
      ]
    },
    {
      "cell_type": "markdown",
      "source": [
        "**stats_assignment-01**"
      ],
      "metadata": {
        "id": "3aG_LpI3roO1"
      }
    },
    {
      "cell_type": "markdown",
      "source": [
        "Q= Generate a list of 100 integers containing values between 90 to 130 and store it in the variable `int_list`. After generating the list, find the following:"
      ],
      "metadata": {
        "id": "FboCxuAGrtLW"
      }
    },
    {
      "cell_type": "code",
      "source": [
        "import random\n",
        "a=[]\n",
        "for i in range(0,100):\n",
        "  a.append(random.randint(90,131))\n",
        "print(a,end=\"\")"
      ],
      "metadata": {
        "colab": {
          "base_uri": "https://localhost:8080/"
        },
        "id": "9E501Xagr1f7",
        "outputId": "df43df2f-05d1-44d2-a270-8fbe6b5828a6"
      },
      "execution_count": 6,
      "outputs": [
        {
          "output_type": "stream",
          "name": "stdout",
          "text": [
            "[114, 96, 112, 113, 121, 122, 125, 98, 124, 110, 115, 127, 103, 92, 118, 107, 116, 120, 96, 127, 116, 123, 110, 105, 104, 94, 108, 115, 92, 107, 100, 123, 130, 113, 109, 100, 118, 101, 120, 113, 118, 92, 123, 93, 112, 102, 119, 109, 126, 116, 125, 93, 129, 105, 96, 121, 98, 99, 129, 99, 103, 120, 125, 98, 113, 122, 129, 108, 109, 102, 107, 107, 91, 131, 106, 91, 91, 131, 102, 101, 113, 99, 105, 115, 102, 99, 99, 97, 99, 120, 113, 112, 127, 128, 108, 101, 119, 97, 95, 129]"
          ]
        }
      ]
    },
    {
      "cell_type": "markdown",
      "source": [
        "(i) Write a Python function to calculate the mean of a given list of numbers. Create a function to find the median of a list of numbers.      "
      ],
      "metadata": {
        "id": "wnwbgLDorwDw"
      }
    },
    {
      "cell_type": "code",
      "source": [
        "def mean(list):\n",
        "    return sum(list)/len(list)\n",
        "print(f'the mean is {mean(a)}')\n",
        "\n",
        "def median(list):\n",
        "  if len(list)/2 != 0:\n",
        "    return list[len(list)//2]\n",
        "  else:\n",
        "    avg= list[len(list)//2] + list[(len(list)//2)+1]\n",
        "    return avg/2\n",
        "print(f'the median is {median(a)}')"
      ],
      "metadata": {
        "colab": {
          "base_uri": "https://localhost:8080/"
        },
        "id": "Wlp5CMJXsaDB",
        "outputId": "37106df3-bde0-46ba-bef4-3bb3a7673846"
      },
      "execution_count": 7,
      "outputs": [
        {
          "output_type": "stream",
          "name": "stdout",
          "text": [
            "the mean is 110.25\n",
            "the median is 125\n"
          ]
        }
      ]
    },
    {
      "cell_type": "markdown",
      "source": [
        "(ii) Develop a program to compute the mode of a list of integers.  "
      ],
      "metadata": {
        "id": "GB8-cCCws2pE"
      }
    },
    {
      "cell_type": "code",
      "source": [
        "def mode(list):\n",
        "  count = 0\n",
        "  for i in a:\n",
        "    if count==0:\n",
        "      count = a.count(i)\n",
        "    if a.count(i)>count:\n",
        "      count = a.count(i)\n",
        "      b = i\n",
        "  return f'the Mode is {b} and count is {count}'\n",
        "\n",
        "mode(a)"
      ],
      "metadata": {
        "colab": {
          "base_uri": "https://localhost:8080/",
          "height": 36
        },
        "id": "dOsts2ITs3p3",
        "outputId": "5fed5eae-8aae-40c6-eb6e-bb601650f901"
      },
      "execution_count": 8,
      "outputs": [
        {
          "output_type": "execute_result",
          "data": {
            "text/plain": [
              "'the Mode is 113 and count is 6'"
            ],
            "application/vnd.google.colaboratory.intrinsic+json": {
              "type": "string"
            }
          },
          "metadata": {},
          "execution_count": 8
        }
      ]
    },
    {
      "cell_type": "markdown",
      "source": [
        "(iii) Implement a function to calculate the weighted mean of a list of values and their corresponding weights."
      ],
      "metadata": {
        "id": "3DBcV-JRtCf_"
      }
    },
    {
      "cell_type": "code",
      "source": [
        "dict1 = {}\n",
        "for i in a:\n",
        "  if i not in dict1:\n",
        "    dict1[i] = a.count(i)\n",
        "\n",
        "ksum = 0\n",
        "vsum = 0\n",
        "for key,value in dict1.items():\n",
        "  ksum += key*value\n",
        "  vsum += value\n",
        "wm = ksum/vsum\n",
        "print(f'the weghted mean is : {wm}')"
      ],
      "metadata": {
        "colab": {
          "base_uri": "https://localhost:8080/"
        },
        "id": "2kp4HpWGtG3C",
        "outputId": "b0552eaa-8c10-41ba-94f0-73a6c1e80392"
      },
      "execution_count": 9,
      "outputs": [
        {
          "output_type": "stream",
          "name": "stdout",
          "text": [
            "the weghted mean is : 110.25\n"
          ]
        }
      ]
    },
    {
      "cell_type": "markdown",
      "source": [
        "(iv) Write a Python function to find the geometric mean of a list of positive numbers."
      ],
      "metadata": {
        "id": "NrNGHdV8uOJZ"
      }
    },
    {
      "cell_type": "code",
      "source": [
        "def geometric_mean(a):\n",
        "  product = 1\n",
        "  for num in a:\n",
        "       product *= num\n",
        "\n",
        "  return product ** (1 / len(a))\n",
        "print(f'geometric means is {geometric_mean(a)}')"
      ],
      "metadata": {
        "colab": {
          "base_uri": "https://localhost:8080/"
        },
        "id": "gAkfE5JnuRO6",
        "outputId": "5c27a016-1de9-4b86-fe8d-5ab68edbdbd1"
      },
      "execution_count": 10,
      "outputs": [
        {
          "output_type": "stream",
          "name": "stdout",
          "text": [
            "geometric means is 109.64763050947623\n"
          ]
        }
      ]
    },
    {
      "cell_type": "markdown",
      "source": [
        "(v) Create a program to calculate the harmonic mean of a list of values."
      ],
      "metadata": {
        "id": "RKs-M6Kbv6aX"
      }
    },
    {
      "cell_type": "code",
      "source": [
        "def harmonic_mean(a):\n",
        "  s = 0\n",
        "  for i in a:\n",
        "    s += 1/i\n",
        "  return len(a)/s\n",
        "print(f'harmonic mean is {harmonic_mean(a)}')"
      ],
      "metadata": {
        "colab": {
          "base_uri": "https://localhost:8080/"
        },
        "id": "vaQwY5AUv9yY",
        "outputId": "fddde823-68db-433a-b9db-139afc8453be"
      },
      "execution_count": 11,
      "outputs": [
        {
          "output_type": "stream",
          "name": "stdout",
          "text": [
            "harmonic mean is 109.0466857688794\n"
          ]
        }
      ]
    },
    {
      "cell_type": "markdown",
      "source": [
        "(vi) Build a function to determine the midrange of a list of numbers (average of the minimum and maximum)."
      ],
      "metadata": {
        "id": "8-4xjwQdwZsE"
      }
    },
    {
      "cell_type": "code",
      "source": [
        "def midrange(a):\n",
        "    minimum = min(a)\n",
        "    maximum = max(a)\n",
        "    return (minimum + maximum) / 2\n",
        "print(f'midrange is {midrange(a)}')"
      ],
      "metadata": {
        "colab": {
          "base_uri": "https://localhost:8080/"
        },
        "id": "QZkc1DeIwaQq",
        "outputId": "d899c45a-120f-4f6c-b9b1-269287af2021"
      },
      "execution_count": 12,
      "outputs": [
        {
          "output_type": "stream",
          "name": "stdout",
          "text": [
            "midrange is 111.0\n"
          ]
        }
      ]
    },
    {
      "cell_type": "markdown",
      "source": [
        "(vii) Implement a Python program to find the trimmed mean of a list, excluding a certain percentage of outliers."
      ],
      "metadata": {
        "id": "nx1mBUNiwxMo"
      }
    },
    {
      "cell_type": "code",
      "source": [
        "def trim_mean(list):\n",
        "  list.sort()\n",
        "  t = int(input('enter the trim percent: '))\n",
        "  sum =0\n",
        "  tp = (t//len(list)) *100\n",
        "\n",
        "  for i in range(0,tp+1):\n",
        "    list.remove(list[i])\n",
        "    list.pop()\n",
        "  for i in list:\n",
        "    sum += i\n",
        "  return sum/len(list)\n",
        "\n",
        "print(f'trim mean is {trim_mean(a)}')"
      ],
      "metadata": {
        "colab": {
          "base_uri": "https://localhost:8080/"
        },
        "id": "WAAmxcZWw0jF",
        "outputId": "c857df62-9f3c-45a8-d8dd-656bd1407378"
      },
      "execution_count": 16,
      "outputs": [
        {
          "output_type": "stream",
          "name": "stdout",
          "text": [
            "enter the trim percent: 10\n",
            "trim mean is 109.44565217391305\n"
          ]
        }
      ]
    }
  ]
}