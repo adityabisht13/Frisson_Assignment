{
  "nbformat": 4,
  "nbformat_minor": 0,
  "metadata": {
    "colab": {
      "provenance": [],
      "authorship_tag": "ABX9TyNuqbPJevfYeaLmMGse5I1Q",
      "include_colab_link": true
    },
    "kernelspec": {
      "name": "python3",
      "display_name": "Python 3"
    },
    "language_info": {
      "name": "python"
    }
  },
  "cells": [
    {
      "cell_type": "markdown",
      "metadata": {
        "id": "view-in-github",
        "colab_type": "text"
      },
      "source": [
        "<a href=\"https://colab.research.google.com/github/adityabisht13/Frisson_Assignment/blob/main/08_may_Passwordchecker.ipynb\" target=\"_parent\"><img src=\"https://colab.research.google.com/assets/colab-badge.svg\" alt=\"Open In Colab\"/></a>"
      ]
    },
    {
      "cell_type": "markdown",
      "source": [
        "17.Accept a string as input. Your task is to determine if the input string is a valid password or not.\n",
        "For a string to be a valid password, it must satisfy all the conditions given below:\n",
        "\n",
        "1.It should have at least 8 and at most 32 characters\n",
        "\n",
        "2.It should start with an uppercase or lowercase letter\n",
        "\n",
        "3.It should not have any of these characters: / \\ = ' \"\n",
        "\n",
        "4.It should not have spaces\n",
        "\n",
        "It could have any character that is not mentioned in the list of characters to be avoided (points 3 and 4)."
      ],
      "metadata": {
        "id": "bW6uQM_dyjRU"
      }
    },
    {
      "cell_type": "code",
      "source": [
        "import random\n",
        "import string\n",
        "def suggest_password():\n",
        "    while True:                                                   #asciiletter is for getting letter a to z or A TO Z and digits for getiing number in string\n",
        "      a=random.choices(string.ascii_letters + string.digits, k=8) #k is for key how many charcter you want\n",
        "      a=''.join(a)\n",
        "      if a[0].isalpha(): #it return that password that start with alphabet\n",
        "         return(a)\n",
        "\n",
        "\n",
        "def check_password(pass_word):\n",
        "  '''\n",
        "pass_word -> for taking input as password\n",
        "\n",
        "1.It should have at least 8 and at most 32 characters\n",
        "\n",
        "2.It should start with an uppercase or lowercase letter\n",
        "\n",
        "3.It should not have any of these characters: / \\ = ' \"\n",
        "\n",
        "4.It should not have spaces\n",
        "\n",
        "(It could have any character that is not mentioned in the list of characters to be avoided (points 3 and 4).)\n",
        "'''\n",
        "  if not (8<=len(pass_word)<=32):\n",
        "    return \"password should have minimum 8 character or maximum 32 character and suggested password is \" + suggest_password() + ' or ' +suggest_password()\n",
        "  if not pass_word[0].isalpha():\n",
        "    return \"use alphabet as first character and suggested password is \" + suggest_password() + ' or ' +suggest_password()\n",
        "  if '/'  in pass_word or '\\\\'  in pass_word or '='  in pass_word or \"'\"  in pass_word or '\"'  in pass_word or ' ' in pass_word:\n",
        "    return \"remove special character '/\\=\\\" and suggested password is \" + suggest_password() + ' or ' +suggest_password()\n",
        "  else:\n",
        "    return \"valid password \"\n",
        "pass_word=input(\"enter a password: \")\n",
        "check_password(pass_word)\n"
      ],
      "metadata": {
        "colab": {
          "base_uri": "https://localhost:8080/",
          "height": 54
        },
        "id": "4Qy5D53Byk24",
        "outputId": "75f31de7-40be-465a-92b4-608ba4d7d9fc"
      },
      "execution_count": null,
      "outputs": [
        {
          "name": "stdout",
          "output_type": "stream",
          "text": [
            "enter a password: asddf=1234\n"
          ]
        },
        {
          "output_type": "execute_result",
          "data": {
            "text/plain": [
              "'remove special character \\'/\\\\=\" and suggested password is aLdKc1RD or yRRbdv1Z'"
            ],
            "application/vnd.google.colaboratory.intrinsic+json": {
              "type": "string"
            }
          },
          "metadata": {},
          "execution_count": 12
        }
      ]
    }
  ]
}